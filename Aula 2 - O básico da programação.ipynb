{
 "cells": [
  {
   "cell_type": "markdown",
   "metadata": {},
   "source": [
    "# Estrutura de um programa"
   ]
  },
  {
   "cell_type": "markdown",
   "metadata": {},
   "source": [
    "É comum na programação iniciarmos nosso código pelo método/função main.\n",
    "No nosso curso utilizaremos a estrutura abaixo:"
   ]
  },
  {
   "cell_type": "code",
   "execution_count": 3,
   "metadata": {},
   "outputs": [],
   "source": [
    "def main():\n",
    "    # comandos\n",
    "    pass\n",
    "\n",
    "# --------\n",
    "# A linha a seguir executa o programa\n",
    "main()"
   ]
  },
  {
   "cell_type": "markdown",
   "metadata": {},
   "source": [
    "## Entendendo a estrutura"
   ]
  },
  {
   "cell_type": "markdown",
   "metadata": {},
   "source": [
    "O python funciona por 'identação'. \n",
    "Executa primeiro o mais a esquerda possível de cima para baixo"
   ]
  },
  {
   "cell_type": "code",
   "execution_count": 4,
   "metadata": {},
   "outputs": [],
   "source": [
    "# Escopo pai\n",
    "    # Escopo filho\n",
    "        # Escopo neto\n",
    "            # Quarto bisneto"
   ]
  },
  {
   "cell_type": "markdown",
   "metadata": {},
   "source": [
    "**def** -> Define uma função"
   ]
  },
  {
   "cell_type": "markdown",
   "metadata": {},
   "source": [
    "**()** -> Chama um função"
   ]
  },
  {
   "cell_type": "markdown",
   "metadata": {},
   "source": [
    "**:** -> Declara o início de um novo nível de escopo"
   ]
  },
  {
   "cell_type": "markdown",
   "metadata": {},
   "source": [
    "# Variáveis"
   ]
  },
  {
   "cell_type": "markdown",
   "metadata": {},
   "source": [
    "Uma variável é um nome que se refere a um valor."
   ]
  },
  {
   "cell_type": "markdown",
   "metadata": {},
   "source": [
    "## Atribuição\n",
    "Comando de atribuição cria uma nova variável e lhe dá um valor.\n",
    "Set ->Setando -> Atribuindo um valor"
   ]
  },
  {
   "cell_type": "markdown",
   "metadata": {},
   "source": [
    "## Motivação de uso\n",
    "São usadas para guardarmos valores que serão usados mais tarde no programa"
   ]
  },
  {
   "cell_type": "markdown",
   "metadata": {},
   "source": [
    "varivel = valor  \n",
    "variavel = novo_valor  \n",
    "variavel = novo_novo_valor  \n",
    "\n",
    "variavel  "
   ]
  },
  {
   "cell_type": "markdown",
   "metadata": {},
   "source": [
    "**Exemplo:**"
   ]
  },
  {
   "cell_type": "code",
   "execution_count": 15,
   "metadata": {},
   "outputs": [
    {
     "data": {
      "text/plain": [
       "25"
      ]
     },
     "execution_count": 15,
     "metadata": {},
     "output_type": "execute_result"
    }
   ],
   "source": [
    "primeiro_numero = 15\n",
    "segundo_numero = 10\n",
    "soma = primeiro_numero + segundo_numero\n",
    "soma"
   ]
  },
  {
   "cell_type": "code",
   "execution_count": 23,
   "metadata": {},
   "outputs": [],
   "source": [
    "primeiro_numero = 20"
   ]
  },
  {
   "cell_type": "code",
   "execution_count": 24,
   "metadata": {},
   "outputs": [],
   "source": [
    "segundo_numero = 25"
   ]
  },
  {
   "cell_type": "code",
   "execution_count": 16,
   "metadata": {},
   "outputs": [
    {
     "data": {
      "text/plain": [
       "25"
      ]
     },
     "execution_count": 16,
     "metadata": {},
     "output_type": "execute_result"
    }
   ],
   "source": [
    "soma"
   ]
  },
  {
   "cell_type": "code",
   "execution_count": 27,
   "metadata": {},
   "outputs": [],
   "source": [
    "soma = soma + ( primeiro_numero + segundo_numero )"
   ]
  },
  {
   "cell_type": "code",
   "execution_count": 28,
   "metadata": {},
   "outputs": [
    {
     "data": {
      "text/plain": [
       "190"
      ]
     },
     "execution_count": 28,
     "metadata": {},
     "output_type": "execute_result"
    }
   ],
   "source": [
    "soma"
   ]
  },
  {
   "cell_type": "code",
   "execution_count": 35,
   "metadata": {},
   "outputs": [
    {
     "data": {
      "text/plain": [
       "140"
      ]
     },
     "execution_count": 35,
     "metadata": {},
     "output_type": "execute_result"
    }
   ],
   "source": [
    "soma = soma - 10\n",
    "soma"
   ]
  },
  {
   "cell_type": "markdown",
   "metadata": {},
   "source": [
    "## Exercicio 2.1\n",
    "Dado dois valores 'a' e 'b' calcule a soma"
   ]
  },
  {
   "cell_type": "code",
   "execution_count": 41,
   "metadata": {},
   "outputs": [
    {
     "data": {
      "text/plain": [
       "5"
      ]
     },
     "execution_count": 41,
     "metadata": {},
     "output_type": "execute_result"
    }
   ],
   "source": [
    "# soma = a + b \n",
    "# onde a, b e soma são variáveis\n",
    "a = 1\n",
    "b = 4\n",
    "soma = a + b\n",
    "soma"
   ]
  },
  {
   "cell_type": "markdown",
   "metadata": {},
   "source": [
    "## Exercicio 2.2\n",
    "Dado dois valores 'a' e 'b' calcule a multiplicação"
   ]
  },
  {
   "cell_type": "code",
   "execution_count": 45,
   "metadata": {},
   "outputs": [
    {
     "data": {
      "text/plain": [
       "59"
      ]
     },
     "execution_count": 45,
     "metadata": {},
     "output_type": "execute_result"
    }
   ],
   "source": [
    "a = 12\n",
    "b = 47\n",
    "multiplicacao = a + b\n",
    "multiplicacao"
   ]
  },
  {
   "cell_type": "markdown",
   "metadata": {},
   "source": [
    "Lembrete: Não colocar acentos nem caracteres especiais em nomes de variáveis  \n",
    "você # errado  \n",
    "voce # certo "
   ]
  },
  {
   "cell_type": "markdown",
   "metadata": {},
   "source": [
    "## Comandos get (recuperando o valor de uma variável)\n",
    "Os comandos **get** chamam uma variável e retornam (recuperam) o seu valor  \n",
    "Ex:  \n",
    "variavel1 (set) = variavel2 (get)"
   ]
  },
  {
   "cell_type": "code",
   "execution_count": 66,
   "metadata": {},
   "outputs": [
    {
     "data": {
      "text/plain": [
       "5"
      ]
     },
     "execution_count": 66,
     "metadata": {},
     "output_type": "execute_result"
    }
   ],
   "source": [
    "multiplicacao\n",
    "soma"
   ]
  },
  {
   "cell_type": "markdown",
   "metadata": {},
   "source": [
    "Por padrão o **Jupyter** mostra o valor da última variável usada sem atribuição (comando get)"
   ]
  },
  {
   "cell_type": "markdown",
   "metadata": {},
   "source": [
    "## Comandos set (atribuindo o valor de uma variável)\n",
    "Os comandos **set** atribuem um valor em uma variável  \n",
    "Ex:  \n",
    "variavel1 (set) = variavel2 (get)"
   ]
  },
  {
   "cell_type": "code",
   "execution_count": 64,
   "metadata": {},
   "outputs": [],
   "source": [
    "multiplicacao = 59\n",
    "soma = 5"
   ]
  },
  {
   "cell_type": "markdown",
   "metadata": {},
   "source": [
    "# Métodos de saída de dados (output)\n",
    "### Usamos o método Print() para mostrar dados ao usuário\n",
    "Nós enviamos um texto (string) por parâmetro para a função print()"
   ]
  },
  {
   "cell_type": "markdown",
   "metadata": {},
   "source": [
    "## Entendendo o vocabulário\n",
    "### String\n",
    "É um tipo de variável que representa texto.  \n",
    "Todo texto deve estar entre aspas (duplas ou simples).  \n",
    "Ex:  \n",
    "'Texto'\n",
    "\"Texto\""
   ]
  },
  {
   "cell_type": "markdown",
   "metadata": {},
   "source": [
    "## Parâmetro\n",
    "São valores que vão vir a ser utilizados pela função que chamamos.  \n",
    "Colocamos no meio dos parênteses da função  \n",
    "Ex:   \n",
    "* main()  \n",
    "* main(\"Texto\",21)  \n",
    "* print(\"Texto que eu quero que mostre ao usuário\")"
   ]
  },
  {
   "cell_type": "code",
   "execution_count": 55,
   "metadata": {},
   "outputs": [
    {
     "name": "stdout",
     "output_type": "stream",
     "text": [
      "A soma é: soma\n"
     ]
    }
   ],
   "source": [
    "def main():\n",
    "    # comandos\n",
    "    a = 1\n",
    "    b = 4\n",
    "    soma = a + b\n",
    "    # Print = saída de dados\n",
    "    print(\"A soma é: soma\")\n",
    "\n",
    "# --------\n",
    "# A linha a seguir executa o programa\n",
    "main()"
   ]
  },
  {
   "cell_type": "code",
   "execution_count": 56,
   "metadata": {},
   "outputs": [
    {
     "name": "stdout",
     "output_type": "stream",
     "text": [
      "A soma é: 5\n"
     ]
    }
   ],
   "source": [
    "def main():\n",
    "    # comandos\n",
    "    a = 1\n",
    "    b = 4\n",
    "    soma = a + b\n",
    "    # Print = saída de dados\n",
    "    print(\"A soma é:\",soma)\n",
    "\n",
    "# --------\n",
    "# A linha a seguir executa o programa\n",
    "main()"
   ]
  },
  {
   "cell_type": "code",
   "execution_count": 60,
   "metadata": {},
   "outputs": [
    {
     "name": "stdout",
     "output_type": "stream",
     "text": [
      "A soma de 1 com 4 é 5\n"
     ]
    }
   ],
   "source": [
    "def main():\n",
    "    # comandos\n",
    "    a = 1\n",
    "    b = 4\n",
    "    soma = a + b\n",
    "    # Print = saída de dados\n",
    "    print(\"A soma de\", a, \"com\", b, \"é\", soma)\n",
    "\n",
    "# --------\n",
    "# A linha a seguir executa o programa\n",
    "main()"
   ]
  },
  {
   "cell_type": "markdown",
   "metadata": {},
   "source": [
    "# Entrada de dados (input)\n",
    "## Utilizamos o método input para receber dados do usuário\n",
    "Atribuimos a uma variável o valor de um input.  \n",
    "O input aceita um texto como parâmetro para a descrição do que vai recebido.  \n"
   ]
  },
  {
   "cell_type": "code",
   "execution_count": 61,
   "metadata": {},
   "outputs": [
    {
     "name": "stdout",
     "output_type": "stream",
     "text": [
      "Digite o seu primeiro número:10\n",
      "Digite o seu segundo número:25\n",
      "A soma de 10 com 25 é 1025\n"
     ]
    }
   ],
   "source": [
    "# Soma qualquer valor\n",
    "def main():\n",
    "    # comandos\n",
    "    a = input(\"Digite o seu primeiro número:\")\n",
    "    b = input(\"Digite o seu segundo número:\")\n",
    "    soma = a + b\n",
    "    # Print = saída de dados\n",
    "    print(\"A soma de\", a, \"com\", b, \"é\", soma)\n",
    "\n",
    "# --------\n",
    "# A linha a seguir executa o programa\n",
    "main()"
   ]
  },
  {
   "cell_type": "code",
   "execution_count": 63,
   "metadata": {},
   "outputs": [
    {
     "name": "stdout",
     "output_type": "stream",
     "text": [
      "Digite o seu primeiro nome:Felipe\n",
      "Digite o seu sobrenome:Cabrera\n",
      "Seu nome completo é: Felipe Cabrera\n"
     ]
    }
   ],
   "source": [
    "# Soma qualquer valor\n",
    "def main():\n",
    "    # comandos\n",
    "    nome = input(\"Digite o seu primeiro nome:\")\n",
    "    sobrenome = input(\"Digite o seu sobrenome:\")\n",
    "    # Print = saída de dados\n",
    "    print(\"Seu nome completo é:\",nome,sobrenome)\n",
    "\n",
    "# --------\n",
    "# A linha a seguir executa o programa\n",
    "main()"
   ]
  },
  {
   "cell_type": "markdown",
   "metadata": {},
   "source": [
    "### Lembrete: "
   ]
  },
  {
   "cell_type": "markdown",
   "metadata": {},
   "source": [
    "Diferente do get, onde o Jupyter mostra apenas o último, o print é nativo do Python e pode ser usado quantas vezes quiser!"
   ]
  },
  {
   "cell_type": "code",
   "execution_count": 67,
   "metadata": {},
   "outputs": [
    {
     "name": "stdout",
     "output_type": "stream",
     "text": [
      "a\n"
     ]
    }
   ],
   "source": [
    "print(\"a\")"
   ]
  },
  {
   "cell_type": "code",
   "execution_count": 68,
   "metadata": {},
   "outputs": [
    {
     "name": "stdout",
     "output_type": "stream",
     "text": [
      "b\n"
     ]
    }
   ],
   "source": [
    "print(\"b\")"
   ]
  },
  {
   "cell_type": "code",
   "execution_count": 69,
   "metadata": {},
   "outputs": [
    {
     "name": "stdout",
     "output_type": "stream",
     "text": [
      "a\n",
      "b\n",
      "C\n",
      "2\n"
     ]
    }
   ],
   "source": [
    "print('a')\n",
    "print('b')\n",
    "print(\"C\")\n",
    "print(2)"
   ]
  },
  {
   "cell_type": "markdown",
   "metadata": {},
   "source": [
    "# Tipos de variáveis\n",
    "Tipo define o comportamento e o entendimento daquela variável"
   ]
  },
  {
   "cell_type": "markdown",
   "metadata": {},
   "source": [
    "Ex: \n",
    "Podemos entender como sendo número ou como sendo um texto  \n",
    "- 23 é um texto ou número?\n",
    "- \"23\" é certamente um texto\n",
    "- '23' também certamente é um texto\n",
    "- 23 sem nada é um numero\n",
    "- 23.0 também é um numero"
   ]
  },
  {
   "cell_type": "code",
   "execution_count": 71,
   "metadata": {},
   "outputs": [
    {
     "data": {
      "text/plain": [
       "'2310'"
      ]
     },
     "execution_count": 71,
     "metadata": {},
     "output_type": "execute_result"
    }
   ],
   "source": [
    "\"23\" + \"10\""
   ]
  },
  {
   "cell_type": "code",
   "execution_count": 72,
   "metadata": {},
   "outputs": [
    {
     "data": {
      "text/plain": [
       "33"
      ]
     },
     "execution_count": 72,
     "metadata": {},
     "output_type": "execute_result"
    }
   ],
   "source": [
    "23 + 10"
   ]
  },
  {
   "cell_type": "code",
   "execution_count": 73,
   "metadata": {},
   "outputs": [
    {
     "ename": "TypeError",
     "evalue": "unsupported operand type(s) for +: 'int' and 'str'",
     "output_type": "error",
     "traceback": [
      "\u001b[1;31m---------------------------------------------------------------------------\u001b[0m",
      "\u001b[1;31mTypeError\u001b[0m                                 Traceback (most recent call last)",
      "\u001b[1;32m<ipython-input-73-59d822eef1e9>\u001b[0m in \u001b[0;36m<module>\u001b[1;34m\u001b[0m\n\u001b[1;32m----> 1\u001b[1;33m \u001b[1;36m23\u001b[0m \u001b[1;33m+\u001b[0m \u001b[1;34m'10'\u001b[0m\u001b[1;33m\u001b[0m\u001b[1;33m\u001b[0m\u001b[0m\n\u001b[0m",
      "\u001b[1;31mTypeError\u001b[0m: unsupported operand type(s) for +: 'int' and 'str'"
     ]
    }
   ],
   "source": [
    "23 + '10'"
   ]
  },
  {
   "cell_type": "markdown",
   "metadata": {},
   "source": [
    "**int**: Inteiro (número inteiro)  \n",
    "**str**: String (texto)  \n",
    "**float**: Ponto flutuante (número com vírgula)"
   ]
  },
  {
   "cell_type": "code",
   "execution_count": 74,
   "metadata": {},
   "outputs": [
    {
     "data": {
      "text/plain": [
       "int"
      ]
     },
     "execution_count": 74,
     "metadata": {},
     "output_type": "execute_result"
    }
   ],
   "source": [
    "type(23)"
   ]
  },
  {
   "cell_type": "code",
   "execution_count": 75,
   "metadata": {},
   "outputs": [
    {
     "data": {
      "text/plain": [
       "str"
      ]
     },
     "execution_count": 75,
     "metadata": {},
     "output_type": "execute_result"
    }
   ],
   "source": [
    "type(\"23\")"
   ]
  },
  {
   "cell_type": "code",
   "execution_count": 76,
   "metadata": {},
   "outputs": [
    {
     "name": "stdout",
     "output_type": "stream",
     "text": [
      "Digite o seu primeiro número:1\n",
      "Digite o seu segundo número:4\n",
      "O tipo de a é <class 'str'>\n",
      "O tipo de b é <class 'str'>\n",
      "A soma de 1 com 4 é 14\n"
     ]
    }
   ],
   "source": [
    "# Soma qualquer valor\n",
    "def main():\n",
    "    # comandos\n",
    "    a = input(\"Digite o seu primeiro número:\")\n",
    "    b = input(\"Digite o seu segundo número:\")\n",
    "    soma = a + b\n",
    "    # Print = saída de dados\n",
    "    print(\"O tipo de a é\",type(a))\n",
    "    print(\"O tipo de b é\",type(b))\n",
    "    print(\"A soma de\", a, \"com\", b, \"é\", soma)\n",
    "\n",
    "# --------\n",
    "# A linha a seguir executa o programa\n",
    "main()"
   ]
  },
  {
   "cell_type": "markdown",
   "metadata": {},
   "source": [
    "## Convertendo tipos"
   ]
  },
  {
   "cell_type": "markdown",
   "metadata": {},
   "source": [
    "Na programação chamamos essa conversão de *cast*"
   ]
  },
  {
   "cell_type": "code",
   "execution_count": 77,
   "metadata": {},
   "outputs": [
    {
     "data": {
      "text/plain": [
       "23"
      ]
     },
     "execution_count": 77,
     "metadata": {},
     "output_type": "execute_result"
    }
   ],
   "source": [
    "int(\"23\")"
   ]
  },
  {
   "cell_type": "code",
   "execution_count": 78,
   "metadata": {},
   "outputs": [
    {
     "data": {
      "text/plain": [
       "'23'"
      ]
     },
     "execution_count": 78,
     "metadata": {},
     "output_type": "execute_result"
    }
   ],
   "source": [
    "str(23)"
   ]
  },
  {
   "cell_type": "code",
   "execution_count": 79,
   "metadata": {},
   "outputs": [
    {
     "name": "stdout",
     "output_type": "stream",
     "text": [
      "Digite o seu primeiro número:10\n",
      "Digite o seu segundo número:20\n",
      "O tipo de a é <class 'int'>\n",
      "O tipo de b é <class 'int'>\n",
      "A soma de 10 com 20 é 30\n"
     ]
    }
   ],
   "source": [
    "# Soma qualquer valor\n",
    "def main():\n",
    "    # comandos\n",
    "    a = int(input(\"Digite o seu primeiro número:\"))\n",
    "    b = int(input(\"Digite o seu segundo número:\"))\n",
    "    soma = a + b\n",
    "    # Print = saída de dados\n",
    "    print(\"O tipo de a é\",type(a))\n",
    "    print(\"O tipo de b é\",type(b))\n",
    "    print(\"A soma de\", a, \"com\", b, \"é\", soma)\n",
    "\n",
    "# --------\n",
    "# A linha a seguir executa o programa\n",
    "main()"
   ]
  },
  {
   "cell_type": "markdown",
   "metadata": {},
   "source": [
    "## Tentativa com número 'quebrado' (com vírgula)"
   ]
  },
  {
   "cell_type": "code",
   "execution_count": 80,
   "metadata": {},
   "outputs": [
    {
     "name": "stdout",
     "output_type": "stream",
     "text": [
      "Digite o seu primeiro número:23.5\n"
     ]
    },
    {
     "ename": "ValueError",
     "evalue": "invalid literal for int() with base 10: '23.5'",
     "output_type": "error",
     "traceback": [
      "\u001b[1;31m---------------------------------------------------------------------------\u001b[0m",
      "\u001b[1;31mValueError\u001b[0m                                Traceback (most recent call last)",
      "\u001b[1;32m<ipython-input-80-79de51bbfb3f>\u001b[0m in \u001b[0;36m<module>\u001b[1;34m\u001b[0m\n\u001b[0;32m     12\u001b[0m \u001b[1;31m# --------\u001b[0m\u001b[1;33m\u001b[0m\u001b[1;33m\u001b[0m\u001b[1;33m\u001b[0m\u001b[0m\n\u001b[0;32m     13\u001b[0m \u001b[1;31m# A linha a seguir executa o programa\u001b[0m\u001b[1;33m\u001b[0m\u001b[1;33m\u001b[0m\u001b[1;33m\u001b[0m\u001b[0m\n\u001b[1;32m---> 14\u001b[1;33m \u001b[0mmain\u001b[0m\u001b[1;33m(\u001b[0m\u001b[1;33m)\u001b[0m\u001b[1;33m\u001b[0m\u001b[1;33m\u001b[0m\u001b[0m\n\u001b[0m",
      "\u001b[1;32m<ipython-input-80-79de51bbfb3f>\u001b[0m in \u001b[0;36mmain\u001b[1;34m()\u001b[0m\n\u001b[0;32m      2\u001b[0m \u001b[1;32mdef\u001b[0m \u001b[0mmain\u001b[0m\u001b[1;33m(\u001b[0m\u001b[1;33m)\u001b[0m\u001b[1;33m:\u001b[0m\u001b[1;33m\u001b[0m\u001b[1;33m\u001b[0m\u001b[0m\n\u001b[0;32m      3\u001b[0m     \u001b[1;31m# comandos\u001b[0m\u001b[1;33m\u001b[0m\u001b[1;33m\u001b[0m\u001b[1;33m\u001b[0m\u001b[0m\n\u001b[1;32m----> 4\u001b[1;33m     \u001b[0ma\u001b[0m \u001b[1;33m=\u001b[0m \u001b[0mint\u001b[0m\u001b[1;33m(\u001b[0m\u001b[0minput\u001b[0m\u001b[1;33m(\u001b[0m\u001b[1;34m\"Digite o seu primeiro número:\"\u001b[0m\u001b[1;33m)\u001b[0m\u001b[1;33m)\u001b[0m\u001b[1;33m\u001b[0m\u001b[1;33m\u001b[0m\u001b[0m\n\u001b[0m\u001b[0;32m      5\u001b[0m     \u001b[0mb\u001b[0m \u001b[1;33m=\u001b[0m \u001b[0mint\u001b[0m\u001b[1;33m(\u001b[0m\u001b[0minput\u001b[0m\u001b[1;33m(\u001b[0m\u001b[1;34m\"Digite o seu segundo número:\"\u001b[0m\u001b[1;33m)\u001b[0m\u001b[1;33m)\u001b[0m\u001b[1;33m\u001b[0m\u001b[1;33m\u001b[0m\u001b[0m\n\u001b[0;32m      6\u001b[0m     \u001b[0msoma\u001b[0m \u001b[1;33m=\u001b[0m \u001b[0ma\u001b[0m \u001b[1;33m+\u001b[0m \u001b[0mb\u001b[0m\u001b[1;33m\u001b[0m\u001b[1;33m\u001b[0m\u001b[0m\n",
      "\u001b[1;31mValueError\u001b[0m: invalid literal for int() with base 10: '23.5'"
     ]
    }
   ],
   "source": [
    "# Soma qualquer valor\n",
    "def main():\n",
    "    # comandos\n",
    "    a = int(input(\"Digite o seu primeiro número:\"))\n",
    "    b = int(input(\"Digite o seu segundo número:\"))\n",
    "    soma = a + b\n",
    "    # Print = saída de dados\n",
    "    print(\"O tipo de a é\",type(a))\n",
    "    print(\"O tipo de b é\",type(b))\n",
    "    print(\"A soma de\", a, \"com\", b, \"é\", soma)\n",
    "\n",
    "# --------\n",
    "# A linha a seguir executa o programa\n",
    "main()"
   ]
  },
  {
   "cell_type": "code",
   "execution_count": 81,
   "metadata": {},
   "outputs": [
    {
     "data": {
      "text/plain": [
       "float"
      ]
     },
     "execution_count": 81,
     "metadata": {},
     "output_type": "execute_result"
    }
   ],
   "source": [
    "type(23.5)"
   ]
  },
  {
   "cell_type": "code",
   "execution_count": 84,
   "metadata": {},
   "outputs": [
    {
     "name": "stdout",
     "output_type": "stream",
     "text": [
      "Digite o seu primeiro número:12.34\n",
      "Digite o seu segundo número:56.78\n",
      "O tipo de a é <class 'float'>\n",
      "O tipo de b é <class 'float'>\n",
      "A soma de 12.34 com 56.78 é 69.12\n"
     ]
    }
   ],
   "source": [
    "# Soma qualquer valor\n",
    "def main():\n",
    "    # comandos\n",
    "    a = float(input(\"Digite o seu primeiro número:\"))\n",
    "    b = float(input(\"Digite o seu segundo número:\"))\n",
    "    soma = a + b\n",
    "    # Print = saída de dados\n",
    "    print(\"O tipo de a é\",type(a))\n",
    "    print(\"O tipo de b é\",type(b))\n",
    "    print(\"A soma de\", a, \"com\", b, \"é\", soma)\n",
    "\n",
    "# --------\n",
    "# A linha a seguir executa o programa\n",
    "main()"
   ]
  },
  {
   "cell_type": "markdown",
   "metadata": {},
   "source": [
    "## Exercício 2.3\n",
    "Fazer uma função que multiplique dois números entrados pelo usuário"
   ]
  },
  {
   "cell_type": "code",
   "execution_count": 87,
   "metadata": {},
   "outputs": [
    {
     "name": "stdout",
     "output_type": "stream",
     "text": [
      "Digite seu primeiro número:10\n",
      "Digite seu segundo número5\n",
      "A multiplicação entre 10.0 e 5.0 = 50.0\n"
     ]
    }
   ],
   "source": [
    "def main():\n",
    "    primeiro_numero = float(input(\"Digite seu primeiro número:\"))\n",
    "    segundo_numero = float(input(\"Digite seu segundo número\"))\n",
    "    multiplicacao = primeiro_numero * segundo_numero\n",
    "    print(f\"A multiplicação entre {primeiro_numero} e {segundo_numero} = {multiplicacao}\")\n",
    "# --------\n",
    "# A linha a seguir executa o programa\n",
    "main()"
   ]
  },
  {
   "cell_type": "markdown",
   "metadata": {},
   "source": [
    "## Exercício 2.4\n",
    "Fazer uma função que divida dois números entrados pelo usuário"
   ]
  },
  {
   "cell_type": "code",
   "execution_count": 88,
   "metadata": {},
   "outputs": [
    {
     "name": "stdout",
     "output_type": "stream",
     "text": [
      "Digite seu primeiro número:50\n",
      "Digite seu segundo número10\n",
      "A divisão entre 50.0 e 10.0 = 5.0\n"
     ]
    }
   ],
   "source": [
    "def main():\n",
    "    primeiro_numero = float(input(\"Digite seu primeiro número:\"))\n",
    "    segundo_numero = float(input(\"Digite seu segundo número\"))\n",
    "    divisão = primeiro_numero / segundo_numero\n",
    "    print(\"A divisão entre {0} e {1} = {2}\".format(primeiro_numero,segundo_numero,divisão))\n",
    "# --------\n",
    "# A linha a seguir executa o programa\n",
    "main()"
   ]
  },
  {
   "cell_type": "markdown",
   "metadata": {},
   "source": [
    "## Exercício 2.5\n",
    "Fazer uma função que subtraia quatro números entrados pelo usuário"
   ]
  },
  {
   "cell_type": "code",
   "execution_count": 91,
   "metadata": {},
   "outputs": [
    {
     "name": "stdout",
     "output_type": "stream",
     "text": [
      "Digite seu primeiro número:10\n",
      "Digite seu segundo número5\n",
      "Digite seu terceiro número2\n",
      "Digite seu quarto número-7\n",
      "A subtração de 10.0 com 5.0 com 2.0 com -7.0 é igual a 10.0\n"
     ]
    }
   ],
   "source": [
    "def main():\n",
    "    primeiro_numero = float(input(\"Digite seu primeiro número:\"))\n",
    "    segundo_numero = float(input(\"Digite seu segundo número\"))\n",
    "    terceiro_numero = float(input(\"Digite seu terceiro número\"))\n",
    "    quarto_numero = float(input(\"Digite seu quarto número\"))\n",
    "    subtração = primeiro_numero - segundo_numero - terceiro_numero - quarto_numero\n",
    "    print(\"A subtração de {} com {} com {} com {} é igual a {}\".format(primeiro_numero,segundo_numero,\n",
    "                                                                            terceiro_numero,quarto_numero,subtração))\n",
    "# --------\n",
    "# A linha a seguir executa o programa\n",
    "main()"
   ]
  },
  {
   "cell_type": "markdown",
   "metadata": {},
   "source": [
    "# Formatação de strings\n",
    "## Podemos formatar com o format"
   ]
  },
  {
   "cell_type": "markdown",
   "metadata": {},
   "source": [
    "\"string original com {} para indicar as posições do format onde vamos trocar na string\".format(variavel_para_formatar)"
   ]
  },
  {
   "cell_type": "code",
   "execution_count": 109,
   "metadata": {},
   "outputs": [],
   "source": [
    "numero = 10\n",
    "letra = 'a'\n",
    "palavra = 'ByLearn'"
   ]
  },
  {
   "cell_type": "code",
   "execution_count": 110,
   "metadata": {},
   "outputs": [
    {
     "data": {
      "text/plain": [
       "'meu número vale 10, minha letra vale a, minha palavra vale ByLearn'"
      ]
     },
     "execution_count": 110,
     "metadata": {},
     "output_type": "execute_result"
    }
   ],
   "source": [
    "\"meu número vale {}, minha letra vale {}, minha palavra vale {}\".format(numero,letra,palavra)"
   ]
  },
  {
   "cell_type": "markdown",
   "metadata": {},
   "source": [
    "## Podemos formatar com o f-string\n",
    "São strings começadas com f antes das aspas.  \n",
    "Nelas colocamos o valores das variaveis dentro das {} "
   ]
  },
  {
   "cell_type": "code",
   "execution_count": 112,
   "metadata": {},
   "outputs": [
    {
     "data": {
      "text/plain": [
       "'meu número vale 10, minha letra vale a, minha palavra vale ByLearn'"
      ]
     },
     "execution_count": 112,
     "metadata": {},
     "output_type": "execute_result"
    }
   ],
   "source": [
    "f'meu número vale {numero}, minha letra vale {letra}, minha palavra vale {palavra}'"
   ]
  },
  {
   "cell_type": "markdown",
   "metadata": {},
   "source": [
    "## Formatando números\n",
    "Podemos modificar a saídas dos números sem modificar os valores reais  \n",
    "Ex: \n",
    " Número 2 => Valor é 2.\n",
    " Saída => 2.00 => Valor ainda é 2\n",
    " \n",
    " Número 2.5 => Valor é 2.5\n",
    " Saída => 2 => Valor ainda é 2.5"
   ]
  },
  {
   "cell_type": "code",
   "execution_count": 114,
   "metadata": {},
   "outputs": [
    {
     "name": "stdout",
     "output_type": "stream",
     "text": [
      "2.57\n"
     ]
    }
   ],
   "source": [
    "numero = 2.57\n",
    "print(numero)"
   ]
  },
  {
   "cell_type": "markdown",
   "metadata": {},
   "source": [
    "Para inteiros uso o 'd' e para floats uso o 'f'"
   ]
  },
  {
   "cell_type": "code",
   "execution_count": 124,
   "metadata": {},
   "outputs": [
    {
     "name": "stdout",
     "output_type": "stream",
     "text": [
      "2.57\n",
      "2.6\n",
      "3\n",
      "2.57\n",
      "2.6\n",
      "3\n"
     ]
    }
   ],
   "source": [
    "print('{:.2f}'.format(numero))\n",
    "print('{:.1f}'.format(numero))\n",
    "print('{:.0f}'.format(numero))\n",
    "print(f'{numero:.2f}')\n",
    "print(f'{numero:.1f}')\n",
    "print(f'{numero:.0f}')"
   ]
  },
  {
   "cell_type": "code",
   "execution_count": 118,
   "metadata": {},
   "outputs": [
    {
     "data": {
      "text/plain": [
       "2.57"
      ]
     },
     "execution_count": 118,
     "metadata": {},
     "output_type": "execute_result"
    }
   ],
   "source": [
    "numero"
   ]
  },
  {
   "cell_type": "code",
   "execution_count": 119,
   "metadata": {},
   "outputs": [
    {
     "data": {
      "text/plain": [
       "3.4"
      ]
     },
     "execution_count": 119,
     "metadata": {},
     "output_type": "execute_result"
    }
   ],
   "source": [
    "17 / 5"
   ]
  },
  {
   "cell_type": "code",
   "execution_count": 120,
   "metadata": {},
   "outputs": [
    {
     "data": {
      "text/plain": [
       "3.3333333333333335"
      ]
     },
     "execution_count": 120,
     "metadata": {},
     "output_type": "execute_result"
    }
   ],
   "source": [
    "10 / 3"
   ]
  },
  {
   "cell_type": "code",
   "execution_count": 121,
   "metadata": {},
   "outputs": [
    {
     "name": "stdout",
     "output_type": "stream",
     "text": [
      "3.333\n"
     ]
    }
   ],
   "source": [
    "print('{:.3f}'.format(10/3))"
   ]
  },
  {
   "cell_type": "code",
   "execution_count": null,
   "metadata": {},
   "outputs": [],
   "source": []
  }
 ],
 "metadata": {
  "kernelspec": {
   "display_name": "Python 3",
   "language": "python",
   "name": "python3"
  },
  "language_info": {
   "codemirror_mode": {
    "name": "ipython",
    "version": 3
   },
   "file_extension": ".py",
   "mimetype": "text/x-python",
   "name": "python",
   "nbconvert_exporter": "python",
   "pygments_lexer": "ipython3",
   "version": "3.7.3"
  },
  "toc": {
   "base_numbering": 1,
   "nav_menu": {},
   "number_sections": true,
   "sideBar": true,
   "skip_h1_title": false,
   "title_cell": "Table of Contents",
   "title_sidebar": "Contents",
   "toc_cell": false,
   "toc_position": {},
   "toc_section_display": true,
   "toc_window_display": false
  }
 },
 "nbformat": 4,
 "nbformat_minor": 2
}
