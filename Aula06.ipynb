{
 "cells": [
  {
   "cell_type": "markdown",
   "metadata": {},
   "source": [
    "## Tuplas, Dicionários e Conjuntos\n",
    "\n",
    "### Listas\n",
    "- Estrura mais utilizada\n",
    "- Pode-de Modificar os Elementos\n",
    "- Aumenta e Diminui o Tamanho"
   ]
  },
  {
   "cell_type": "code",
   "execution_count": 1,
   "metadata": {},
   "outputs": [],
   "source": [
    "lst = []\n",
    "\n",
    "lst = [0,1,2,3,4,5]\n",
    "\n",
    "lst = [i for i in range(5)]"
   ]
  },
  {
   "cell_type": "markdown",
   "metadata": {},
   "source": [
    "### Tuplas\n",
    "\n",
    "- Imutável\n",
    "- Útil para dados fixos\n",
    "- Mais rápido do que listas"
   ]
  },
  {
   "cell_type": "code",
   "execution_count": 5,
   "metadata": {},
   "outputs": [
    {
     "name": "stdout",
     "output_type": "stream",
     "text": [
      "<class 'tuple'>\n"
     ]
    }
   ],
   "source": [
    "tupla = ()\n",
    "\n",
    "tupla = (1,2,3)"
   ]
  },
  {
   "cell_type": "markdown",
   "metadata": {},
   "source": [
    "### Conjuntos\n",
    "- Armazena itens não duplicados\n",
    "- Acesso muito masi rápido do que as listas\n",
    "- Suporta operações matemáticas (União, Intersecção, Diferença...) \n",
    "- Não Ordenado"
   ]
  },
  {
   "cell_type": "code",
   "execution_count": 7,
   "metadata": {},
   "outputs": [],
   "source": [
    "conjuntos = {}\n",
    "\n",
    "conjuntos = {1,2,3}"
   ]
  },
  {
   "cell_type": "markdown",
   "metadata": {},
   "source": [
    "### Dicionários\n",
    "- Pares de chave/valor\n",
    "- Array associativo\n",
    "- Não Ordenado"
   ]
  },
  {
   "cell_type": "code",
   "execution_count": 6,
   "metadata": {},
   "outputs": [],
   "source": [
    "dicionario = {\n",
    "    'nome': 'ByLearn',\n",
    "    'idade': 25,\n",
    "}"
   ]
  }
 ],
 "metadata": {
  "kernelspec": {
   "display_name": "Python 3",
   "language": "python",
   "name": "python3"
  },
  "language_info": {
   "codemirror_mode": {
    "name": "ipython",
    "version": 3
   },
   "file_extension": ".py",
   "mimetype": "text/x-python",
   "name": "python",
   "nbconvert_exporter": "python",
   "pygments_lexer": "ipython3",
   "version": "3.7.4"
  }
 },
 "nbformat": 4,
 "nbformat_minor": 2
}
