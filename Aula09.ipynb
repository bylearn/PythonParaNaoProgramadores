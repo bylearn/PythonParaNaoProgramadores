{
 "cells": [
  {
   "cell_type": "markdown",
   "metadata": {},
   "source": [
    "## Manipulando arquivos de texto em Python\n",
    "\n",
    "Aprenda a manipular (ler, escrever, adicionar, etc..) arquivos de texto na linguagem Python\n",
    "\n",
    "Podemos abrir um arquivo de duas maneiras: para somente leitura ('r') ou com permissão de escrita ('w')."
   ]
  },
  {
   "cell_type": "code",
   "execution_count": null,
   "metadata": {},
   "outputs": [],
   "source": [
    "#\n",
    "# leitura\n",
    "#\n",
    "f = open('nome-do-arquivo,txt', 'r')\n",
    "\n",
    "#\n",
    "# escrita\n",
    "#\n",
    "f = open('nome-do-arquivo.txt', 'w')"
   ]
  },
  {
   "cell_type": "markdown",
   "metadata": {},
   "source": [
    "Ambos os modos retornam o objeto do arquivo."
   ]
  },
  {
   "cell_type": "code",
   "execution_count": 1,
   "metadata": {},
   "outputs": [
    {
     "data": {
      "text/plain": [
       "<_io.TextIOWrapper name='nome-do-arquivo.txt' mode='r' encoding='cp1252'>"
      ]
     },
     "execution_count": 1,
     "metadata": {},
     "output_type": "execute_result"
    }
   ],
   "source": [
    "arquivo = open('nome-do-arquivo.txt', 'r')\n",
    "arquivo"
   ]
  },
  {
   "cell_type": "markdown",
   "metadata": {},
   "source": [
    "Se não especificarmos o segundo parâmetro, a forma padrão leitura ('r') será utilizada.\n",
    "\n",
    "O terceiro parâmetro é opcional e nele especificamos a codificação do arquivo.\n",
    "\n",
    "    arquivo = open(\"nome-do-arquivo.txt\", 'r', encoding=\"utf8\")\n",
    "   \n",
    "Se tentarmos abrir um arquivo para leitura que não existe, um erro será lançado."
   ]
  },
  {
   "cell_type": "code",
   "execution_count": 2,
   "metadata": {},
   "outputs": [
    {
     "ename": "FileNotFoundError",
     "evalue": "[Errno 2] No such file or directory: 'nome-errado.text'",
     "output_type": "error",
     "traceback": [
      "\u001b[1;31m---------------------------------------------------------------------------\u001b[0m",
      "\u001b[1;31mFileNotFoundError\u001b[0m                         Traceback (most recent call last)",
      "\u001b[1;32m<ipython-input-2-c335d3ae2ff7>\u001b[0m in \u001b[0;36m<module>\u001b[1;34m\u001b[0m\n\u001b[1;32m----> 1\u001b[1;33m \u001b[0mf\u001b[0m \u001b[1;33m=\u001b[0m \u001b[0mopen\u001b[0m\u001b[1;33m(\u001b[0m\u001b[1;34m'nome-errado.text'\u001b[0m\u001b[1;33m,\u001b[0m \u001b[1;34m'r'\u001b[0m\u001b[1;33m)\u001b[0m\u001b[1;33m\u001b[0m\u001b[1;33m\u001b[0m\u001b[0m\n\u001b[0m",
      "\u001b[1;31mFileNotFoundError\u001b[0m: [Errno 2] No such file or directory: 'nome-errado.text'"
     ]
    }
   ],
   "source": [
    "f = open('nome-errado.text', 'r')"
   ]
  },
  {
   "cell_type": "markdown",
   "metadata": {},
   "source": [
    "Se tentarmos abrir um arquivo para escrita que não existe, então ele será criado, porém, se ele já existir, todo seu conteúdo será apagado no momento em que abrimos o arquivo.\n",
    "\n",
    "Devemos sempre fechar o arquivo aberto.\n",
    "\n",
    "    arquivo.close()\n",
    "\n",
    "## Exemplos\n",
    "\n",
    "Como exemplo utilizaremos o arquivo de texto seu-arquivo.text que possui o seguinte conteúdo:\n",
    "\n",
    "    primeira linha\n",
    "    segunda linha\n",
    "    terceira linha\n",
    "    quarta linha\n",
    "    quinta linha\n",
    "Podemos abrir um arquivo e iterar por cada linha conforme exemplo abaixo."
   ]
  },
  {
   "cell_type": "markdown",
   "metadata": {},
   "source": [
    "file = open('nome-do-arquivo.txt', 'r')\n",
    "for line in file:\n",
    "    print(line)"
   ]
  },
  {
   "cell_type": "markdown",
   "metadata": {},
   "source": [
    "Se quisermos ler todo o conteúdo do arquivo em uma única string podemos utilizar a função read()."
   ]
  },
  {
   "cell_type": "code",
   "execution_count": 3,
   "metadata": {},
   "outputs": [
    {
     "name": "stdout",
     "output_type": "stream",
     "text": [
      "primeira linha\n",
      "segunda linha\n",
      "terceira linha\n",
      "quarta linha\n",
      "quinta linha\n"
     ]
    }
   ],
   "source": [
    "file = open('nome-do-arquivo.txt', 'r')\n",
    "print(file.read())"
   ]
  },
  {
   "cell_type": "markdown",
   "metadata": {},
   "source": [
    "Podemos utilizar a função readline() caso queiramos ler linha a linha do arquivo.\n",
    "\n",
    "A função retornará uma lista vazia [] quando encontrar o final do arquivo (após a última linha ter sido lida)."
   ]
  },
  {
   "cell_type": "code",
   "execution_count": 6,
   "metadata": {},
   "outputs": [
    {
     "name": "stdout",
     "output_type": "stream",
     "text": [
      "primeira linha\n",
      "\n",
      "segunda linha\n",
      "\n",
      "terceira linha\n",
      "\n",
      "quarta linha\n",
      "\n",
      "quinta linha\n"
     ]
    }
   ],
   "source": [
    "file = open('nome-do-arquivo.txt', 'r')\n",
    "print(file.readline())\n",
    "print(file.readline())\n",
    "print(file.readline())\n",
    "print(file.readline())\n",
    "print(file.readline())"
   ]
  },
  {
   "cell_type": "markdown",
   "metadata": {},
   "source": [
    "Se quisermos ler todas linhas restantes em uma lista podemos utilizar a função readlines (estamos no plural)."
   ]
  },
  {
   "cell_type": "code",
   "execution_count": 8,
   "metadata": {},
   "outputs": [
    {
     "name": "stdout",
     "output_type": "stream",
     "text": [
      "['primeira linha\\n', 'segunda linha\\n', 'terceira linha\\n', 'quarta linha\\n', 'quinta linha']\n"
     ]
    }
   ],
   "source": [
    "file = open('nome-do-arquivo.txt', 'r')\n",
    "print(file.readlines())"
   ]
  },
  {
   "cell_type": "markdown",
   "metadata": {},
   "source": [
    "Repare que ao chamarmos pela segunda vez a função retornar uma lista vazia pois ela, na verdade, retorna as linhas restantes. Como, ao abrir o arquivo, restavam todas as linhas então ela retornou todas as linhas.\n",
    "\n",
    "Confundiu? Veja se este exemplo clareia as coisas."
   ]
  },
  {
   "cell_type": "code",
   "execution_count": 9,
   "metadata": {},
   "outputs": [
    {
     "name": "stdout",
     "output_type": "stream",
     "text": [
      "primeira linha\n",
      "\n",
      "segunda linha\n",
      "\n",
      "['terceira linha\\n', 'quarta linha\\n', 'quinta linha']\n"
     ]
    }
   ],
   "source": [
    "file = open('nome-do-arquivo.txt', 'r')\n",
    "\n",
    "print(file.readline())\n",
    "print(file.readline())\n",
    "print(file.readlines())"
   ]
  },
  {
   "cell_type": "markdown",
   "metadata": {},
   "source": [
    "Para escrever em um arquivo sem apagar seu contéudo, ou seja, adicionando (incluído) novo conteúdo seguimos 3 passos:\n",
    "\n",
    "1. Ler todo o conteúdo do arquivo,\n",
    "2. efetuar a adição e\n",
    "3. escrever o novo conteúdo no arquivo.\n",
    "\n",
    "Veja um exemplo."
   ]
  },
  {
   "cell_type": "code",
   "execution_count": 12,
   "metadata": {},
   "outputs": [],
   "source": [
    "# Abra o arquivo (leitura)\n",
    "arquivo = open('musica.txt', 'r')\n",
    "conteudo = arquivo.readlines()\n",
    "\n",
    "# insira seu conteúdo\n",
    "# obs: o método append() é proveniente de uma lista\n",
    "conteudo.append('Nova linha')\n",
    "\n",
    "# Abre novamente o arquivo (escrita)\n",
    "# e escreva o conteúdo criado anteriormente nele.\n",
    "arquivo = open('musica.txt', 'w')\n",
    "arquivo.writelines(conteudo)\n",
    "arquivo.close()"
   ]
  }
 ],
 "metadata": {
  "kernelspec": {
   "display_name": "Python 3",
   "language": "python",
   "name": "python3"
  },
  "language_info": {
   "codemirror_mode": {
    "name": "ipython",
    "version": 3
   },
   "file_extension": ".py",
   "mimetype": "text/x-python",
   "name": "python",
   "nbconvert_exporter": "python",
   "pygments_lexer": "ipython3",
   "version": "3.7.4"
  }
 },
 "nbformat": 4,
 "nbformat_minor": 2
}
