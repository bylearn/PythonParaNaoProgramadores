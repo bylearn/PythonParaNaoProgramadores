{
 "cells": [
  {
   "cell_type": "markdown",
   "metadata": {},
   "source": [
    "# Tuplas, Dicionários, Conjuntos e Listas"
   ]
  },
  {
   "cell_type": "markdown",
   "metadata": {},
   "source": [
    "### Listas\n",
    "* Pode-se aumentar e diminuir o tamanho\n",
    "* Pode-se modificar o valor de um elemento\n",
    "* É a mais popular dos 4\n",
    "* É inicializável com []"
   ]
  },
  {
   "cell_type": "code",
   "execution_count": 15,
   "metadata": {},
   "outputs": [],
   "source": [
    "lista = []\n",
    "lista = [0,1,2]\n",
    "lista = [i for i in range(3)]"
   ]
  },
  {
   "cell_type": "markdown",
   "metadata": {},
   "source": [
    "### Tuplas\n",
    "* É totalmente imutável (não permite alterações)\n",
    "* Útil para dados fixos\n",
    "* Muito mais rápida do que uma lista\n",
    "* É inicializável com ()"
   ]
  },
  {
   "cell_type": "code",
   "execution_count": 52,
   "metadata": {},
   "outputs": [],
   "source": [
    "tupla = ()\n",
    "tupla = (0,1,2)\n",
    "tupla = tuple([i for i in range(5)])"
   ]
  },
  {
   "cell_type": "markdown",
   "metadata": {},
   "source": [
    "### Conjuntos\n",
    "* Não é ordenado\n",
    "* Não aceita valores duplicados\n",
    "* Possui operação dos Conjuntos Matemáticos\n",
    "* É inicializável com {}"
   ]
  },
  {
   "cell_type": "code",
   "execution_count": 72,
   "metadata": {},
   "outputs": [],
   "source": [
    "conjunto = {'item'}\n",
    "conjunto = {'a',1,2,'b'}"
   ]
  },
  {
   "cell_type": "markdown",
   "metadata": {},
   "source": [
    "### Dicionários\n",
    "* Possuem chave e valor\n",
    "* São mutáveis\n",
    "* Não aceitam chaves duplicadas\n",
    "* É inicializável com {'chave':'valor'}"
   ]
  },
  {
   "cell_type": "code",
   "execution_count": 146,
   "metadata": {},
   "outputs": [],
   "source": [
    "dicionario = {'chave':'valor','chave2':'valor2'}"
   ]
  },
  {
   "cell_type": "markdown",
   "metadata": {},
   "source": [
    "## Revisão sobre Listas"
   ]
  },
  {
   "cell_type": "code",
   "execution_count": 3,
   "metadata": {},
   "outputs": [
    {
     "name": "stdout",
     "output_type": "stream",
     "text": [
      "[]\n",
      "<class 'list'>\n",
      "<class 'list'>\n"
     ]
    }
   ],
   "source": [
    "lista = []\n",
    "print(lista)\n",
    "print(type(lista))\n",
    "print(type([]))"
   ]
  },
  {
   "cell_type": "code",
   "execution_count": 5,
   "metadata": {},
   "outputs": [
    {
     "name": "stdout",
     "output_type": "stream",
     "text": [
      "[0, 1, 2, 3, 4, 5, 6, 7, 8, 9, 10]\n"
     ]
    }
   ],
   "source": [
    "lista = [0,1,2,3,4,5,6,7,8,9,10]\n",
    "print(lista)"
   ]
  },
  {
   "cell_type": "code",
   "execution_count": 6,
   "metadata": {},
   "outputs": [
    {
     "name": "stdout",
     "output_type": "stream",
     "text": [
      "[0, 1, 2, 3, 4, 5, 6, 7, 8, 9, 10]\n"
     ]
    }
   ],
   "source": [
    "lista = []\n",
    "for i in range(11):\n",
    "    lista.append(i)\n",
    "print(lista)"
   ]
  },
  {
   "cell_type": "code",
   "execution_count": 7,
   "metadata": {},
   "outputs": [
    {
     "name": "stdout",
     "output_type": "stream",
     "text": [
      "[0, 1, 2, 3, 4, 5, 6, 7, 8, 9, 10]\n"
     ]
    }
   ],
   "source": [
    "lista = [i for i in range(11)]\n",
    "print(lista)"
   ]
  },
  {
   "cell_type": "code",
   "execution_count": 10,
   "metadata": {},
   "outputs": [],
   "source": [
    "lista[6] = 10\n",
    "lista[5] = 15"
   ]
  },
  {
   "cell_type": "code",
   "execution_count": 13,
   "metadata": {},
   "outputs": [],
   "source": [
    "lista.remove(4)"
   ]
  },
  {
   "cell_type": "markdown",
   "metadata": {},
   "source": [
    "## Aula de Tuplas"
   ]
  },
  {
   "cell_type": "code",
   "execution_count": 18,
   "metadata": {},
   "outputs": [
    {
     "name": "stdout",
     "output_type": "stream",
     "text": [
      "()\n",
      "<class 'tuple'>\n",
      "<class 'tuple'>\n"
     ]
    }
   ],
   "source": [
    "tupla = ()\n",
    "print(tupla)\n",
    "print(type(tupla))\n",
    "print(type(()))"
   ]
  },
  {
   "cell_type": "code",
   "execution_count": 28,
   "metadata": {},
   "outputs": [
    {
     "name": "stdout",
     "output_type": "stream",
     "text": [
      "(1, 2, 3)\n"
     ]
    }
   ],
   "source": [
    "tupla = (1,2,3) # Ela é inicializado e fica fixa dessa maneira\n",
    "print(tupla)"
   ]
  },
  {
   "cell_type": "code",
   "execution_count": 20,
   "metadata": {},
   "outputs": [
    {
     "name": "stdout",
     "output_type": "stream",
     "text": [
      "1\n",
      "3\n"
     ]
    }
   ],
   "source": [
    "print(tupla[0])\n",
    "print(tupla[2])"
   ]
  },
  {
   "cell_type": "code",
   "execution_count": 22,
   "metadata": {},
   "outputs": [
    {
     "ename": "AttributeError",
     "evalue": "'tuple' object has no attribute 'append'",
     "output_type": "error",
     "traceback": [
      "\u001b[1;31m---------------------------------------------------------------------------\u001b[0m",
      "\u001b[1;31mAttributeError\u001b[0m                            Traceback (most recent call last)",
      "\u001b[1;32m<ipython-input-22-45b4d5b54522>\u001b[0m in \u001b[0;36m<module>\u001b[1;34m\u001b[0m\n\u001b[1;32m----> 1\u001b[1;33m \u001b[0mtupla\u001b[0m\u001b[1;33m.\u001b[0m\u001b[0mappend\u001b[0m\u001b[1;33m(\u001b[0m\u001b[1;36m4\u001b[0m\u001b[1;33m)\u001b[0m \u001b[1;31m# Tupla não permite adicionar novos elementos\u001b[0m\u001b[1;33m\u001b[0m\u001b[1;33m\u001b[0m\u001b[0m\n\u001b[0m",
      "\u001b[1;31mAttributeError\u001b[0m: 'tuple' object has no attribute 'append'"
     ]
    }
   ],
   "source": [
    "tupla.append(4) # Tupla não permite adicionar novos elementos"
   ]
  },
  {
   "cell_type": "code",
   "execution_count": 25,
   "metadata": {},
   "outputs": [
    {
     "ename": "TypeError",
     "evalue": "'tuple' object does not support item assignment",
     "output_type": "error",
     "traceback": [
      "\u001b[1;31m---------------------------------------------------------------------------\u001b[0m",
      "\u001b[1;31mTypeError\u001b[0m                                 Traceback (most recent call last)",
      "\u001b[1;32m<ipython-input-25-e2db72385e60>\u001b[0m in \u001b[0;36m<module>\u001b[1;34m\u001b[0m\n\u001b[1;32m----> 1\u001b[1;33m \u001b[0mtupla\u001b[0m\u001b[1;33m[\u001b[0m\u001b[1;36m0\u001b[0m\u001b[1;33m]\u001b[0m \u001b[1;33m=\u001b[0m \u001b[1;36m4\u001b[0m \u001b[1;31m# Tupla não permite modificar os elementos existentes\u001b[0m\u001b[1;33m\u001b[0m\u001b[1;33m\u001b[0m\u001b[0m\n\u001b[0m",
      "\u001b[1;31mTypeError\u001b[0m: 'tuple' object does not support item assignment"
     ]
    }
   ],
   "source": [
    "tupla[0] = 4 # Tupla não permite modificar os elementos existentes"
   ]
  },
  {
   "cell_type": "code",
   "execution_count": 27,
   "metadata": {},
   "outputs": [
    {
     "ename": "AttributeError",
     "evalue": "'tuple' object has no attribute 'remove'",
     "output_type": "error",
     "traceback": [
      "\u001b[1;31m---------------------------------------------------------------------------\u001b[0m",
      "\u001b[1;31mAttributeError\u001b[0m                            Traceback (most recent call last)",
      "\u001b[1;32m<ipython-input-27-acce71a0cf9c>\u001b[0m in \u001b[0;36m<module>\u001b[1;34m\u001b[0m\n\u001b[1;32m----> 1\u001b[1;33m \u001b[0mtupla\u001b[0m\u001b[1;33m.\u001b[0m\u001b[0mremove\u001b[0m\u001b[1;33m(\u001b[0m\u001b[1;36m1\u001b[0m\u001b[1;33m)\u001b[0m \u001b[1;31m# Tupla não permite remover elementos\u001b[0m\u001b[1;33m\u001b[0m\u001b[1;33m\u001b[0m\u001b[0m\n\u001b[0m",
      "\u001b[1;31mAttributeError\u001b[0m: 'tuple' object has no attribute 'remove'"
     ]
    }
   ],
   "source": [
    "tupla.remove(1) # Tupla não permite remover elementos"
   ]
  },
  {
   "cell_type": "markdown",
   "metadata": {},
   "source": [
    "**Conclusão:** Tuplas são imutáveis "
   ]
  },
  {
   "cell_type": "markdown",
   "metadata": {},
   "source": [
    "Para criarmos ou convertermos um objeto para uma tupla podemos usar a função tuple()"
   ]
  },
  {
   "cell_type": "code",
   "execution_count": 46,
   "metadata": {},
   "outputs": [
    {
     "name": "stdout",
     "output_type": "stream",
     "text": [
      "(0, 1, 2, 3, 4, 5, 6, 7, 8, 9, 10)\n"
     ]
    }
   ],
   "source": [
    "tupla = tuple([i for i in range(11)])\n",
    "print(tupla)"
   ]
  },
  {
   "cell_type": "code",
   "execution_count": 48,
   "metadata": {},
   "outputs": [
    {
     "name": "stdout",
     "output_type": "stream",
     "text": [
      "<class 'list'>\n",
      "<class 'tuple'>\n"
     ]
    }
   ],
   "source": [
    "lista = [1,2,3]\n",
    "tupla = tuple(lista)\n",
    "print(type(lista))\n",
    "print(type(tupla))"
   ]
  },
  {
   "cell_type": "markdown",
   "metadata": {},
   "source": [
    "Podemos tranformar uma lista em tupla e vice-versa, dessa forma, podemos editar seus valores"
   ]
  },
  {
   "cell_type": "code",
   "execution_count": 50,
   "metadata": {},
   "outputs": [
    {
     "name": "stdout",
     "output_type": "stream",
     "text": [
      "(1, 2, 'Teste', 5, 6)\n"
     ]
    }
   ],
   "source": [
    "tupla = (1,2,3,4,5)\n",
    "lista = list(tupla)\n",
    "lista.append(6)\n",
    "lista[2] = 'Teste'\n",
    "lista.remove(4)\n",
    "tupla = tuple(lista)\n",
    "print(tupla)"
   ]
  },
  {
   "cell_type": "markdown",
   "metadata": {},
   "source": [
    "**Operações Gerais para Estruturas de Dados Tuplas, Dicionários, Conjuntos e Listas:**"
   ]
  },
  {
   "cell_type": "code",
   "execution_count": 51,
   "metadata": {},
   "outputs": [
    {
     "name": "stdout",
     "output_type": "stream",
     "text": [
      "1\n",
      "(2, 3, 4)\n",
      "5\n",
      "5\n",
      "True\n",
      "False\n",
      "1\n",
      "2\n",
      "3\n",
      "4\n",
      "5\n"
     ]
    }
   ],
   "source": [
    "tupla = (1,2,3,4,5)\n",
    "print(tupla[0])\n",
    "print(tupla[1:4])\n",
    "print(tupla[-1])\n",
    "print(len(tupla))\n",
    "print(3 in tupla) # True\n",
    "print(4 not in tupla) #False\n",
    "\n",
    "for i in tupla:\n",
    "    print(i)"
   ]
  },
  {
   "cell_type": "markdown",
   "metadata": {},
   "source": [
    "## Aula sobre Conjuntos (sets)\n",
    "**Vem da teoria dos conjuntos matemáticos, tendo todas as operações eles possuem**"
   ]
  },
  {
   "cell_type": "code",
   "execution_count": 58,
   "metadata": {},
   "outputs": [
    {
     "name": "stdout",
     "output_type": "stream",
     "text": [
      "{'teste'}\n",
      "<class 'set'>\n",
      "<class 'set'>\n"
     ]
    }
   ],
   "source": [
    "conjunto = {'teste'}\n",
    "print(conjunto)\n",
    "print(type(conjunto))\n",
    "print(type({1}))"
   ]
  },
  {
   "cell_type": "code",
   "execution_count": 65,
   "metadata": {},
   "outputs": [
    {
     "name": "stdout",
     "output_type": "stream",
     "text": [
      "{1, 2, 3, 4}\n"
     ]
    }
   ],
   "source": [
    "conjunto = {1,2,3,1,4,3}\n",
    "print(conjunto) # Não aceitam duplicatas"
   ]
  },
  {
   "cell_type": "code",
   "execution_count": 74,
   "metadata": {},
   "outputs": [
    {
     "name": "stdout",
     "output_type": "stream",
     "text": [
      "{'b', 'd', 'f', 'a', 'c'}\n",
      "{'n', 'm', 'g', 'd', 'j', 'c'}\n"
     ]
    }
   ],
   "source": [
    "conjunto1 = {'a','b','c','d'}\n",
    "conjunto2 = {'j', 'm', 'n', 'c', 'd'}\n",
    "conjunto1.add('f') # Add => Adição => Operação dos Conjuntos Matemáticos\n",
    "conjunto2.add('g')\n",
    "print(conjunto1) # Não são ordenados\n",
    "print(conjunto2) # Não são ordenados"
   ]
  },
  {
   "cell_type": "markdown",
   "metadata": {},
   "source": [
    "**Operações com um só conjunto por vez**  \n",
    "**ADD:** Adiciona apenas um item"
   ]
  },
  {
   "cell_type": "code",
   "execution_count": 77,
   "metadata": {},
   "outputs": [
    {
     "name": "stdout",
     "output_type": "stream",
     "text": [
      "{'maçã', 'uva'}\n",
      "{'morango', 'pera', 'uva', 'melancia', 'maçã', 'laranja', 'abacaxi'}\n"
     ]
    }
   ],
   "source": [
    "frutas = {'maçã','uva'}\n",
    "print(frutas)\n",
    "frutas.add('laranja')\n",
    "print(frutas)"
   ]
  },
  {
   "cell_type": "markdown",
   "metadata": {},
   "source": [
    "**Update:** Adiciona mais de um item por vez"
   ]
  },
  {
   "cell_type": "code",
   "execution_count": 83,
   "metadata": {},
   "outputs": [
    {
     "name": "stdout",
     "output_type": "stream",
     "text": [
      "{'morango', 'pera', 'uva', 'melancia', 'maçã', 'abacaxi'}\n"
     ]
    }
   ],
   "source": [
    "frutas = {'maçã','uva'}\n",
    "frutas.update(['pera','abacaxi','melancia','morango'])\n",
    "print(frutas)"
   ]
  },
  {
   "cell_type": "markdown",
   "metadata": {},
   "source": [
    "**Remove:** Remove, mas dá erro se o valor não existir  \n",
    "**Discard:** Remove e não da erro se o valor não existir"
   ]
  },
  {
   "cell_type": "code",
   "execution_count": 82,
   "metadata": {},
   "outputs": [
    {
     "ename": "KeyError",
     "evalue": "'maçã'",
     "output_type": "error",
     "traceback": [
      "\u001b[1;31m---------------------------------------------------------------------------\u001b[0m",
      "\u001b[1;31mKeyError\u001b[0m                                  Traceback (most recent call last)",
      "\u001b[1;32m<ipython-input-82-f2f4e077e059>\u001b[0m in \u001b[0;36m<module>\u001b[1;34m\u001b[0m\n\u001b[1;32m----> 1\u001b[1;33m \u001b[0mfrutas\u001b[0m\u001b[1;33m.\u001b[0m\u001b[0mremove\u001b[0m\u001b[1;33m(\u001b[0m\u001b[1;34m'maçã'\u001b[0m\u001b[1;33m)\u001b[0m\u001b[1;33m\u001b[0m\u001b[1;33m\u001b[0m\u001b[0m\n\u001b[0m",
      "\u001b[1;31mKeyError\u001b[0m: 'maçã'"
     ]
    }
   ],
   "source": [
    "frutas.remove('maçã') # Remove dá erro se o valor já não existe"
   ]
  },
  {
   "cell_type": "code",
   "execution_count": 91,
   "metadata": {},
   "outputs": [
    {
     "name": "stdout",
     "output_type": "stream",
     "text": [
      "{'morango', 'pera', 'uva', 'melancia', 'abacaxi'}\n"
     ]
    }
   ],
   "source": [
    "frutas.discard(\"maçã\") # Não dá erro se o valor não existir\n",
    "print(frutas)"
   ]
  },
  {
   "cell_type": "markdown",
   "metadata": {},
   "source": [
    "**Clear:** Remove todos os itens"
   ]
  },
  {
   "cell_type": "code",
   "execution_count": 94,
   "metadata": {},
   "outputs": [
    {
     "name": "stdout",
     "output_type": "stream",
     "text": [
      "set()\n"
     ]
    }
   ],
   "source": [
    "frutas.clear()\n",
    "print(frutas)"
   ]
  },
  {
   "cell_type": "markdown",
   "metadata": {},
   "source": [
    "**Operações com um mais de um conjunto por vez**  \n",
    "**Union:** Faz a união (soma) de dois conjuntos, retornando um novo conjunto  \n",
    "**Update:** Também une dois conjuntos, porém, modifica direto no próprio conjunto que chamar esse método"
   ]
  },
  {
   "cell_type": "code",
   "execution_count": 96,
   "metadata": {},
   "outputs": [
    {
     "name": "stdout",
     "output_type": "stream",
     "text": [
      "{'n', 'b', 'm', 'd', 'j', 'a', 'c'}\n"
     ]
    }
   ],
   "source": [
    "conjunto1 = {'a','b','c','d'}\n",
    "conjunto2 = {'j', 'm', 'n', 'c', 'd'}\n",
    "\n",
    "\n",
    "    # set      =>      # get\n",
    "conjunto_total = conjunto1.union(conjunto2) # Union me retorna um valor (conjunto)\n",
    "print(conjunto_total)"
   ]
  },
  {
   "cell_type": "code",
   "execution_count": 98,
   "metadata": {},
   "outputs": [
    {
     "name": "stdout",
     "output_type": "stream",
     "text": [
      "{'n', 'b', 'm', 'd', 'j', 'a', 'c'}\n"
     ]
    }
   ],
   "source": [
    "conjunto1 = {'a','b','c','d'}\n",
    "conjunto2 = {'j', 'm', 'n', 'c', 'd'}\n",
    "\n",
    "conjunto1.update(conjunto2) # Update modifica o meu conjunto\n",
    "print(conjunto1)"
   ]
  },
  {
   "cell_type": "markdown",
   "metadata": {},
   "source": [
    "**Intersection:** Me mostra a intersecção entre um e outro  \n",
    "**Difference:** Me mostra a diferença entre o primeiro e segundo"
   ]
  },
  {
   "cell_type": "code",
   "execution_count": 99,
   "metadata": {},
   "outputs": [
    {
     "name": "stdout",
     "output_type": "stream",
     "text": [
      "{'d', 'c'}\n"
     ]
    }
   ],
   "source": [
    "conjunto1 = {'a','b','c','d'}\n",
    "conjunto2 = {'j', 'm', 'n', 'c', 'd'}\n",
    "\n",
    "interseccao = conjunto1.intersection(conjunto2)\n",
    "\n",
    "print(interseccao)"
   ]
  },
  {
   "cell_type": "code",
   "execution_count": 102,
   "metadata": {},
   "outputs": [
    {
     "name": "stdout",
     "output_type": "stream",
     "text": [
      "{'b', 'a'}\n",
      "{'n', 'j', 'm'}\n"
     ]
    }
   ],
   "source": [
    "conjunto1 = {'a','b','c','d'}\n",
    "conjunto2 = {'j', 'm', 'n', 'c', 'd'}\n",
    "\n",
    "diferenca = conjunto1.difference(conjunto2)\n",
    "diferenca2 = conjunto2.difference(conjunto1)\n",
    "\n",
    "print(diferenca)\n",
    "print(diferenca2)"
   ]
  },
  {
   "cell_type": "markdown",
   "metadata": {},
   "source": [
    "**Issubset:** Se o primeiro é um subconjunto do segundo"
   ]
  },
  {
   "cell_type": "code",
   "execution_count": 111,
   "metadata": {},
   "outputs": [
    {
     "name": "stdout",
     "output_type": "stream",
     "text": [
      "True\n"
     ]
    }
   ],
   "source": [
    "conjuntinho = {1,2,3}\n",
    "conjuntao = {1,2,3,4,5,6}\n",
    "\n",
    "subconjunto = conjuntinho.issubset(conjuntao)\n",
    "print(subconjunto)"
   ]
  },
  {
   "cell_type": "markdown",
   "metadata": {},
   "source": [
    "**Set():** Converte para Conjunto  \n",
    "**Método Construtor:** É o método que cria uma instancia (objeto) daquela classe"
   ]
  },
  {
   "cell_type": "code",
   "execution_count": 116,
   "metadata": {},
   "outputs": [
    {
     "name": "stdout",
     "output_type": "stream",
     "text": [
      "\n"
     ]
    }
   ],
   "source": [
    "set() # Construtor da classe set \n",
    "tuple() # Construtor da classe tupla\n",
    "list() # Consrtutor da classe lista\n",
    "print()"
   ]
  },
  {
   "cell_type": "code",
   "execution_count": 117,
   "metadata": {
    "scrolled": true
   },
   "outputs": [
    {
     "name": "stdout",
     "output_type": "stream",
     "text": [
      "{1, 2, 3, 4, 5}\n",
      "{'b', 'e', 'd', 'f', 'a', 'c'}\n"
     ]
    }
   ],
   "source": [
    "lista = [1,2,3,4,5]\n",
    "tupla = ('a','b','c','d','e','f')\n",
    "conjunto1 = set(lista)\n",
    "conjunto2 = set(tupla)\n",
    "\n",
    "print(conjunto1)\n",
    "print(conjunto2)"
   ]
  },
  {
   "cell_type": "markdown",
   "metadata": {},
   "source": [
    "## Aula Dicionário\n",
    "É uma estrutura de dados composta por chaves e valores."
   ]
  },
  {
   "cell_type": "code",
   "execution_count": 122,
   "metadata": {},
   "outputs": [],
   "source": [
    "# listas = [] => Mutavel, adiciona e remove itens...\n",
    "# tuplas = () => Imutavel, mais rapida...\n",
    "# conjuntos = {} => Conjuntos numéricos, operações de conjuntos, não ordenados...\n",
    "\n",
    "# Procura => Resposta\n",
    "# chave => valor\n",
    "# cat => gato\n",
    "# dog => cachorro\n",
    "# apple => maça\n",
    "# while => enquanto\n",
    "\n",
    "# É composto por chaves e valores"
   ]
  },
  {
   "cell_type": "code",
   "execution_count": 126,
   "metadata": {},
   "outputs": [
    {
     "name": "stdout",
     "output_type": "stream",
     "text": [
      "{'dog': 'ave', 'cat': 'gato'}\n",
      "<class 'dict'>\n",
      "<class 'dict'>\n"
     ]
    }
   ],
   "source": [
    "dict = {'dog':'cachorro', # Não aceita repetições de chaves\n",
    "        'cat':'gato',\n",
    "        'dog':'ave' # Sobreescreve o valor atual da chave\n",
    "       }\n",
    "\n",
    "print(dict)\n",
    "print(type(dict))\n",
    "print(type({'dog':'cachorro'}))"
   ]
  },
  {
   "cell_type": "code",
   "execution_count": 127,
   "metadata": {},
   "outputs": [],
   "source": [
    "# Dicionario suporta varios itens\n",
    "# Chaves não podem ser repetidas\n",
    "# É mutável (alterável)"
   ]
  },
  {
   "cell_type": "code",
   "execution_count": 128,
   "metadata": {},
   "outputs": [
    {
     "name": "stdout",
     "output_type": "stream",
     "text": [
      "{'dog': 'cachorro', 'cat': 'gato', 'bird': 'ave'}\n"
     ]
    }
   ],
   "source": [
    "dict = {'dog':'cachorro', # Não aceita repetições de chaves\n",
    "        'cat':'gato',\n",
    "        'bird':'ave' # Sobreescreve o valor atual da chave\n",
    "       }\n",
    "print(dict)"
   ]
  },
  {
   "cell_type": "markdown",
   "metadata": {},
   "source": [
    "**dicionario['chave']:** Procura pela chave e retorna o valor. Dá erro se não existir a chave  \n",
    "**dicionario.get('chave'):** Procura pela chave e retorna o valor. Não dá erro se não existir a chave"
   ]
  },
  {
   "cell_type": "code",
   "execution_count": 131,
   "metadata": {},
   "outputs": [
    {
     "data": {
      "text/plain": [
       "'cachorro'"
      ]
     },
     "execution_count": 131,
     "metadata": {},
     "output_type": "execute_result"
    }
   ],
   "source": [
    "dict['dog'] # Não é acessível por índices, mas sim, por chaves"
   ]
  },
  {
   "cell_type": "code",
   "execution_count": 132,
   "metadata": {},
   "outputs": [
    {
     "data": {
      "text/plain": [
       "'cachorro'"
      ]
     },
     "execution_count": 132,
     "metadata": {},
     "output_type": "execute_result"
    }
   ],
   "source": [
    "dict.get('dog')"
   ]
  },
  {
   "cell_type": "code",
   "execution_count": 137,
   "metadata": {},
   "outputs": [
    {
     "ename": "KeyError",
     "evalue": "'cachorro'",
     "output_type": "error",
     "traceback": [
      "\u001b[1;31m---------------------------------------------------------------------------\u001b[0m",
      "\u001b[1;31mKeyError\u001b[0m                                  Traceback (most recent call last)",
      "\u001b[1;32m<ipython-input-137-42f448f8a46f>\u001b[0m in \u001b[0;36m<module>\u001b[1;34m\u001b[0m\n\u001b[1;32m----> 1\u001b[1;33m \u001b[0mdict\u001b[0m\u001b[1;33m[\u001b[0m\u001b[1;34m'cachorro'\u001b[0m\u001b[1;33m]\u001b[0m \u001b[1;31m# Retorna erro se não existir\u001b[0m\u001b[1;33m\u001b[0m\u001b[1;33m\u001b[0m\u001b[0m\n\u001b[0m",
      "\u001b[1;31mKeyError\u001b[0m: 'cachorro'"
     ]
    }
   ],
   "source": [
    "dict['cachorro'] # Retorna erro se não existir"
   ]
  },
  {
   "cell_type": "code",
   "execution_count": 138,
   "metadata": {},
   "outputs": [],
   "source": [
    "dict.get('cachorro') # Não da erro e não existir"
   ]
  },
  {
   "cell_type": "markdown",
   "metadata": {},
   "source": [
    "**Dicionários são mutáveis (alteráveis)**"
   ]
  },
  {
   "cell_type": "code",
   "execution_count": 139,
   "metadata": {},
   "outputs": [
    {
     "name": "stdout",
     "output_type": "stream",
     "text": [
      "{'dog': 'cachoro', 'cat': 'gato', 'bird': 'ave'}\n"
     ]
    }
   ],
   "source": [
    "dict = {'dog':'cachoro', # Não aceita repetições de chaves\n",
    "        'cat':'gato',\n",
    "        'bird':'ave' # Sobreescreve o valor atual da chave\n",
    "       }\n",
    "print(dict)"
   ]
  },
  {
   "cell_type": "code",
   "execution_count": 141,
   "metadata": {},
   "outputs": [
    {
     "name": "stdout",
     "output_type": "stream",
     "text": [
      "{'dog': 'cachorro', 'cat': 'gato', 'bird': 'ave'}\n"
     ]
    }
   ],
   "source": [
    "dict['dog'] = 'cachorro'\n",
    "print(dict)"
   ]
  },
  {
   "cell_type": "markdown",
   "metadata": {},
   "source": [
    "**Embora recomendável, não necessariamente uma chave deva ser uma string**"
   ]
  },
  {
   "cell_type": "code",
   "execution_count": 151,
   "metadata": {},
   "outputs": [
    {
     "name": "stdout",
     "output_type": "stream",
     "text": [
      "{'string_chave': 1, 'string_chave2': 2.4, 'string_chave3': 'string'}\n"
     ]
    }
   ],
   "source": [
    "dict = {'string_chave':1,'string_chave2':2.4,'string_chave3':'string'}\n",
    "print(dict)"
   ]
  },
  {
   "cell_type": "code",
   "execution_count": 153,
   "metadata": {},
   "outputs": [
    {
     "name": "stdout",
     "output_type": "stream",
     "text": [
      "{1: 'um', 2: 'dois', 3: 'tres', 4: 'quatro', 5: 'cinco'}\n"
     ]
    }
   ],
   "source": [
    "dict_num = {1:'um',2:'dois',3:'tres',4:'quatro',5:'cinco'}\n",
    "print(dict_num)"
   ]
  },
  {
   "cell_type": "code",
   "execution_count": 154,
   "metadata": {},
   "outputs": [
    {
     "data": {
      "text/plain": [
       "'um'"
      ]
     },
     "execution_count": 154,
     "metadata": {},
     "output_type": "execute_result"
    }
   ],
   "source": [
    "dict_num[1] # Embora se pareça com um indice, é uma CHAVE"
   ]
  },
  {
   "cell_type": "code",
   "execution_count": 155,
   "metadata": {
    "scrolled": true
   },
   "outputs": [
    {
     "name": "stdout",
     "output_type": "stream",
     "text": [
      "um\n",
      "dois\n",
      "tres\n",
      "quatro\n",
      "cinco\n"
     ]
    }
   ],
   "source": [
    "for i in range(1,6):\n",
    "    print(dict_num[i])"
   ]
  },
  {
   "cell_type": "markdown",
   "metadata": {},
   "source": [
    "## Realizando loop nos dicionários"
   ]
  },
  {
   "cell_type": "code",
   "execution_count": 161,
   "metadata": {},
   "outputs": [
    {
     "name": "stdout",
     "output_type": "stream",
     "text": [
      "dog\n",
      "cat\n",
      "bird\n",
      "-------------------------\n",
      "cachoro\n",
      "gato\n",
      "ave\n"
     ]
    }
   ],
   "source": [
    "dict = {'dog':'cachoro', # Não aceita repetições de chaves\n",
    "        'cat':'gato',\n",
    "        'bird':'ave' # Sobreescreve o valor atual da chave\n",
    "       }\n",
    "\n",
    "for chaves in dict: # Me retorna as chaves\n",
    "    print(chaves)\n",
    "\n",
    "print('-'*25)\n",
    "    \n",
    "for chave in dict:\n",
    "    print(dict[chave]) # Me retorna os valores das chaves"
   ]
  },
  {
   "cell_type": "code",
   "execution_count": 168,
   "metadata": {},
   "outputs": [
    {
     "name": "stdout",
     "output_type": "stream",
     "text": [
      "Todas as chaves: dict_keys(['dog', 'cat', 'bird'])\n",
      "Todos os valores: dict_values(['cachoro', 'gato', 'ave'])\n",
      "Todos os itens: dict_items([('dog', 'cachoro'), ('cat', 'gato'), ('bird', 'ave')])\n"
     ]
    }
   ],
   "source": [
    "# chaves => keys()\n",
    "# valores => values()\n",
    "# itens => items()\n",
    "\n",
    "print(\"Todas as chaves:\",dict.keys())\n",
    "print(\"Todos os valores:\",dict.values())\n",
    "print(\"Todos os itens:\",dict.items())"
   ]
  },
  {
   "cell_type": "code",
   "execution_count": 166,
   "metadata": {},
   "outputs": [
    {
     "name": "stdout",
     "output_type": "stream",
     "text": [
      "cachoro\n",
      "gato\n",
      "ave\n"
     ]
    }
   ],
   "source": [
    "for valor in dict.values():\n",
    "    print(valor)"
   ]
  },
  {
   "cell_type": "code",
   "execution_count": 167,
   "metadata": {},
   "outputs": [
    {
     "name": "stdout",
     "output_type": "stream",
     "text": [
      "dog\n",
      "cat\n",
      "bird\n"
     ]
    }
   ],
   "source": [
    "for chave in dict.keys():\n",
    "    print(chave)"
   ]
  },
  {
   "cell_type": "code",
   "execution_count": 173,
   "metadata": {},
   "outputs": [
    {
     "name": "stdout",
     "output_type": "stream",
     "text": [
      "A chave é dog e o valor é cachoro\n",
      "O tipo da chave é <class 'str'> e o tip do valor é <class 'str'>\n",
      "A chave é cat e o valor é gato\n",
      "O tipo da chave é <class 'str'> e o tip do valor é <class 'str'>\n",
      "A chave é bird e o valor é ave\n",
      "O tipo da chave é <class 'str'> e o tip do valor é <class 'str'>\n"
     ]
    }
   ],
   "source": [
    "for chave, valor in dict.items():\n",
    "    print(f\"A chave é {chave} e o valor é {valor}\")\n",
    "    print(f'O tipo da chave é {type(chave)} e o tip do valor é {type(valor)}')\n",
    "        "
   ]
  },
  {
   "cell_type": "code",
   "execution_count": 172,
   "metadata": {},
   "outputs": [
    {
     "name": "stdout",
     "output_type": "stream",
     "text": [
      "Em inglês é dog e em português é cachoro\n",
      "Em inglês é cat e em português é gato\n",
      "Em inglês é bird e em português é ave\n"
     ]
    }
   ],
   "source": [
    "for chave, valor in dict.items():\n",
    "   print(f\"Em inglês é {chave} e em português é {valor}\")"
   ]
  },
  {
   "cell_type": "markdown",
   "metadata": {},
   "source": [
    "**Checando existência**"
   ]
  },
  {
   "cell_type": "code",
   "execution_count": 178,
   "metadata": {},
   "outputs": [
    {
     "name": "stdout",
     "output_type": "stream",
     "text": [
      "O cachoro está no dicionário\n"
     ]
    }
   ],
   "source": [
    "if 'dog' in dict:\n",
    "    print(f\"O {dict['dog']} está no dicionário\")\n",
    "else:\n",
    "    print('Eu não sei a tradução dessa palavra')"
   ]
  },
  {
   "cell_type": "markdown",
   "metadata": {},
   "source": [
    "**Adicionando itens no dicionário**"
   ]
  },
  {
   "cell_type": "code",
   "execution_count": 182,
   "metadata": {},
   "outputs": [
    {
     "name": "stdout",
     "output_type": "stream",
     "text": [
      "O macaco está no dicionário\n"
     ]
    }
   ],
   "source": [
    "dict['monkey'] = 'macaco'\n",
    "\n",
    "if 'monkey' in dict:\n",
    "    print(f\"O {dict['monkey']} está no dicionário\")\n",
    "else:\n",
    "    print('Eu não sei a tradução dessa palavra')"
   ]
  },
  {
   "cell_type": "code",
   "execution_count": 183,
   "metadata": {},
   "outputs": [
    {
     "name": "stdout",
     "output_type": "stream",
     "text": [
      "{'dog': 'cachoro', 'cat': 'gato', 'bird': 'ave', 'monkey': 'macaco', 'banana': 'banana'}\n"
     ]
    }
   ],
   "source": [
    "dict['banana'] = 'banana'\n",
    "print(dict)"
   ]
  },
  {
   "cell_type": "markdown",
   "metadata": {},
   "source": [
    "**Removento Itens:**  \n",
    "**Pop:** Remove apenas um item  \n",
    "**Clear:** Limpa a lista (remove todos os itens)"
   ]
  },
  {
   "cell_type": "code",
   "execution_count": 186,
   "metadata": {},
   "outputs": [
    {
     "name": "stdout",
     "output_type": "stream",
     "text": [
      "{'dog': 'cachoro', 'cat': 'gato', 'bird': 'ave', 'monkey': 'macaco'}\n"
     ]
    }
   ],
   "source": [
    "if 'banana' in dict:\n",
    "    dict.pop('banana')\n",
    "print(dict)"
   ]
  },
  {
   "cell_type": "code",
   "execution_count": 187,
   "metadata": {},
   "outputs": [
    {
     "name": "stdout",
     "output_type": "stream",
     "text": [
      "{}\n"
     ]
    }
   ],
   "source": [
    "dict.clear()\n",
    "print(dict)"
   ]
  },
  {
   "cell_type": "markdown",
   "metadata": {},
   "source": [
    "## Aninhando Estruturas\n",
    "Estruturas uma dentro da outra"
   ]
  },
  {
   "cell_type": "markdown",
   "metadata": {},
   "source": [
    "### Dicionários Aninhados"
   ]
  },
  {
   "cell_type": "code",
   "execution_count": 190,
   "metadata": {},
   "outputs": [],
   "source": [
    "# Cada curso => Nome, Categoria, Instrutor, Alunos\n",
    "cursos = {\n",
    "         'solid':{\n",
    "            'nome': 'Aprenda Design Patterns com SOLID',\n",
    "            'categoria': 'Design Patterns',\n",
    "            'instrutor': 'Felipe Cabrera',\n",
    "            'alunos': 5000\n",
    "             },\n",
    "         'android9':{\n",
    "             'nome': 'Android 9.0 Avançado: APIs Nativas e Banco de Dados',\n",
    "             'categoria': 'Android',\n",
    "             'instrutor': 'Alisson Bolsoni',\n",
    "             'alunos': 5000\n",
    "         },\n",
    "         'vscode':{\n",
    "             'nome': 'VS CODE: Produtividade Infinita',\n",
    "             'categoria': 'Programação',\n",
    "             'instrutor': 'Felipe Cabrera',\n",
    "             'aluns': 5000\n",
    "         }\n",
    "         }"
   ]
  },
  {
   "cell_type": "code",
   "execution_count": 191,
   "metadata": {},
   "outputs": [
    {
     "name": "stdout",
     "output_type": "stream",
     "text": [
      "{'solid': {'nome': 'Aprenda Design Patterns com SOLID', 'categoria': 'Design Patterns', 'instrutor': 'Felipe Cabrera', 'alunos': 5000}, 'android9': {'nome': 'Android 9.0 Avançado: APIs Nativas e Banco de Dados', 'categoria': 'Android', 'instrutor': 'Alisson Bolsoni', 'alunos': 5000}, 'vscode': {'nome': 'VS CODE: Produtividade Infinita', 'categoria': 'Programação', 'instrutor': 'Felipe Cabrera', 'aluns': 5000}}\n"
     ]
    }
   ],
   "source": [
    "print(cursos)"
   ]
  },
  {
   "cell_type": "code",
   "execution_count": 193,
   "metadata": {},
   "outputs": [
    {
     "name": "stdout",
     "output_type": "stream",
     "text": [
      "solid\n",
      "android9\n",
      "vscode\n"
     ]
    }
   ],
   "source": [
    "for chave in cursos.keys():\n",
    "    print(chave)"
   ]
  },
  {
   "cell_type": "code",
   "execution_count": 198,
   "metadata": {},
   "outputs": [
    {
     "name": "stdout",
     "output_type": "stream",
     "text": [
      "Aprenda Design Patterns com SOLID\n",
      "Felipe Cabrera\n",
      "Design Patterns\n",
      "5000\n"
     ]
    }
   ],
   "source": [
    "print(cursos['solid']['nome'])\n",
    "print(cursos['solid']['instrutor'])\n",
    "print(cursos['solid']['categoria'])\n",
    "print(cursos['solid']['alunos'])"
   ]
  },
  {
   "cell_type": "markdown",
   "metadata": {},
   "source": [
    "### Listas Aninhadas"
   ]
  },
  {
   "cell_type": "code",
   "execution_count": 201,
   "metadata": {},
   "outputs": [
    {
     "name": "stdout",
     "output_type": "stream",
     "text": [
      "[[0, 1, 2, 3], [1.2, 3.4, 5.6], ['abc', 'def', 'ghi']]\n",
      "['abc', 'def', 'ghi']\n",
      "def\n"
     ]
    }
   ],
   "source": [
    "lista = [[0,1,2,3],[1.2,3.4,5.6],['abc','def','ghi']]\n",
    "print(lista)\n",
    "print(lista[2])\n",
    "print(lista[2][1])"
   ]
  },
  {
   "cell_type": "markdown",
   "metadata": {},
   "source": [
    "### Tuplas Aninhadas"
   ]
  },
  {
   "cell_type": "code",
   "execution_count": 207,
   "metadata": {},
   "outputs": [
    {
     "name": "stdout",
     "output_type": "stream",
     "text": [
      "((0, 1), (2.3, 4.5), ('a', 'b'), ('bylearn', 'felipe'))\n",
      "(2.3, 4.5)\n",
      "2.3\n",
      "learn\n"
     ]
    }
   ],
   "source": [
    "tuplas = ((0,1),(2.3,4.5),('a','b'),('bylearn','felipe'))\n",
    "print(tuplas)\n",
    "print(tuplas[1])\n",
    "print(tuplas[1][0])\n",
    "print(tuplas[3][0][2:])"
   ]
  },
  {
   "cell_type": "markdown",
   "metadata": {},
   "source": [
    "### 'Conjuntos Aninhados'"
   ]
  },
  {
   "cell_type": "markdown",
   "metadata": {},
   "source": [
    "Conjuntos matemáticos não são aninhados, não há conjunto dentro de outro, e sim subconjuntos"
   ]
  },
  {
   "cell_type": "code",
   "execution_count": 214,
   "metadata": {},
   "outputs": [
    {
     "ename": "TypeError",
     "evalue": "unhashable type: 'set'",
     "output_type": "error",
     "traceback": [
      "\u001b[1;31m---------------------------------------------------------------------------\u001b[0m",
      "\u001b[1;31mTypeError\u001b[0m                                 Traceback (most recent call last)",
      "\u001b[1;32m<ipython-input-214-f6f5a78e1fe4>\u001b[0m in \u001b[0;36m<module>\u001b[1;34m\u001b[0m\n\u001b[1;32m----> 1\u001b[1;33m \u001b[0mconjunto\u001b[0m \u001b[1;33m=\u001b[0m \u001b[1;33m{\u001b[0m\u001b[1;36m1\u001b[0m\u001b[1;33m,\u001b[0m\u001b[1;36m2\u001b[0m\u001b[1;33m,\u001b[0m\u001b[1;33m{\u001b[0m\u001b[1;36m3\u001b[0m\u001b[1;33m,\u001b[0m\u001b[1;36m4\u001b[0m\u001b[1;33m}\u001b[0m\u001b[1;33m,\u001b[0m\u001b[1;36m5\u001b[0m\u001b[1;33m}\u001b[0m \u001b[1;31m# Não dá para se fazer, de fato, um conjunto aninhado. Isso não está na teoria dos conjuntos\u001b[0m\u001b[1;33m\u001b[0m\u001b[1;33m\u001b[0m\u001b[0m\n\u001b[0m",
      "\u001b[1;31mTypeError\u001b[0m: unhashable type: 'set'"
     ]
    }
   ],
   "source": [
    "conjunto = {1,2,{3,4},5} # Não dá para se fazer, de fato, um conjunto aninhado. Isso não está na teoria dos conjuntos"
   ]
  },
  {
   "cell_type": "code",
   "execution_count": 218,
   "metadata": {},
   "outputs": [
    {
     "name": "stdout",
     "output_type": "stream",
     "text": [
      "{frozenset({3, 4}), frozenset({5, 6}), frozenset({1, 2})}\n",
      "<class 'frozenset'>\n",
      "<class 'frozenset'>\n",
      "<class 'frozenset'>\n"
     ]
    }
   ],
   "source": [
    "conj = set()\n",
    "conj.add(frozenset((1,2)))\n",
    "conj.add(frozenset([3,4]))\n",
    "conj.add(frozenset((5,6)))\n",
    "print(conj)\n",
    "\n",
    "for i in conj:\n",
    "    print(type(i))"
   ]
  },
  {
   "cell_type": "markdown",
   "metadata": {},
   "source": [
    "## Estruturas Aninhadas entre si"
   ]
  },
  {
   "cell_type": "code",
   "execution_count": 221,
   "metadata": {},
   "outputs": [
    {
     "name": "stdout",
     "output_type": "stream",
     "text": [
      "([1, 2, 3], {'chave': 'valor'}, {2, 3, 4}, [1, (2, 3), {'chave': (2, 3)}])\n"
     ]
    }
   ],
   "source": [
    "z = ([1,2,3],{'chave':'valor'},{2,3,4},[1,(2,3),{'chave':(2,3)}])\n",
    "print(super_estrutura)"
   ]
  },
  {
   "cell_type": "code",
   "execution_count": null,
   "metadata": {},
   "outputs": [],
   "source": []
  }
 ],
 "metadata": {
  "kernelspec": {
   "display_name": "Python 3",
   "language": "python",
   "name": "python3"
  },
  "language_info": {
   "codemirror_mode": {
    "name": "ipython",
    "version": 3
   },
   "file_extension": ".py",
   "mimetype": "text/x-python",
   "name": "python",
   "nbconvert_exporter": "python",
   "pygments_lexer": "ipython3",
   "version": "3.7.3"
  }
 },
 "nbformat": 4,
 "nbformat_minor": 2
}
