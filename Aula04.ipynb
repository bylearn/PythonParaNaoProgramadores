{
 "cells": [
  {
   "cell_type": "markdown",
   "metadata": {},
   "source": [
    "## Manipulação de Strings\n",
    "\n",
    "Em Python 3 tudo é objeto e uma string é do tipo str."
   ]
  },
  {
   "cell_type": "code",
   "execution_count": 7,
   "metadata": {},
   "outputs": [
    {
     "data": {
      "text/plain": [
       "str"
      ]
     },
     "execution_count": 7,
     "metadata": {},
     "output_type": "execute_result"
    }
   ],
   "source": [
    "s = \"python\"\n",
    "type(s)"
   ]
  },
  {
   "cell_type": "markdown",
   "metadata": {},
   "source": [
    "Podemos acessar uma string pelo seu index."
   ]
  },
  {
   "cell_type": "code",
   "execution_count": 8,
   "metadata": {},
   "outputs": [
    {
     "name": "stdout",
     "output_type": "stream",
     "text": [
      "p\n",
      "y\n",
      "t\n",
      "h\n",
      "o\n",
      "n\n"
     ]
    }
   ],
   "source": [
    "print(s[0])\n",
    "print(s[1])\n",
    "print(s[2])\n",
    "print(s[3])\n",
    "print(s[4])\n",
    "print(s[5])"
   ]
  },
  {
   "cell_type": "markdown",
   "metadata": {},
   "source": [
    "Mas não podemos alterar seu valor atribuindo um valor através do índice. Elas são Imutaveis"
   ]
  },
  {
   "cell_type": "code",
   "execution_count": 9,
   "metadata": {},
   "outputs": [
    {
     "ename": "TypeError",
     "evalue": "'str' object does not support item assignment",
     "output_type": "error",
     "traceback": [
      "\u001b[1;31m---------------------------------------------------------------------------\u001b[0m",
      "\u001b[1;31mTypeError\u001b[0m                                 Traceback (most recent call last)",
      "\u001b[1;32m<ipython-input-9-557028c2ae0a>\u001b[0m in \u001b[0;36m<module>\u001b[1;34m\u001b[0m\n\u001b[0;32m      1\u001b[0m \u001b[0mpalavra\u001b[0m \u001b[1;33m=\u001b[0m \u001b[1;34m\"foo\"\u001b[0m\u001b[1;33m\u001b[0m\u001b[1;33m\u001b[0m\u001b[0m\n\u001b[1;32m----> 2\u001b[1;33m \u001b[0mpalavra\u001b[0m\u001b[1;33m[\u001b[0m\u001b[1;36m1\u001b[0m\u001b[1;33m]\u001b[0m \u001b[1;33m=\u001b[0m \u001b[1;34m\"r\"\u001b[0m\u001b[1;33m\u001b[0m\u001b[1;33m\u001b[0m\u001b[0m\n\u001b[0m",
      "\u001b[1;31mTypeError\u001b[0m: 'str' object does not support item assignment"
     ]
    }
   ],
   "source": [
    "palavra = \"foo\"\n",
    "palavra[1] = \"r\""
   ]
  },
  {
   "cell_type": "markdown",
   "metadata": {},
   "source": [
    "String é um objeto iterável."
   ]
  },
  {
   "cell_type": "code",
   "execution_count": 12,
   "metadata": {},
   "outputs": [
    {
     "name": "stdout",
     "output_type": "stream",
     "text": [
      "p\n",
      "y\n",
      "t\n",
      "h\n",
      "o\n",
      "n\n"
     ]
    }
   ],
   "source": [
    "for letter in \"python\":\n",
    "    print(letter)"
   ]
  },
  {
   "cell_type": "markdown",
   "metadata": {},
   "source": [
    "Podemos fatiar a string."
   ]
  },
  {
   "cell_type": "code",
   "execution_count": 14,
   "metadata": {},
   "outputs": [
    {
     "name": "stdout",
     "output_type": "stream",
     "text": [
      "yth\n",
      "pyt\n",
      "pyt\n",
      "n\n",
      "o\n",
      "python\n",
      "python\n",
      "python\n"
     ]
    }
   ],
   "source": [
    "#\n",
    "# Nossa string\n",
    "#\n",
    "s = \"python\"\n",
    "\n",
    "#\n",
    "# Determinado comprimento\n",
    "#\n",
    "print(s[1:4])\n",
    "\n",
    "#\n",
    "# Do começo até i\n",
    "#\n",
    "print(s[0:3])\n",
    "print(s[:3])\n",
    "\n",
    "#\n",
    "# Acessando pelo final\n",
    "#\n",
    "print(s[-1])\n",
    "print(s[-2])\n",
    "\n",
    "#\n",
    "# Acessando completamente\n",
    "#\n",
    "print(s)\n",
    "print(s[:])\n",
    "print(s[0:])"
   ]
  },
  {
   "cell_type": "markdown",
   "metadata": {},
   "source": [
    "Leia mais sobre [fatiamento de sequências](http://www.devfuria.com.br/python/sequencias-fatiamento/).\n",
    "\n",
    "Concatenamos strings com o sinal +, exemplo: \"Spam \" + \"and\" + \" eggs\"\n",
    "\n",
    "Quando concatenamos com um número, precisamos fazer a conversão, exexemplo: \"The value of pi is around \" + str(3.14)\n",
    "\n",
    "Escapamos (scape) caracters com o sinal \\, exemplo: 'There\\'s a snake in my boot!'\n",
    "\n",
    "    \n",
    "## Pesquisando a string\n",
    "\n",
    "Podemos pesquisar um string com o operador in, exemplo"
   ]
  },
  {
   "cell_type": "code",
   "execution_count": 15,
   "metadata": {},
   "outputs": [
    {
     "data": {
      "text/plain": [
       "False"
      ]
     },
     "execution_count": 15,
     "metadata": {},
     "output_type": "execute_result"
    }
   ],
   "source": [
    "\"b\" in \"abc\"     # True\n",
    "\"d\" in \"abc\"     # False\n",
    "\"d\" not in \"abc\" # True\n",
    "\"b\" not in \"abc\" # False"
   ]
  },
  {
   "cell_type": "code",
   "execution_count": 16,
   "metadata": {},
   "outputs": [
    {
     "name": "stdout",
     "output_type": "stream",
     "text": [
      "3\n"
     ]
    },
    {
     "ename": "ValueError",
     "evalue": "empty separator",
     "output_type": "error",
     "traceback": [
      "\u001b[1;31m---------------------------------------------------------------------------\u001b[0m",
      "\u001b[1;31mValueError\u001b[0m                                Traceback (most recent call last)",
      "\u001b[1;32m<ipython-input-16-e07a6027ec18>\u001b[0m in \u001b[0;36m<module>\u001b[1;34m\u001b[0m\n\u001b[0;32m     56\u001b[0m \u001b[0ms\u001b[0m\u001b[1;33m.\u001b[0m\u001b[0msplit\u001b[0m\u001b[1;33m(\u001b[0m\u001b[1;33m)\u001b[0m      \u001b[1;31m# ['n', 'o', 'm', 'e']\u001b[0m\u001b[1;33m\u001b[0m\u001b[1;33m\u001b[0m\u001b[0m\n\u001b[0;32m     57\u001b[0m \u001b[0ms\u001b[0m\u001b[1;33m.\u001b[0m\u001b[0msplit\u001b[0m\u001b[1;33m(\u001b[0m\u001b[1;34m\" \"\u001b[0m\u001b[1;33m)\u001b[0m   \u001b[1;31m# ['n', 'o', 'm', 'e']\u001b[0m\u001b[1;33m\u001b[0m\u001b[1;33m\u001b[0m\u001b[0m\n\u001b[1;32m---> 58\u001b[1;33m \u001b[0ms\u001b[0m\u001b[1;33m.\u001b[0m\u001b[0msplit\u001b[0m\u001b[1;33m(\u001b[0m\u001b[1;34m\"\"\u001b[0m\u001b[1;33m)\u001b[0m    \u001b[1;31m# ValueError: empty separator\u001b[0m\u001b[1;33m\u001b[0m\u001b[1;33m\u001b[0m\u001b[0m\n\u001b[0m",
      "\u001b[1;31mValueError\u001b[0m: empty separator"
     ]
    }
   ],
   "source": [
    "# Métodos comuns para strings\n",
    "# Método len()\n",
    "# Mostra o tamanho da string\n",
    "\n",
    "s = \"foo\"\n",
    "print(len(s))\n",
    "\n",
    "# Método upper()\n",
    "# Caixa alta.\n",
    "\n",
    "\"foo\".upper() # FOO\n",
    "\n",
    "# Método lower()\n",
    "# Caixa baixa.\n",
    "\n",
    "\"ALFA\".lower() # alfa\n",
    "\n",
    "# Método str()\n",
    "# Converte em string.\n",
    "\n",
    "num = 123\n",
    "type(num)      # <class 'int'>\n",
    "type(str(num)) # <class 'str'>\n",
    "\n",
    "# Método isalpha()\n",
    "# Retorna False se a string contiver algum caracter que não seja letras\n",
    "\n",
    "\"abc\".isalpha()  # True\n",
    "\"1fg\".isalpha()  # False\n",
    "\"123\".isalpha()  # False\n",
    "\"/+)\".isalpha()  # False\n",
    "\n",
    "# Método strip()\n",
    "# Retira espaços em branco no começo e no fim\n",
    "\n",
    "\" sobrando espaços \".strip()      # 'sobrando espaços'\n",
    "\"  sobrando espaços   \".strip()   # 'sobrando espaços'\n",
    "\n",
    "# Método join()\n",
    "# Junta cada item da string com um delimitador especificado.\n",
    "# É o inverso do split().\n",
    "\n",
    "\", \".join(\"abc\")\n",
    "# 'a, b, c'\n",
    "\n",
    "# Aceita listas.\n",
    "\n",
    "\"-\".join(['python', 'bylearn', 'programador'])\n",
    "# 'python-bylearn-programador'\n",
    "\n",
    "# Método split()\n",
    "# Separa uma string conforme um delimitador.\n",
    "# É o inverso do join().\n",
    "\n",
    "s = 'n o m e'\n",
    "s.split()      # ['n', 'o', 'm', 'e']\n",
    "s.split(\" \")   # ['n', 'o', 'm', 'e']\n",
    "s.split(\"\")    # ValueError: empty separator"
   ]
  },
  {
   "cell_type": "markdown",
   "metadata": {},
   "source": [
    "## LISTAS\n",
    "\n",
    "Abaixo temos um exemplo de uma lista:"
   ]
  },
  {
   "cell_type": "code",
   "execution_count": 17,
   "metadata": {},
   "outputs": [
    {
     "data": {
      "text/plain": [
       "'dog'"
      ]
     },
     "execution_count": 17,
     "metadata": {},
     "output_type": "execute_result"
    }
   ],
   "source": [
    "animals = [\"pangolin\", \"cassowary\", \"sloth\", \"dog\"];\n",
    "animals[0]   # 'pangolin'\n",
    "animals[1]   # 'cassowary'\n",
    "animals[2]   # 'sloth'\n",
    "animals[3]   # 'dog'"
   ]
  },
  {
   "cell_type": "markdown",
   "metadata": {},
   "source": [
    "Contamos o índice da lista a partir do zero, veja:\n",
    "\n",
    "```\n",
    "+-------------+-------------+-------------+-------------+-------------+\n",
    "| \"pangolin\"  | \"cassowary\" |   \"sloth\"   |    \"dog\"    |lanca um erro|\n",
    "+-------------+-------------+-------------+-------------+-------------+\n",
    "      0              1             2              3            4\n",
    "```\n"
   ]
  },
  {
   "cell_type": "markdown",
   "metadata": {},
   "source": [
    "Ao acessar um índice inexistente recebemos um erro.\n",
    "\n",
    "```\n",
    "animals[4]   # IndexError: list index out of range\n",
    "```\n",
    "\n",
    "Podemos fatiar (leia-se acessar) um lista de diversas formas, veja a matéria sobre [fatiamento de sequencias](http://www.devfuria.com.br/python/sequencias-fatiamento/).\n",
    "Para criar uma lista\n",
    "\n",
    "Podemos criar uma lista vazia.\n",
    "\n",
    "PS. Não se utiliza váriavel list, pois é uma palavra reservada do python"
   ]
  },
  {
   "cell_type": "code",
   "execution_count": null,
   "metadata": {},
   "outputs": [],
   "source": [
    "lis = []\n",
    "\n",
    "# Podemos criar uma lista com alguns itens separados por vírgula.\n",
    "\n",
    "lis = ['a', 'b', 'c']\n",
    "\n",
    "# Podemos criar uma lista através do \"list comprehension\"\n",
    "\n",
    "lis = [x for x in iterable]\n",
    "\n",
    "# Ou também podemos utilizar a função interna (built in) list().\n",
    "\n",
    "lis = list() # equivalente a l = []\n",
    "lis = list(['a', 'b', 'c']) # equivalente a l = ['a', 'b, 'c']"
   ]
  },
  {
   "cell_type": "markdown",
   "metadata": {},
   "source": [
    "**Percorrendo a lista (list looping)**\n",
    "\n",
    "Abaixo vemos um exemplo de como percorrer um lista na sua forma mas simples."
   ]
  },
  {
   "cell_type": "code",
   "execution_count": null,
   "metadata": {},
   "outputs": [],
   "source": [
    "myList = [1, 2, 3, 4]\n",
    "for number in myList:\n",
    "    print (number * 2)\n",
    "\n",
    "# Abaixo incrementamos a implementação com a função interna enumarate(). ela irá numerar a lista.\n",
    "\n",
    "choices = ['pizza', 'pasta', 'salad', 'nachos']\n",
    "print ()'Your choices are:')\n",
    "for index, item in enumerate(choices):\n",
    "    print (index, item)"
   ]
  },
  {
   "cell_type": "markdown",
   "metadata": {},
   "source": [
    "**Copiando listas**\n",
    "\n",
    "Se quisermos copiar uma lista podemos realizar uma simples atribuição, mas manteremos uma relação entre as duas, ou melhor, ambas apontam para o mesmo objeto e as alterações em uma afetará a outra."
   ]
  },
  {
   "cell_type": "code",
   "execution_count": null,
   "metadata": {},
   "outputs": [],
   "source": [
    "list_a = [6, 7, 8, 9]\n",
    "list_b = lista_a"
   ]
  },
  {
   "cell_type": "markdown",
   "metadata": {},
   "source": [
    "Temos uma cópia mas ambas apontam para o mesmo objeto.\n",
    "\n",
    "**Clonando listas**\n",
    "\n",
    "Se quisermos copiar uma lista sem manter a referência entre elas, podemos utilizar o operador de fatia [:]."
   ]
  },
  {
   "cell_type": "code",
   "execution_count": null,
   "metadata": {},
   "outputs": [],
   "source": [
    "list_a = [6, 7, 8, 9]\n",
    "list_b = lista_a[:]"
   ]
  },
  {
   "cell_type": "markdown",
   "metadata": {},
   "source": [
    "Temos cópias independentes, um clone.\n",
    "\n",
    "**Juntando listas (join lists)**"
   ]
  },
  {
   "cell_type": "code",
   "execution_count": null,
   "metadata": {},
   "outputs": [],
   "source": [
    "m = [1, 2, 3]\n",
    "n = [4, 5, 6]\n",
    "o = m + n\n",
    "print(o) # [1, 2, 3, 4, 5, 6]\n",
    "\n",
    "o += [7, 8, 9]\n",
    "print(o) # [1, 2, 3, 4, 5, 6, 7, 8, 9]"
   ]
  },
  {
   "cell_type": "markdown",
   "metadata": {},
   "source": [
    "## Funções nativas para listas"
   ]
  },
  {
   "cell_type": "code",
   "execution_count": null,
   "metadata": {},
   "outputs": [],
   "source": [
    "# append()\n",
    "nums = [\"um\"]\n",
    "print(nums) # ['um']\n",
    "\n",
    "nums.append(\"dois\")\n",
    "nums.append(\"tres\")\n",
    "nums.append(\"quatro\")\n",
    "print(nums) # ['um', 'dois', 'tres', 'quatro']\n",
    "\n",
    "# index()\n",
    "# A função index() retorna o index de determinado elemento.\n",
    "animals = [\"ant\", \"bat\", \"cat\"]\n",
    "print(animals.index(\"bat\")) # 1\n",
    "\n",
    "# Se você procurar por um item que não existe um erro será lançado.\n",
    "print(animals.index(\"dog\")\n",
    "# Traceback (most recent call last):\n",
    "#  File \"<stdin>\", line 1, in <module>\n",
    "# ValueError: 'dog' is not in list\n",
    "# Por tanto, se o seu objetivo é saber se um item pertence a lista utilize o operador de teste de inlclusão in.\n",
    "\n",
    "animals = [\"ant\", \"bat\", \"cat\"]\n",
    "'dog' in animals # False\n",
    "'cat' in animals # True\n",
    "\n",
    "# insert()\n",
    "animals = [\"ant\", \"bat\", \"cat\"]\n",
    "animals.insert(1, \"dog\")\n",
    "print(animals) # [\"ant\", \"dog\", \"bat\", \"cat\"]\n",
    "\n",
    "# remove()\n",
    "# Remove através do valor\n",
    "animals = [\"ant\", \"bat\", \"cat\"]\n",
    "animals.remove(\"ant\")\n",
    "print(animals) # [\"bat\", \"cat\"]\n",
    "\n",
    "# pop()\n",
    "# Remove através do índice (retorna o valor removido).\n",
    "animals = [\"ant\", \"bat\", \"cat\"]\n",
    "animals.pop(0) # 'ant'\n",
    "print(animals) # [\"bat\", \"cat\"]\n",
    "\n",
    "# Semelhante a utilização de del():\n",
    "animals = [\"ant\", \"bat\", \"cat\"]\n",
    "del(animals[0])\n",
    "print(animals) # [\"bat\", \"cat\"]\n",
    "\n",
    "# sort()\n",
    "lista = [\"c\", \"b\", \"a\"]\n",
    "print(lista) # ['c', 'b', 'a']\n",
    "\n",
    "lista.sort()\n",
    "print(lista) # ['a', 'b', 'c']\n",
    "\n",
    "# Para ordenar uma lista também é possível utilizar a função interna sorted(), exemplo:\n",
    "sorted([5, 2, 3, 1, 4]) # [1, 2, 3, 4, 5]\n",
    "\n",
    "# Uma observação importante é que a função sort() não retorna a lista, então...\n",
    "lista = [\"c\", \"b\", \"a\"]\n",
    "print(lista.sort()) # None\n",
    "\n",
    "# ... já a função sorted() retorna a lista ['a', 'b', 'c'] veja:\n",
    "lista = [\"c\", \"b\", \"a\"]\n",
    "print(sorted(lista))\n",
    "# ['a', 'b', 'c']"
   ]
  }
 ],
 "metadata": {
  "kernelspec": {
   "display_name": "Python 3",
   "language": "python",
   "name": "python3"
  },
  "language_info": {
   "codemirror_mode": {
    "name": "ipython",
    "version": 3
   },
   "file_extension": ".py",
   "mimetype": "text/x-python",
   "name": "python",
   "nbconvert_exporter": "python",
   "pygments_lexer": "ipython3",
   "version": "3.7.4"
  }
 },
 "nbformat": 4,
 "nbformat_minor": 2
}
