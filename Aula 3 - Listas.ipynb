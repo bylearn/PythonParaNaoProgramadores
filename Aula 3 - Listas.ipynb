{
 "cells": [
  {
   "cell_type": "markdown",
   "metadata": {},
   "source": [
    "# Necessidade de se trabalhar com listas\n",
    "A necessidade se dá pela repetição constante de varios valores do mesmo tipo, onde precisamos de uma maneira mais fácil de trabalhar com tais valores"
   ]
  },
  {
   "cell_type": "code",
   "execution_count": 4,
   "metadata": {},
   "outputs": [
    {
     "name": "stdout",
     "output_type": "stream",
     "text": [
      "60\n"
     ]
    }
   ],
   "source": [
    "def main():\n",
    "    num1 = 10\n",
    "    num2 = 11\n",
    "    num3 = 12\n",
    "    num4 = 13\n",
    "    num5 = 14\n",
    "    soma = num1 + num2 + num3 + num4 + num5\n",
    "    print(soma)\n",
    "    \n",
    "main()"
   ]
  },
  {
   "cell_type": "code",
   "execution_count": 5,
   "metadata": {},
   "outputs": [
    {
     "name": "stdout",
     "output_type": "stream",
     "text": [
      "145\n"
     ]
    }
   ],
   "source": [
    "def main():\n",
    "    num1 = 10\n",
    "    num2 = 11\n",
    "    num3 = 12\n",
    "    num4 = 13\n",
    "    num5 = 14\n",
    "    num6 = 15\n",
    "    num7 = 16\n",
    "    num8 = 17\n",
    "    num9 = 18\n",
    "    num10 = 19\n",
    "    soma = num1 + num2 + num3 + num4 + num5 + num6 + num7 + num8 + num9 + num10\n",
    "    print(soma)\n",
    "    \n",
    "main()"
   ]
  },
  {
   "cell_type": "code",
   "execution_count": 6,
   "metadata": {},
   "outputs": [
    {
     "name": "stdout",
     "output_type": "stream",
     "text": [
      "O aluno1 (Felipe) ficou com a média de 9.0\n",
      "O aluno2 (Alisson) ficou com a média de 8.5\n",
      "O aluno3 (Haynes) ficou com a média de 8.5\n"
     ]
    }
   ],
   "source": [
    "def main():\n",
    "    aluno1 = 'Felipe'\n",
    "    aluno2 = 'Alisson'\n",
    "    aluno3 = 'Haynes'\n",
    "    prova1_1 = 8\n",
    "    prova2_1 = 10\n",
    "    prova1_2 = 10\n",
    "    prova2_2 = 7\n",
    "    prova1_3 = 8\n",
    "    prova2_3 = 9\n",
    "    media1 = (prova1_1 + prova2_1) / 2\n",
    "    media2 = (prova1_2 + prova2_2) / 2\n",
    "    media3 = (prova1_3 + prova2_3) / 2\n",
    "    print(f\"O aluno1 ({aluno1}) ficou com a média de {media1}\")\n",
    "    print(f\"O aluno2 ({aluno2}) ficou com a média de {media2}\")\n",
    "    print(f\"O aluno3 ({aluno3}) ficou com a média de {media3}\")\n",
    "    \n",
    "main()"
   ]
  },
  {
   "cell_type": "markdown",
   "metadata": {},
   "source": [
    "**Motivação das listas**\n",
    "Trabalhar com vários valores relacionados em uma só variável"
   ]
  },
  {
   "cell_type": "code",
   "execution_count": 7,
   "metadata": {},
   "outputs": [],
   "source": [
    "def main():\n",
    "    # Todos os possiveis alunos\n",
    "    # Felipe, Alisson, Haynes, ByLearner\n",
    "    # As notas respectivas dos alunos\n",
    "    # 8 e 10, 10 e 7, 8 e 9, 10 e 10\n",
    "    \n",
    "    # Media de [Primeiro Aluno] = [Notas do 1º] / 2\n",
    "    # Para todos -> Media do [Atual] = [Notas do Atual] /2\n",
    "    pass\n",
    "\n",
    "main()"
   ]
  },
  {
   "cell_type": "markdown",
   "metadata": {},
   "source": [
    "# Criando listas\n",
    "Listas são tipos de dados que armazenam vários valores em uma variável só.  \n",
    "Em listas, nós trabalhos com índices.  \n",
    "**índices começam sempre por zero**"
   ]
  },
  {
   "cell_type": "code",
   "execution_count": 8,
   "metadata": {},
   "outputs": [
    {
     "name": "stdout",
     "output_type": "stream",
     "text": [
      "Felipe\n",
      "Alisson\n",
      "Haynes\n",
      "ByLearner\n"
     ]
    }
   ],
   "source": [
    "primeira_lista = ['Felipe', 'Alisson', 'Haynes', 'ByLearner']\n",
    "#------Posição------ 1º ------ 2º ------- 3º ------ 4º ------\n",
    "#------Índice--------0---------1----------2---------3--------\n",
    "print(primeira_lista[0])\n",
    "print(primeira_lista[1])\n",
    "print(primeira_lista[2])\n",
    "print(primeira_lista[3])"
   ]
  },
  {
   "cell_type": "code",
   "execution_count": 10,
   "metadata": {},
   "outputs": [
    {
     "ename": "IndexError",
     "evalue": "list index out of range",
     "output_type": "error",
     "traceback": [
      "\u001b[1;31m---------------------------------------------------------------------------\u001b[0m",
      "\u001b[1;31mIndexError\u001b[0m                                Traceback (most recent call last)",
      "\u001b[1;32m<ipython-input-10-c3fab2670192>\u001b[0m in \u001b[0;36m<module>\u001b[1;34m\u001b[0m\n\u001b[1;32m----> 1\u001b[1;33m \u001b[0mprint\u001b[0m\u001b[1;33m(\u001b[0m\u001b[0mprimeira_lista\u001b[0m\u001b[1;33m[\u001b[0m\u001b[1;36m4\u001b[0m\u001b[1;33m]\u001b[0m\u001b[1;33m)\u001b[0m \u001b[1;31m# Erro devido a essa posição não existir\u001b[0m\u001b[1;33m\u001b[0m\u001b[1;33m\u001b[0m\u001b[0m\n\u001b[0m",
      "\u001b[1;31mIndexError\u001b[0m: list index out of range"
     ]
    }
   ],
   "source": [
    "print(primeira_lista[4]) # Erro devido a essa posição não existir"
   ]
  },
  {
   "cell_type": "code",
   "execution_count": 11,
   "metadata": {},
   "outputs": [],
   "source": [
    "primeira_lista[2] = 'Guilherme'"
   ]
  },
  {
   "cell_type": "code",
   "execution_count": 12,
   "metadata": {},
   "outputs": [
    {
     "name": "stdout",
     "output_type": "stream",
     "text": [
      "Felipe\n",
      "Alisson\n",
      "Guilherme\n",
      "ByLearner\n"
     ]
    }
   ],
   "source": [
    "print(primeira_lista[0])\n",
    "print(primeira_lista[1])\n",
    "print(primeira_lista[2])\n",
    "print(primeira_lista[3])"
   ]
  },
  {
   "cell_type": "code",
   "execution_count": 13,
   "metadata": {},
   "outputs": [
    {
     "name": "stdout",
     "output_type": "stream",
     "text": [
      "['Felipe', 'Alisson', 'Guilherme', 'ByLearner']\n"
     ]
    }
   ],
   "source": [
    "print(primeira_lista)"
   ]
  },
  {
   "cell_type": "markdown",
   "metadata": {},
   "source": [
    "## Tentativa de adicionar na lista"
   ]
  },
  {
   "cell_type": "code",
   "execution_count": 15,
   "metadata": {
    "scrolled": true
   },
   "outputs": [
    {
     "ename": "IndexError",
     "evalue": "list assignment index out of range",
     "output_type": "error",
     "traceback": [
      "\u001b[1;31m---------------------------------------------------------------------------\u001b[0m",
      "\u001b[1;31mIndexError\u001b[0m                                Traceback (most recent call last)",
      "\u001b[1;32m<ipython-input-15-53143b759cf9>\u001b[0m in \u001b[0;36m<module>\u001b[1;34m\u001b[0m\n\u001b[1;32m----> 1\u001b[1;33m \u001b[0mprimeira_lista\u001b[0m\u001b[1;33m[\u001b[0m\u001b[1;36m4\u001b[0m\u001b[1;33m]\u001b[0m \u001b[1;33m=\u001b[0m \u001b[1;34m'Novo Aluno'\u001b[0m \u001b[1;31m# Não é assim que acrescentamos dados, pois a posição não existe\u001b[0m\u001b[1;33m\u001b[0m\u001b[1;33m\u001b[0m\u001b[0m\n\u001b[0m",
      "\u001b[1;31mIndexError\u001b[0m: list assignment index out of range"
     ]
    }
   ],
   "source": [
    "primeira_lista[4] = 'Novo Aluno' # Não é assim que acrescentamos dados, pois a posição não existe"
   ]
  },
  {
   "cell_type": "code",
   "execution_count": 16,
   "metadata": {},
   "outputs": [],
   "source": [
    "primeira_lista.append('Novo Aluno')"
   ]
  },
  {
   "cell_type": "code",
   "execution_count": 17,
   "metadata": {},
   "outputs": [
    {
     "name": "stdout",
     "output_type": "stream",
     "text": [
      "['Felipe', 'Alisson', 'Guilherme', 'ByLearner', 'Novo Aluno']\n"
     ]
    }
   ],
   "source": [
    "print(primeira_lista)"
   ]
  },
  {
   "cell_type": "markdown",
   "metadata": {},
   "source": [
    "**Conclusão:** Adicionamos itens na lista através do método append"
   ]
  },
  {
   "cell_type": "markdown",
   "metadata": {},
   "source": [
    "## Métodos alternativos de criar listas"
   ]
  },
  {
   "cell_type": "code",
   "execution_count": 21,
   "metadata": {},
   "outputs": [],
   "source": [
    "lista = [1,2,3,4]\n",
    "\n",
    "lista2 = ['a','b','c']\n",
    "\n",
    "lista3 = ['a','b',2,3]\n",
    "\n",
    "lista_alunos = []\n",
    "\n"
   ]
  },
  {
   "cell_type": "markdown",
   "metadata": {},
   "source": [
    "Funções built in são funções externas"
   ]
  },
  {
   "cell_type": "code",
   "execution_count": 23,
   "metadata": {},
   "outputs": [],
   "source": [
    "lista_built_in = list() # equivale a lista = []\n",
    "variavel_para_lista = 12\n",
    "lista_built_in_cheia = list(['a',2,variavel_para_lista])"
   ]
  },
  {
   "cell_type": "markdown",
   "metadata": {},
   "source": [
    "## Copiando uma lista para outra (atribuindo o valor)\n",
    "A lista B passa a Referenciar a lista A, então, uma alteração na B também altera a A (e vice-versa)"
   ]
  },
  {
   "cell_type": "code",
   "execution_count": 24,
   "metadata": {},
   "outputs": [
    {
     "name": "stdout",
     "output_type": "stream",
     "text": [
      "[1, 2, 3, 4]\n",
      "[1, 2, 3, 4]\n"
     ]
    }
   ],
   "source": [
    "lista_a = [1,2,3]\n",
    "lista_b = lista_a\n",
    "lista_b.append(4)\n",
    "print(lista_a)\n",
    "print(lista_b)"
   ]
  },
  {
   "cell_type": "markdown",
   "metadata": {},
   "source": [
    "## Clonar uma lista (passar os valores dela) para outra\n",
    "Quando trabalhamos com colchetes ([]) trabalhamos com os elementos da lista, e não com o objeto dela"
   ]
  },
  {
   "cell_type": "code",
   "execution_count": 25,
   "metadata": {},
   "outputs": [
    {
     "name": "stdout",
     "output_type": "stream",
     "text": [
      "[1, 2, 3]\n",
      "[1, 2, 3, 4]\n"
     ]
    }
   ],
   "source": [
    "lista_a = [1,2,3]\n",
    "lista_b = lista_a[:]\n",
    "lista_b.append(4)\n",
    "print(lista_a)\n",
    "print(lista_b)"
   ]
  },
  {
   "cell_type": "markdown",
   "metadata": {},
   "source": [
    "## Recuperando elementos da lista\n",
    "Para pegar um valor da lista, usamos o índice do elemento que queremos"
   ]
  },
  {
   "cell_type": "code",
   "execution_count": 26,
   "metadata": {},
   "outputs": [
    {
     "name": "stdout",
     "output_type": "stream",
     "text": [
      "1\n",
      "2\n",
      "3\n"
     ]
    }
   ],
   "source": [
    "lista_a = [1,2,3]\n",
    "elemento1 = lista_a[0]\n",
    "elemento2 = lista_a[1]\n",
    "elemento3 = lista_a[2]\n",
    "print(elemento1)\n",
    "print(elemento2)\n",
    "print(elemento3)"
   ]
  },
  {
   "cell_type": "markdown",
   "metadata": {},
   "source": [
    "Para recuperarmos com mais de um elemento, vamos pegar uma **fatia** da lista  \n",
    "Fatia funciona da seguinte maneira:  \n",
    "- Nós queremos da posição X até a posição Y\n",
    "- Então nós queremos [X:Y]\n",
    "- Ou seja... [Inicial : Final]"
   ]
  },
  {
   "cell_type": "markdown",
   "metadata": {},
   "source": [
    " - Caso não tenha um dos valores na fatia, pegaremos TUDO daquele 'lado'\n",
    " Exemplo:\n",
    " - Para lista[1:4] -> Pegamos elementos entre 1 e 4\n",
    " - Para listas[:4] -> Pegamos elementos até 4\n",
    " - Para listas[2:] -> Pegamos elementos a partir do 2"
   ]
  },
  {
   "cell_type": "code",
   "execution_count": 27,
   "metadata": {},
   "outputs": [],
   "source": [
    "lista = [0,1,2,3,4,5,6,7,8,9,10]\n",
    "primeiro_teste = lista[1:4] # Entre 1 e 4\n",
    "segundo_teste = lista[:4] # Até 4\n",
    "terceiro_teste = lista[2:] # A partir de 2"
   ]
  },
  {
   "cell_type": "code",
   "execution_count": 28,
   "metadata": {},
   "outputs": [
    {
     "name": "stdout",
     "output_type": "stream",
     "text": [
      "[1, 2, 3]\n",
      "[0, 1, 2, 3]\n",
      "[2, 3, 4, 5, 6, 7, 8, 9, 10]\n"
     ]
    }
   ],
   "source": [
    "print(primeiro_teste)\n",
    "print(segundo_teste)\n",
    "print(terceiro_teste)"
   ]
  },
  {
   "cell_type": "markdown",
   "metadata": {},
   "source": [
    "### Sempre que trabalhamos com Intervalos (range) o limite inferior é INCLUSIVO e o superior é EXCLUSIVO\n",
    "De maneira informal: O primeiro valor (menor) entra no intervalo, já o ultimo valor (maior) não entra"
   ]
  },
  {
   "cell_type": "code",
   "execution_count": 29,
   "metadata": {},
   "outputs": [],
   "source": [
    "# 1 até 4\n",
    "# 1, 2 e 3\n",
    "# 2 até o fim (5 elementos)\n",
    "# 2, 3, 4 e 5\n",
    "# até 5\n",
    "# 0, 1, 2, 3, 4"
   ]
  },
  {
   "cell_type": "code",
   "execution_count": 31,
   "metadata": {},
   "outputs": [],
   "source": [
    "lista_a = [1,2,3]\n",
    "lista_b = lista_a[:] # De tudo : Até tudo = Todos"
   ]
  },
  {
   "cell_type": "markdown",
   "metadata": {},
   "source": [
    "A fatia [:] significa 'pegue tudo da lista'"
   ]
  },
  {
   "cell_type": "markdown",
   "metadata": {},
   "source": [
    "## Juntando listas (join)\n",
    "Serve para 'somar' (juntar) duas ou mais listas"
   ]
  },
  {
   "cell_type": "code",
   "execution_count": 39,
   "metadata": {},
   "outputs": [
    {
     "name": "stdout",
     "output_type": "stream",
     "text": [
      "[1, 2, 3, 10, 9, 8, 10]\n"
     ]
    }
   ],
   "source": [
    "ids_instrutores = [1,2,3]\n",
    "ids_alunos_py = [10,9]\n",
    "ids_alunos_csharp = [8,10]\n",
    "\n",
    "ids_bylearners = ids_instrutores + ids_alunos_py\n",
    "print(ids_bylearners)"
   ]
  },
  {
   "cell_type": "code",
   "execution_count": 38,
   "metadata": {},
   "outputs": [
    {
     "name": "stdout",
     "output_type": "stream",
     "text": [
      "[1, 2, 3, 10, 9, 8, 10]\n"
     ]
    }
   ],
   "source": [
    "ids_bylearners += ids_alunos_csharp\n",
    "print(ids_bylearners)"
   ]
  },
  {
   "cell_type": "code",
   "execution_count": 40,
   "metadata": {},
   "outputs": [
    {
     "name": "stdout",
     "output_type": "stream",
     "text": [
      "[1, 2, 3, 10, 9, 8, 10]\n"
     ]
    }
   ],
   "source": [
    "ids_instrutores = [1,2,3]\n",
    "ids_alunos_py = [10,9]\n",
    "ids_alunos_csharp = [8,10]\n",
    "\n",
    "ids_bylearners = ids_instrutores + ids_alunos_py + ids_alunos_csharp\n",
    "print(ids_bylearners)"
   ]
  },
  {
   "cell_type": "markdown",
   "metadata": {},
   "source": [
    "## Funções Nativas para listas"
   ]
  },
  {
   "cell_type": "markdown",
   "metadata": {},
   "source": [
    "**Primeira função:** append() => Insere um elemento no final na lista\n"
   ]
  },
  {
   "cell_type": "code",
   "execution_count": 41,
   "metadata": {},
   "outputs": [
    {
     "name": "stdout",
     "output_type": "stream",
     "text": [
      "['um', 'dois', 'tres', 'quatro']\n"
     ]
    }
   ],
   "source": [
    "numeros = ['um']\n",
    "numeros.append(\"dois\")\n",
    "numeros.append(\"tres\")\n",
    "numeros.append(\"quatro\")\n",
    "\n",
    "print(numeros)"
   ]
  },
  {
   "cell_type": "markdown",
   "metadata": {},
   "source": [
    "**Segunda função:** index() => Retorna o índice de um determinado elemento"
   ]
  },
  {
   "cell_type": "code",
   "execution_count": 43,
   "metadata": {},
   "outputs": [
    {
     "name": "stdout",
     "output_type": "stream",
     "text": [
      "2\n",
      "3\n"
     ]
    }
   ],
   "source": [
    "bylearners = ['Felipe','Alisson','Haynes','ByLearner <3']\n",
    "#--Indices------ 0 ------- 1 ------ 2 -------- 3 --------\n",
    "indice_haynes = bylearners.index('Haynes')\n",
    "\n",
    "print(indice_haynes)\n",
    "print(bylearners.index('ByLearner <3'))"
   ]
  },
  {
   "cell_type": "markdown",
   "metadata": {},
   "source": [
    "**Extra:** In => Indica se o elemento está ou não na lista  \n",
    "                Checa a existência (ou não existência) do elemento"
   ]
  },
  {
   "cell_type": "code",
   "execution_count": 48,
   "metadata": {},
   "outputs": [
    {
     "ename": "ValueError",
     "evalue": "'Aluno' is not in list",
     "output_type": "error",
     "traceback": [
      "\u001b[1;31m---------------------------------------------------------------------------\u001b[0m",
      "\u001b[1;31mValueError\u001b[0m                                Traceback (most recent call last)",
      "\u001b[1;32m<ipython-input-48-7fb48c99ae71>\u001b[0m in \u001b[0;36m<module>\u001b[1;34m\u001b[0m\n\u001b[1;32m----> 1\u001b[1;33m \u001b[0mbylearners\u001b[0m\u001b[1;33m.\u001b[0m\u001b[0mindex\u001b[0m\u001b[1;33m(\u001b[0m\u001b[1;34m'Aluno'\u001b[0m\u001b[1;33m)\u001b[0m\u001b[1;33m\u001b[0m\u001b[1;33m\u001b[0m\u001b[0m\n\u001b[0m",
      "\u001b[1;31mValueError\u001b[0m: 'Aluno' is not in list"
     ]
    }
   ],
   "source": [
    "bylearners.index('Aluno')"
   ]
  },
  {
   "cell_type": "code",
   "execution_count": 51,
   "metadata": {},
   "outputs": [
    {
     "name": "stdout",
     "output_type": "stream",
     "text": [
      "False\n",
      "True\n",
      "True\n"
     ]
    }
   ],
   "source": [
    "print('Aluno' in bylearners)\n",
    "print('Felipe' in bylearners)\n",
    "print('ByLearner <3' in bylearners)"
   ]
  },
  {
   "cell_type": "markdown",
   "metadata": {},
   "source": [
    "**Terceira função:** insert() => Inseri um elemento na lista em uma determinada posição"
   ]
  },
  {
   "cell_type": "code",
   "execution_count": 45,
   "metadata": {},
   "outputs": [
    {
     "name": "stdout",
     "output_type": "stream",
     "text": [
      "['Gato', 'Cachorro', 'Hamster', 'Furão']\n"
     ]
    }
   ],
   "source": [
    "animais = ['Gato','Cachorro','Hamster']\n",
    "animais.append('Furão')\n",
    "print(animais)"
   ]
  },
  {
   "cell_type": "code",
   "execution_count": 57,
   "metadata": {},
   "outputs": [
    {
     "name": "stdout",
     "output_type": "stream",
     "text": [
      "['Gato', 'Furão', 'Cachorro', 'Hamster']\n"
     ]
    }
   ],
   "source": [
    "animais = ['Gato','Cachorro','Hamster']\n",
    "#------------0--------1---------2------\n",
    "animais.insert(1,'Furão')\n",
    "print(animais)"
   ]
  },
  {
   "cell_type": "markdown",
   "metadata": {},
   "source": [
    "**Quarta Função:** Remove => Remove um determinado elemento"
   ]
  },
  {
   "cell_type": "code",
   "execution_count": 58,
   "metadata": {},
   "outputs": [
    {
     "name": "stdout",
     "output_type": "stream",
     "text": [
      "['Gato', 'Furão', 'Hamster']\n"
     ]
    }
   ],
   "source": [
    "animais.remove('Cachorro')\n",
    "print(animais)"
   ]
  },
  {
   "cell_type": "markdown",
   "metadata": {},
   "source": [
    "**Quinta Função:** Pop => Remove um elemento em um determinado indice  \n",
    "Pop interage com a lista, apenas removendo o elemento do indice enviado por parâmetro"
   ]
  },
  {
   "cell_type": "code",
   "execution_count": 63,
   "metadata": {},
   "outputs": [
    {
     "name": "stdout",
     "output_type": "stream",
     "text": [
      "['Gato', 'Furão', 'Hamster']\n"
     ]
    }
   ],
   "source": [
    "animais = ['Gato','Furão','Cachorro','Hamster']\n",
    "animais.pop(2)\n",
    "print(animais)"
   ]
  },
  {
   "cell_type": "code",
   "execution_count": 64,
   "metadata": {},
   "outputs": [
    {
     "ename": "IndexError",
     "evalue": "pop index out of range",
     "output_type": "error",
     "traceback": [
      "\u001b[1;31m---------------------------------------------------------------------------\u001b[0m",
      "\u001b[1;31mIndexError\u001b[0m                                Traceback (most recent call last)",
      "\u001b[1;32m<ipython-input-64-5e7af14a4f5a>\u001b[0m in \u001b[0;36m<module>\u001b[1;34m\u001b[0m\n\u001b[1;32m----> 1\u001b[1;33m \u001b[0manimais\u001b[0m\u001b[1;33m.\u001b[0m\u001b[0mpop\u001b[0m\u001b[1;33m(\u001b[0m\u001b[1;36m5\u001b[0m\u001b[1;33m)\u001b[0m \u001b[1;31m# Temos que tomar cuidado com o limite dos indices\u001b[0m\u001b[1;33m\u001b[0m\u001b[1;33m\u001b[0m\u001b[0m\n\u001b[0m",
      "\u001b[1;31mIndexError\u001b[0m: pop index out of range"
     ]
    }
   ],
   "source": [
    "animais.pop(5) # Temos que tomar cuidado com o limite dos indices\n"
   ]
  },
  {
   "cell_type": "markdown",
   "metadata": {},
   "source": [
    "**Sexta Função:** Del => Remove um elemento em um determinado indice  \n",
    "Remove o elemento passado por parâmetro (envio um elemento)"
   ]
  },
  {
   "cell_type": "code",
   "execution_count": 66,
   "metadata": {},
   "outputs": [
    {
     "name": "stdout",
     "output_type": "stream",
     "text": [
      "['Gato', 'Furão', 'Hamster']\n"
     ]
    }
   ],
   "source": [
    "animais = ['Gato','Furão','Cachorro','Hamster']\n",
    "del(animais[2])\n",
    "print(animais)"
   ]
  },
  {
   "cell_type": "code",
   "execution_count": 67,
   "metadata": {},
   "outputs": [
    {
     "data": {
      "text/plain": [
       "'Cachorro'"
      ]
     },
     "execution_count": 67,
     "metadata": {},
     "output_type": "execute_result"
    }
   ],
   "source": [
    "animais = ['Gato','Furão','Cachorro','Hamster']\n",
    "animais[2]"
   ]
  },
  {
   "cell_type": "markdown",
   "metadata": {},
   "source": [
    "**Sétima Função:** Sort => Ordena os nosos números  \n",
    "Também temos a função inter Sorted"
   ]
  },
  {
   "cell_type": "code",
   "execution_count": 68,
   "metadata": {},
   "outputs": [
    {
     "name": "stdout",
     "output_type": "stream",
     "text": [
      "[2, 1, 4]\n",
      "[1, 2, 4]\n"
     ]
    }
   ],
   "source": [
    "lista = [2, 1, 4]\n",
    "print(lista)\n",
    "lista.sort()\n",
    "print(lista)"
   ]
  },
  {
   "cell_type": "code",
   "execution_count": 70,
   "metadata": {},
   "outputs": [
    {
     "name": "stdout",
     "output_type": "stream",
     "text": [
      "[1, 2, 4]\n"
     ]
    }
   ],
   "source": [
    "lista = [2, 1, 4]\n",
    "print(sorted(lista))"
   ]
  },
  {
   "cell_type": "code",
   "execution_count": 74,
   "metadata": {},
   "outputs": [
    {
     "name": "stdout",
     "output_type": "stream",
     "text": [
      "None\n",
      "None\n"
     ]
    }
   ],
   "source": [
    "lista = [2, 1, 4]\n",
    "print(lista.sort()) # Interage diretamente na lista... Não retorna nada\n",
    "lista2 = lista.sort() # Não da para atribuir\n",
    "print(lista2)"
   ]
  },
  {
   "cell_type": "code",
   "execution_count": 77,
   "metadata": {},
   "outputs": [
    {
     "name": "stdout",
     "output_type": "stream",
     "text": [
      "['a', 'b', 'c']\n",
      "['a', 'b', 'c']\n"
     ]
    }
   ],
   "source": [
    "lista = [\"c\",'b','a']\n",
    "print(sorted(lista)) # Sorted me retorna uma lista já ordenada\n",
    "lista2 = sorted(lista) # Consigo atribuir a lista\n",
    "print(lista2)"
   ]
  },
  {
   "cell_type": "code",
   "execution_count": 80,
   "metadata": {},
   "outputs": [
    {
     "name": "stdout",
     "output_type": "stream",
     "text": [
      "['1', '2', 'a', 'b', 'c']\n"
     ]
    }
   ],
   "source": [
    "lista = [\"c\",'b','a',str(1),str(2)]\n",
    "print(sorted(lista)) # Sorted me retorna uma lista já ordenada"
   ]
  },
  {
   "cell_type": "markdown",
   "metadata": {},
   "source": [
    "**Oitava Função:** Len => Retorna o tamanho da lista"
   ]
  },
  {
   "cell_type": "code",
   "execution_count": 110,
   "metadata": {},
   "outputs": [
    {
     "name": "stdout",
     "output_type": "stream",
     "text": [
      "5\n"
     ]
    }
   ],
   "source": [
    "ls = ['t','e','s','t','e']\n",
    "print(len(s))"
   ]
  },
  {
   "cell_type": "markdown",
   "metadata": {},
   "source": [
    "## Manipulação de String"
   ]
  },
  {
   "cell_type": "code",
   "execution_count": 81,
   "metadata": {},
   "outputs": [],
   "source": [
    "# Caractere é uma letra só\n",
    "char = 'c'\n",
    "# String é um 'conjunto' de carecteres\n",
    "string_palavra = 'Felipe'\n",
    "string_frase = 'Seja um ByLearner'\n",
    "\n",
    "# Vetor (Array) => Sequencia de elementos do mesmo tipo\n",
    "# String é um Vetor (array) de caracteres\n"
   ]
  },
  {
   "cell_type": "code",
   "execution_count": 85,
   "metadata": {},
   "outputs": [
    {
     "name": "stdout",
     "output_type": "stream",
     "text": [
      "B\n",
      "y\n",
      "L\n",
      "e\n",
      "a\n",
      "r\n",
      "n\n"
     ]
    }
   ],
   "source": [
    "string = \"ByLearn\"\n",
    "#---------0123456\n",
    "print(string[0])\n",
    "print(string[1])\n",
    "print(string[2])\n",
    "print(string[3])\n",
    "print(string[4])\n",
    "print(string[5])\n",
    "print(string[6])"
   ]
  },
  {
   "cell_type": "code",
   "execution_count": 86,
   "metadata": {},
   "outputs": [
    {
     "ename": "IndexError",
     "evalue": "string index out of range",
     "output_type": "error",
     "traceback": [
      "\u001b[1;31m---------------------------------------------------------------------------\u001b[0m",
      "\u001b[1;31mIndexError\u001b[0m                                Traceback (most recent call last)",
      "\u001b[1;32m<ipython-input-86-4058738c01cb>\u001b[0m in \u001b[0;36m<module>\u001b[1;34m\u001b[0m\n\u001b[0;32m      1\u001b[0m \u001b[0mstring\u001b[0m \u001b[1;33m=\u001b[0m \u001b[1;34m\"ByLearn\"\u001b[0m\u001b[1;33m\u001b[0m\u001b[1;33m\u001b[0m\u001b[0m\n\u001b[0;32m      2\u001b[0m \u001b[1;31m#---------0123456|7\u001b[0m\u001b[1;33m\u001b[0m\u001b[1;33m\u001b[0m\u001b[1;33m\u001b[0m\u001b[0m\n\u001b[1;32m----> 3\u001b[1;33m \u001b[0mprint\u001b[0m\u001b[1;33m(\u001b[0m\u001b[0mstring\u001b[0m\u001b[1;33m[\u001b[0m\u001b[1;36m7\u001b[0m\u001b[1;33m]\u001b[0m\u001b[1;33m)\u001b[0m \u001b[1;31m# Não existe\u001b[0m\u001b[1;33m\u001b[0m\u001b[1;33m\u001b[0m\u001b[0m\n\u001b[0m",
      "\u001b[1;31mIndexError\u001b[0m: string index out of range"
     ]
    }
   ],
   "source": [
    "string = \"ByLearn\"\n",
    "#---------0123456|7\n",
    "print(string[7]) # Não existe"
   ]
  },
  {
   "cell_type": "markdown",
   "metadata": {},
   "source": [
    "**Strings são imutáveis**"
   ]
  },
  {
   "cell_type": "code",
   "execution_count": 88,
   "metadata": {},
   "outputs": [
    {
     "ename": "TypeError",
     "evalue": "'str' object does not support item assignment",
     "output_type": "error",
     "traceback": [
      "\u001b[1;31m---------------------------------------------------------------------------\u001b[0m",
      "\u001b[1;31mTypeError\u001b[0m                                 Traceback (most recent call last)",
      "\u001b[1;32m<ipython-input-88-2f5dc3c312e6>\u001b[0m in \u001b[0;36m<module>\u001b[1;34m\u001b[0m\n\u001b[0;32m      1\u001b[0m \u001b[0mpalavra\u001b[0m \u001b[1;33m=\u001b[0m \u001b[1;34m\"teste\"\u001b[0m\u001b[1;33m\u001b[0m\u001b[1;33m\u001b[0m\u001b[0m\n\u001b[1;32m----> 2\u001b[1;33m \u001b[0mpalavra\u001b[0m\u001b[1;33m[\u001b[0m\u001b[1;36m2\u001b[0m\u001b[1;33m]\u001b[0m \u001b[1;33m=\u001b[0m \u001b[1;34m'z'\u001b[0m\u001b[1;33m\u001b[0m\u001b[1;33m\u001b[0m\u001b[0m\n\u001b[0m",
      "\u001b[1;31mTypeError\u001b[0m: 'str' object does not support item assignment"
     ]
    }
   ],
   "source": [
    "palavra = \"teste\"\n",
    "palavra[2] = 'z'"
   ]
  },
  {
   "cell_type": "markdown",
   "metadata": {},
   "source": [
    "String **podem** ser fatiadas, como por exemplo, para mudar o valor de algum índice"
   ]
  },
  {
   "cell_type": "code",
   "execution_count": 90,
   "metadata": {},
   "outputs": [
    {
     "data": {
      "text/plain": [
       "'tezte'"
      ]
     },
     "execution_count": 90,
     "metadata": {},
     "output_type": "execute_result"
    }
   ],
   "source": [
    "nova_palavra = palavra[:2] + 'z' + palavra[3:]\n",
    "nova_palavra"
   ]
  },
  {
   "cell_type": "code",
   "execution_count": 96,
   "metadata": {},
   "outputs": [
    {
     "name": "stdout",
     "output_type": "stream",
     "text": [
      "f\n",
      "e\n",
      "abcdef\n"
     ]
    }
   ],
   "source": [
    "palavra = 'abcdef'\n",
    "print(palavra[-1])\n",
    "print(palavra[-2])\n",
    "print(palavra[:]) # print(palavra)"
   ]
  },
  {
   "cell_type": "markdown",
   "metadata": {},
   "source": [
    "**Pesquisar em Strings**\n"
   ]
  },
  {
   "cell_type": "code",
   "execution_count": 97,
   "metadata": {},
   "outputs": [
    {
     "data": {
      "text/plain": [
       "True"
      ]
     },
     "execution_count": 97,
     "metadata": {},
     "output_type": "execute_result"
    }
   ],
   "source": [
    "'b' in 'abc'"
   ]
  },
  {
   "cell_type": "code",
   "execution_count": 99,
   "metadata": {},
   "outputs": [
    {
     "data": {
      "text/plain": [
       "False"
      ]
     },
     "execution_count": 99,
     "metadata": {},
     "output_type": "execute_result"
    }
   ],
   "source": [
    "'d' in 'abc'"
   ]
  },
  {
   "cell_type": "code",
   "execution_count": 100,
   "metadata": {},
   "outputs": [
    {
     "data": {
      "text/plain": [
       "False"
      ]
     },
     "execution_count": 100,
     "metadata": {},
     "output_type": "execute_result"
    }
   ],
   "source": [
    "'b' not in 'abc'"
   ]
  },
  {
   "cell_type": "code",
   "execution_count": 101,
   "metadata": {},
   "outputs": [
    {
     "data": {
      "text/plain": [
       "True"
      ]
     },
     "execution_count": 101,
     "metadata": {},
     "output_type": "execute_result"
    }
   ],
   "source": [
    "'d' not in 'abc'"
   ]
  },
  {
   "cell_type": "markdown",
   "metadata": {},
   "source": [
    "**Concatenar Strings** (somar)"
   ]
  },
  {
   "cell_type": "code",
   "execution_count": 102,
   "metadata": {},
   "outputs": [],
   "source": [
    "string = 'Fe' + 'Li' + 'Pe'"
   ]
  },
  {
   "cell_type": "code",
   "execution_count": 103,
   "metadata": {},
   "outputs": [
    {
     "data": {
      "text/plain": [
       "'FeLiPe'"
      ]
     },
     "execution_count": 103,
     "metadata": {},
     "output_type": "execute_result"
    }
   ],
   "source": [
    "string"
   ]
  },
  {
   "cell_type": "code",
   "execution_count": 104,
   "metadata": {},
   "outputs": [
    {
     "name": "stdout",
     "output_type": "stream",
     "text": [
      "Felipe\n"
     ]
    }
   ],
   "source": [
    "print('Fe'+'li'+'pe')"
   ]
  },
  {
   "cell_type": "markdown",
   "metadata": {},
   "source": [
    "**Alterar entre minúsculo e maiúsculo**"
   ]
  },
  {
   "cell_type": "code",
   "execution_count": 105,
   "metadata": {},
   "outputs": [
    {
     "data": {
      "text/plain": [
       "'Felipe'"
      ]
     },
     "execution_count": 105,
     "metadata": {},
     "output_type": "execute_result"
    }
   ],
   "source": [
    "string = 'Fe' + 'Li'.lower() + 'Pe'.lower()\n",
    "string"
   ]
  },
  {
   "cell_type": "code",
   "execution_count": 106,
   "metadata": {},
   "outputs": [
    {
     "data": {
      "text/plain": [
       "'FELIPE'"
      ]
     },
     "execution_count": 106,
     "metadata": {},
     "output_type": "execute_result"
    }
   ],
   "source": [
    "string = 'Felipe'.upper()\n",
    "string"
   ]
  },
  {
   "cell_type": "markdown",
   "metadata": {},
   "source": [
    "**Tamanho da string**"
   ]
  },
  {
   "cell_type": "code",
   "execution_count": 107,
   "metadata": {},
   "outputs": [
    {
     "name": "stdout",
     "output_type": "stream",
     "text": [
      "5\n"
     ]
    }
   ],
   "source": [
    "s = 'teste'\n",
    "print(len(s))"
   ]
  },
  {
   "cell_type": "markdown",
   "metadata": {},
   "source": [
    "**Checar se todos os caracteres são letras**"
   ]
  },
  {
   "cell_type": "code",
   "execution_count": 112,
   "metadata": {},
   "outputs": [
    {
     "name": "stdout",
     "output_type": "stream",
     "text": [
      "True\n",
      "False\n",
      "False\n",
      "False\n"
     ]
    }
   ],
   "source": [
    "print(\"abc\".isalpha()) \n",
    "print(\"1fg\".isalpha())\n",
    "print(\"123\".isalpha())\n",
    "print(\"++;-/\".isalpha())"
   ]
  },
  {
   "cell_type": "markdown",
   "metadata": {},
   "source": [
    "**Remover espaços em branco tanto inicio quanto no fim**"
   ]
  },
  {
   "cell_type": "code",
   "execution_count": 113,
   "metadata": {},
   "outputs": [
    {
     "data": {
      "text/plain": [
       "'sobrando espaços'"
      ]
     },
     "execution_count": 113,
     "metadata": {},
     "output_type": "execute_result"
    }
   ],
   "source": [
    "\" sobrando espaços \".strip()"
   ]
  },
  {
   "cell_type": "code",
   "execution_count": 114,
   "metadata": {},
   "outputs": [
    {
     "data": {
      "text/plain": [
       "'sobrando espaços'"
      ]
     },
     "execution_count": 114,
     "metadata": {},
     "output_type": "execute_result"
    }
   ],
   "source": [
    "'   sobrando espaços   '.strip()"
   ]
  },
  {
   "cell_type": "markdown",
   "metadata": {},
   "source": [
    "**Juntar os itens da string através de um delimitador**"
   ]
  },
  {
   "cell_type": "code",
   "execution_count": 115,
   "metadata": {},
   "outputs": [
    {
     "data": {
      "text/plain": [
       "'a,b,c'"
      ]
     },
     "execution_count": 115,
     "metadata": {},
     "output_type": "execute_result"
    }
   ],
   "source": [
    "\",\".join(\"abc\") # Aqui faz sentido"
   ]
  },
  {
   "cell_type": "code",
   "execution_count": 116,
   "metadata": {},
   "outputs": [
    {
     "data": {
      "text/plain": [
       "'a , b , c'"
      ]
     },
     "execution_count": 116,
     "metadata": {},
     "output_type": "execute_result"
    }
   ],
   "source": [
    "\" , \".join(\"abc\") # Aqui faz sentido"
   ]
  },
  {
   "cell_type": "code",
   "execution_count": 118,
   "metadata": {},
   "outputs": [
    {
     "data": {
      "text/plain": [
       "'a|letra: b|letra: c'"
      ]
     },
     "execution_count": 118,
     "metadata": {},
     "output_type": "execute_result"
    }
   ],
   "source": [
    "'|letra: '.join(\"abc\") # Não faz sentido"
   ]
  },
  {
   "cell_type": "markdown",
   "metadata": {},
   "source": [
    "**Separar uma string através de um delimitador**"
   ]
  },
  {
   "cell_type": "code",
   "execution_count": 119,
   "metadata": {},
   "outputs": [],
   "source": [
    "s = \"n o m e\""
   ]
  },
  {
   "cell_type": "code",
   "execution_count": 121,
   "metadata": {},
   "outputs": [
    {
     "data": {
      "text/plain": [
       "['n', 'o', 'm', 'e']"
      ]
     },
     "execution_count": 121,
     "metadata": {},
     "output_type": "execute_result"
    }
   ],
   "source": [
    "s.split()"
   ]
  },
  {
   "cell_type": "code",
   "execution_count": 122,
   "metadata": {},
   "outputs": [
    {
     "data": {
      "text/plain": [
       "['n', 'o', 'm', 'e']"
      ]
     },
     "execution_count": 122,
     "metadata": {},
     "output_type": "execute_result"
    }
   ],
   "source": [
    "s = \"n,o,m,e\"\n",
    "s.split(\",\")"
   ]
  },
  {
   "cell_type": "code",
   "execution_count": 126,
   "metadata": {},
   "outputs": [
    {
     "data": {
      "text/plain": [
       "['nome']"
      ]
     },
     "execution_count": 126,
     "metadata": {},
     "output_type": "execute_result"
    }
   ],
   "source": [
    "s = 'nome'\n",
    "s.split()"
   ]
  },
  {
   "cell_type": "markdown",
   "metadata": {},
   "source": [
    "## Listas dentro de listas\n",
    "Podemos criar quantas listas quisermos dentro de outras listas, bantando o elemento ser também uma lista ( Utilizando as barras [] )"
   ]
  },
  {
   "cell_type": "code",
   "execution_count": 3,
   "metadata": {},
   "outputs": [],
   "source": [
    "lista_dentro_de_lista = [[1,2],[3,4]]"
   ]
  },
  {
   "cell_type": "code",
   "execution_count": 4,
   "metadata": {},
   "outputs": [
    {
     "data": {
      "text/plain": [
       "[1, 2]"
      ]
     },
     "execution_count": 4,
     "metadata": {},
     "output_type": "execute_result"
    }
   ],
   "source": [
    "lista_dentro_de_lista[0]"
   ]
  },
  {
   "cell_type": "code",
   "execution_count": 5,
   "metadata": {},
   "outputs": [
    {
     "data": {
      "text/plain": [
       "1"
      ]
     },
     "execution_count": 5,
     "metadata": {},
     "output_type": "execute_result"
    }
   ],
   "source": [
    "lista_dentro_de_lista[0][0]"
   ]
  },
  {
   "cell_type": "code",
   "execution_count": 6,
   "metadata": {},
   "outputs": [
    {
     "data": {
      "text/plain": [
       "3"
      ]
     },
     "execution_count": 6,
     "metadata": {},
     "output_type": "execute_result"
    }
   ],
   "source": [
    "lista_dentro_de_lista[1][0]"
   ]
  },
  {
   "cell_type": "code",
   "execution_count": null,
   "metadata": {},
   "outputs": [],
   "source": []
  }
 ],
 "metadata": {
  "kernelspec": {
   "display_name": "Python 3",
   "language": "python",
   "name": "python3"
  },
  "language_info": {
   "codemirror_mode": {
    "name": "ipython",
    "version": 3
   },
   "file_extension": ".py",
   "mimetype": "text/x-python",
   "name": "python",
   "nbconvert_exporter": "python",
   "pygments_lexer": "ipython3",
   "version": "3.7.3"
  }
 },
 "nbformat": 4,
 "nbformat_minor": 2
}
