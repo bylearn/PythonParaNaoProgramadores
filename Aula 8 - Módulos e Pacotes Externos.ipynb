{
 "cells": [
  {
   "cell_type": "markdown",
   "metadata": {},
   "source": [
    "# Pacotes e Módulos"
   ]
  },
  {
   "cell_type": "markdown",
   "metadata": {},
   "source": [
    "## Builtins vs Standard Lib\n",
    "Todos os métodos e propriedades do Builtins é acessível **SEMPRE**.\n",
    "Já os métodos, classes e propriedades da Standard Lib existe no python mas não ser usado naturalmente, precisamos chamá-los antes (**importar**)\n",
    "\n",
    "Podemos conferir a Python Standard Lib em: https://docs.python.org/3/library/"
   ]
  },
  {
   "cell_type": "markdown",
   "metadata": {},
   "source": [
    "## Importando Módulos\n",
    "### Importando módulos completos"
   ]
  },
  {
   "cell_type": "markdown",
   "metadata": {},
   "source": [
    "Para importar um módulo nós podemos usar a palavra **import** e na frente colocar o módulo que queremos importar.  \n",
    "Com isso nós importaremos **TUDO** desses módulos."
   ]
  },
  {
   "cell_type": "code",
   "execution_count": 12,
   "metadata": {},
   "outputs": [
    {
     "name": "stdout",
     "output_type": "stream",
     "text": [
      "True\n",
      "0.33897136046640586\n"
     ]
    }
   ],
   "source": [
    "import random\n",
    "import math \n",
    "print(math.isfinite(1))\n",
    "print(random.random())"
   ]
  },
  {
   "cell_type": "markdown",
   "metadata": {},
   "source": [
    "Caso queiramos importar mais de um módulo podemos usar a virgula entre cada um deles"
   ]
  },
  {
   "cell_type": "code",
   "execution_count": 8,
   "metadata": {},
   "outputs": [
    {
     "name": "stdout",
     "output_type": "stream",
     "text": [
      "True\n",
      "0.24352630315846158\n"
     ]
    }
   ],
   "source": [
    "import random, math\n",
    "\n",
    "print(math.isfinite(1))\n",
    "print(random.random())"
   ]
  },
  {
   "cell_type": "markdown",
   "metadata": {},
   "source": [
    "### Importando apenas uma parte do módulo\n",
    "Podemos usar a palavra **from** para defirnimos a fonte (de onde vamos tirar o que queremos) e usar a palavra **import** para definir a parte que queremos"
   ]
  },
  {
   "cell_type": "code",
   "execution_count": 5,
   "metadata": {
    "scrolled": true
   },
   "outputs": [
    {
     "data": {
      "text/plain": [
       "125.0"
      ]
     },
     "execution_count": 5,
     "metadata": {},
     "output_type": "execute_result"
    }
   ],
   "source": [
    "from math import pow\n",
    "\n",
    "pow(5,3)"
   ]
  },
  {
   "cell_type": "markdown",
   "metadata": {},
   "source": [
    "Caso queiramos importar mais de uma parte podemos usar a virgula entre cada uma delas"
   ]
  },
  {
   "cell_type": "code",
   "execution_count": 7,
   "metadata": {},
   "outputs": [
    {
     "data": {
      "text/plain": [
       "True"
      ]
     },
     "execution_count": 7,
     "metadata": {},
     "output_type": "execute_result"
    }
   ],
   "source": [
    "from math import pow, isfinite\n",
    "\n",
    "pow(5,3)\n",
    "isfinite(1)"
   ]
  },
  {
   "cell_type": "markdown",
   "metadata": {},
   "source": [
    "### Importando de forma nomeada\n",
    "Nós podemos usar a palavra **as** para definirmos um nome a nossa importação.  \n",
    "Que funciona tanto para importar um módulo completo quanto apenas uma parte dele"
   ]
  },
  {
   "cell_type": "code",
   "execution_count": 11,
   "metadata": {},
   "outputs": [
    {
     "data": {
      "text/plain": [
       "100.0"
      ]
     },
     "execution_count": 11,
     "metadata": {},
     "output_type": "execute_result"
    }
   ],
   "source": [
    "import math as matematica\n",
    "\n",
    "matematica.pow(10,2)"
   ]
  },
  {
   "cell_type": "code",
   "execution_count": 12,
   "metadata": {},
   "outputs": [],
   "source": [
    "from math import pow as potencia"
   ]
  },
  {
   "cell_type": "code",
   "execution_count": 13,
   "metadata": {},
   "outputs": [
    {
     "data": {
      "text/plain": [
       "1000.0"
      ]
     },
     "execution_count": 13,
     "metadata": {},
     "output_type": "execute_result"
    }
   ],
   "source": [
    "potencia(10,3)"
   ]
  },
  {
   "cell_type": "markdown",
   "metadata": {},
   "source": [
    "### Módulo Math"
   ]
  },
  {
   "cell_type": "markdown",
   "metadata": {},
   "source": [
    "Principal módulo para matemática"
   ]
  },
  {
   "cell_type": "code",
   "execution_count": 27,
   "metadata": {},
   "outputs": [],
   "source": [
    "import math\n",
    "\n",
    "# Retorna o fatorial do número\n",
    "fat = math.factorial(5)\n",
    "\n",
    "# Raiz Quadrada => Square Root => sqrt\n",
    "raiz = math.sqrt(25)\n",
    "\n",
    "# Retorna o valor de pi\n",
    "pi = math.pi\n",
    "\n",
    "# Cosseno (radiano)\n",
    "cos = math.cos(pi)\n",
    "\n",
    "# Euler\n",
    "e = math.e"
   ]
  },
  {
   "cell_type": "markdown",
   "metadata": {},
   "source": [
    "### Módulo Random\n",
    "Permite trabalhar com valores **pseudo-aleatórios**"
   ]
  },
  {
   "cell_type": "code",
   "execution_count": 166,
   "metadata": {},
   "outputs": [
    {
     "name": "stdout",
     "output_type": "stream",
     "text": [
      "7 , -6 , 8 , 0 , -4 , -3 , 0 , 0 , 8 , 9 , 5 , 0 , -9 , -6 , -1 , 3 , -8 , 9 , 1 , 2 , "
     ]
    }
   ],
   "source": [
    "from random import random, randrange, seed\n",
    "\n",
    "# Semente para configurar a geração de numeros 'aleatorios'\n",
    "seed(time.time())\n",
    "\n",
    "# Intervalo entre 0 e 1\n",
    "aleatorio = random()\n",
    "\n",
    "# Mínimo = Inclusivo (entra na hora do sorteio)\n",
    "# Máximo = Exclusivo (não entra na hora do sorteio)\n",
    "intervalo = randrange(-10,10)\n",
    "\n",
    "for i in range(0,20):\n",
    "    intervalo = randrange(-10,10)\n",
    "    print(intervalo,end=' , ')"
   ]
  },
  {
   "cell_type": "markdown",
   "metadata": {},
   "source": [
    "### Módulo time\n",
    "Permitir trabalhar com tempo"
   ]
  },
  {
   "cell_type": "code",
   "execution_count": 170,
   "metadata": {},
   "outputs": [
    {
     "name": "stdout",
     "output_type": "stream",
     "text": [
      "100.00099849700928\n"
     ]
    }
   ],
   "source": [
    "import time\n",
    "\n",
    "# Posso pegar a hora em segundos\n",
    "hora = time.time()\n",
    "\n",
    "# Posso formatar como mostrar a data\n",
    "hora_formatada = time.strftime(\"%H:%M:%S\")\n",
    "\n",
    "# Operações\n",
    "hora = hora - 100\n",
    "\n",
    "diferenca = time.time() - hora\n",
    "print(diferenca)"
   ]
  },
  {
   "cell_type": "markdown",
   "metadata": {},
   "source": [
    "# Pacotes Externos\n",
    "\n",
    "É comum que no desenvolvimento de projetos Python, precisemos instalar diversas bibliotecas para diferentes necessidades, como a comunicação com algum banco de dados ou até a utilização de testes unitários. Porém, não é viável que a instalação dessas bibliotecas seja feita de forma manual, já que o processo de cada uma delas podem ser, no mínimo, complicadas.\n",
    "\n",
    "Para isso, o Python possui uma ferramenta para gerenciamento de pacotes chamado PIP e é ele que vamos aprender neste artigo.\n",
    "\n",
    "## O que é o PIP?\n",
    "\n",
    "O PIP é um gerenciador de pacotes para projetos Python. É com ele que instalamos, removemos e atualizamos pacotes em nossos projetos. É similar aos conhecidos npm e composer (php), por exemplo.\n",
    "\n",
    "O PIP possui uma [página](https://pypi.org/) onde nós conseguimos buscar os pacotes disponíveis para a utilização. Nela podemos pesquisar por um pacote específico ou até uma palavra chave:\n",
    "\n",
    "<img src=\"https://dkrn4sk0rn31v.cloudfront.net/2018/08/06104521/Screen-Shot-2018-08-06-at-10.43.36-1024x800.png\" />\n",
    "\n",
    "## Instalando o PIP\n",
    "\n",
    "Todo o processo de instalação do PIP pode ser visto na sua [página oficial](https://pip.pypa.io/en/stable/installing/) e consiste nos seguintes passos:\n",
    "\n",
    "1. Baixar o arquivo get-pip.py e salvar no diretório de sua preferência.\n",
    "2. Executar o arquivo get-pip.py utilizando o Python através do terminal ou cmd: python get-pip.py. Vale lembrar que em alguns casos, esse comando deve ser executado em modo administrador. Por isso, se você estiver utilizando o Windows, abra o prompt como modo de administração e se você estiver utilizando o Linux ou macOS, utilize o comando “sudo”.\n",
    "\n",
    "Uma outra observação é que o PIP já vem instalado quando estamos utilizando o PyCharm como IDE para nossos projetos Python. Sendo assim, caso você já tenha instalado essa ferramenta, este processo não será necessário.\n",
    "\n",
    "## Gerenciando pacotes\n",
    "\n",
    "Após instalar o PIP em nosso SO, podemos utilizá-lo para diferentes tarefas, como instalar, remover, listar e atualizar pacotes. Veremos agora como realizar cada uma dessas tarefas.\n",
    "\n",
    "Para a instalação de novos pacotes utilizando o PIP, temos o seguinte comando: pip install nome_do_pacote\n",
    "\n",
    "Para a listagem dos pacotes instalado, utilizamos o comando ```pip freeze```\n",
    "\n",
    "## Instalando alguns pacotes\n",
    "\n",
    "Agora vamos instalar alguns pacotes para podermos brincar um pouco com esses pacotes externos.\n",
    "\n",
    "Vamos utilizar o ``` matplotlib, numpy e requests  ```\n",
    "\n",
    "bom para instalar eles, basta digitar no terminal\n",
    "\n",
    "```\n",
    "pip install matplotlib numpy requests\n",
    "```"
   ]
  },
  {
   "cell_type": "markdown",
   "metadata": {},
   "source": [
    "# Trabalhando com os pacotes externos\n",
    "## Numpy\n",
    "Numpy\n",
    "O NumPy é o pacote fundamental para a computação científica com Python. Ele contém entre outras coisas:\n",
    "\n",
    "* um poderoso objeto de matriz N-dimensional\n",
    "* funções sofisticadas (transmissão)\n",
    "* ferramentas para integrar código C / C ++ e Fortran\n",
    "* recursos úteis de álgebra linear, transformação de Fourier e números aleatórios\n",
    "\n",
    "Além de seus óbvios usos científicos, o NumPy também pode ser usado como um eficiente recipiente multidimensional de dados genéricos. Tipos de dados arbitrários podem ser definidos. Isso permite que o NumPy se integre de maneira fácil e rápida a uma ampla variedade de bancos de dados."
   ]
  },
  {
   "cell_type": "code",
   "execution_count": 194,
   "metadata": {},
   "outputs": [
    {
     "name": "stdout",
     "output_type": "stream",
     "text": [
      "Vetor:  [ 0  1  2  3  4  5  6  7  8  9 10 11 12 13 14 15 16 17 18 19]\n",
      "Matriz:  [[ 0  1  2  3  4]\n",
      " [ 5  6  7  8  9]\n",
      " [10 11 12 13 14]\n",
      " [15 16 17 18 19]]\n",
      "Dimensões: 1\n",
      "Multiplição: [ 0  2  4  6  8 10 12 14 16 18 20 22 24 26 28 30 32 34 36 38]\n",
      "Adição: [ 2  3  4  5  6  7  8  9 10 11 12 13 14 15 16 17 18 19 20 21]\n",
      "Subtração: [-2 -1  0  1  2  3  4  5  6  7  8  9 10 11 12 13 14 15 16 17]\n",
      "Divisão: [0.  0.5 1.  1.5 2.  2.5 3.  3.5 4.  4.5 5.  5.5 6.  6.5 7.  7.5 8.  8.5\n",
      " 9.  9.5]\n",
      "[[[1. 1. 1. 1. 1.]\n",
      "  [1. 1. 1. 1. 1.]\n",
      "  [1. 1. 1. 1. 1.]\n",
      "  [1. 1. 1. 1. 1.]]\n",
      "\n",
      " [[1. 1. 1. 1. 1.]\n",
      "  [1. 1. 1. 1. 1.]\n",
      "  [1. 1. 1. 1. 1.]\n",
      "  [1. 1. 1. 1. 1.]]\n",
      "\n",
      " [[1. 1. 1. 1. 1.]\n",
      "  [1. 1. 1. 1. 1.]\n",
      "  [1. 1. 1. 1. 1.]\n",
      "  [1. 1. 1. 1. 1.]]]\n"
     ]
    }
   ],
   "source": [
    "# Se quiser saber mais => youtube.com/bylearn\n",
    "import numpy as np\n",
    "\n",
    "# Vetor = sequencia de elementos\n",
    "# Arange = Popular meu vetor\n",
    "vetor = np.arange(20)\n",
    "print(\"Vetor: \",vetor)\n",
    "\n",
    "# Quero criar uma matriz\n",
    "# Reshape => Mudar o formato\n",
    "# 4 Linhas x 5 Colunas = 4*5=20\n",
    "matriz = vetor.reshape(4,5)\n",
    "print(\"Matriz: \",matriz)\n",
    "\n",
    "# Mostrar dimensões\n",
    "dim = vetor.ndim\n",
    "print(\"Dimensões:\",dim)\n",
    "\n",
    "print(\"Multiplição:\",(vetor*2))\n",
    "print(\"Adição:\",(vetor+2))\n",
    "print(\"Subtração:\",(vetor-2))\n",
    "print(\"Divisão:\",(vetor/2))\n",
    "\n",
    "\n",
    "vetor_3D = np.ones( (3,4,5) )\n",
    "print(vetor_3D)"
   ]
  },
  {
   "cell_type": "markdown",
   "metadata": {},
   "source": [
    "## Matplotlib\n",
    "O Matplotlib é uma biblioteca de plotagem 2D do Python que produz números de qualidade de publicação em vários formatos de cópia impressa e ambientes interativos entre plataformas. O Matplotlib pode ser usado em scripts Python, nos shell Python e IPython, no notebook Jupyter, em servidores de aplicativos da web e em quatro kits de ferramentas da interface gráfica do usuário."
   ]
  },
  {
   "cell_type": "code",
   "execution_count": 208,
   "metadata": {},
   "outputs": [
    {
     "data": {
      "image/png": "[encoded data removed]",
      "text/plain": [
       "<Figure size 432x288 with 1 Axes>"
      ]
     },
     "metadata": {
      "needs_background": "light"
     },
     "output_type": "display_data"
    }
   ],
   "source": [
    "import matplotlib.pyplot as plt\n",
    "import numpy as np\n",
    "from random import randrange\n",
    "\n",
    "# Descrição do gráfico\n",
    "# Gráfico de barras\n",
    "# Pontos por time em cada esporte\n",
    "# Mostrar o nome de cada esporte => Labels\n",
    "# Para mostrar pontos para cada time teremos subgraficos\n",
    "\n",
    "time1_nome = 'Azul'\n",
    "time2_nome = 'Laranja'\n",
    "\n",
    "nome_esportes = ['Futebol','Handball','Volei','Basquete','Baseball'] #labels\n",
    "pontuacao_azul = [randrange(0,10),randrange(0,10),randrange(0,10),randrange(0,10),randrange(0,10)]\n",
    "pontuacao_laranja = [randrange(0,10),randrange(0,10),randrange(0,10),randrange(0,10),randrange(0,10)]\n",
    "\n",
    "esportes = np.arange(len(labels))\n",
    "largura = 0.45\n",
    "\n",
    "figura, eixos = plt.subplots()\n",
    "\n",
    "# barras ficam nos eixos e são do tipo 'barra' => eixos.bar()\n",
    "# parametros das barras = posicao , valores , largura, titulo\n",
    "barra_azul = eixos.bar(esportes - largura/2, pontuacao_azul, largura, label=time1_nome)\n",
    "barra_laranja = eixos.bar(esportes + largura/2, pontuacao_laranja, largura, label=time2_nome)\n",
    "\n",
    "# Textos nos eixos\n",
    "\n",
    "eixos.set_ylabel(\"Pontuação no Esporte\")\n",
    "eixos.set_xlabel(\"Modalidade do Esporte\")\n",
    "eixos.set_title(\"Pontuação da Gingaca\")\n",
    "eixos.set_xticks(esportes)\n",
    "eixos.set_xticklabels(nome_esportes)\n",
    "eixos.legend()\n",
    "\n",
    "figura.tight_layout()\n",
    "plt.show()"
   ]
  },
  {
   "cell_type": "markdown",
   "metadata": {},
   "source": [
    "## Requests\n",
    "Permite trabalharmos com requisições HTML"
   ]
  },
  {
   "cell_type": "code",
   "execution_count": 217,
   "metadata": {},
   "outputs": [
    {
     "name": "stdout",
     "output_type": "stream",
     "text": [
      "Status:\n",
      " 200\n",
      "\n",
      "Encoding:\n",
      " ISO-8859-1\n",
      "\n",
      "Cabeçalhos:\n",
      " {'Date': 'Thu, 05 Sep 2019 06:35:13 GMT', 'Expires': '-1', 'Cache-Control': 'private, max-age=0', 'Content-Type': 'text/html; charset=ISO-8859-1', 'P3P': 'CP=\"This is not a P3P policy! See g.co/p3phelp for more info.\"', 'Content-Encoding': 'gzip', 'Server': 'gws', 'X-XSS-Protection': '0', 'X-Frame-Options': 'SAMEORIGIN', 'Set-Cookie': '1P_JAR=2019-09-05-06; expires=Sat, 05-Oct-2019 06:35:13 GMT; path=/; domain=.google.com; SameSite=none, NID=188=GBZexajbTqziGc1oLyZkudoD9wYQzzZcmyvunrJXKE98ZuF4u_gya-f1SSGYIh_effABSr4FaPR77v0glnQFYPAhHxiE8yZkALjigh1x45dDko8qsviw9pjoT2saaamYJXBcFMHCjxJzt9q44OelyCowlSgMx76gJfy5qHyy0-8; expires=Fri, 06-Mar-2020 06:35:13 GMT; path=/; domain=.google.com; HttpOnly', 'Alt-Svc': 'quic=\":443\"; ma=2592000; v=\"46,43,39\"', 'Transfer-Encoding': 'chunked'}\n",
      "\n",
      "Conteúdo:\n",
      " b'<!doctype html><html itemscope=\"\" itemtype=\"http://schema.org/WebPage\" lang=\"pt-BR\"><head><meta content=\"text/html; charset=UTF-8\" http-equiv=\"Content-Type\"><meta content=\"/images/branding/googleg/1x/googleg_standard_color_128dp.png\" itemprop=\"image\"><title>Google</title><script nonce=\"Kon9zy4xaGSln4CJKnwPKA==\">(function(){window.google={kEI:\\'oaxwXfzEONTW5OUP4rO-0As\\',kEXPI:\\'0,1353746,2015,2423,1225,730,224,510,19,227,819,3151,57,322,206,1017,53,174,1257,453,124,2,124,10,169,544,338,232,8,6,154,85,53,2329774,329564,1294,12383,4855,32692,15247,867,12163,16521,369,3314,5505,2436,5948,1119,2,1306,2431,1362,4323,4967,774,2256,2814,1924,3122,6192,669,1050,1808,1478,7,2,489,2044,8909,5297,2016,38,919,874,1217,1364,350,1,1260,2736,48,2607,315,91,2,631,2403,837,4192,3874,2884,20,318,1117,902,2128,1,368,2778,520,399,992,509,777,7,109,2687,967,48,553,11,14,1279,2212,202,324,4,68,1177,7,83,757,324,196,1520,156,663,2620,335,483,109,151,52,1137,2,681,828,539,15,606,1839,184,595,1138,43,521,361,1586,242,505,61,150,8,26,72,112,1033,113,330,1282,16,84,336,81,507,1253,666,45,102,1492,607,101,341,10,22,1339,731,499,557,15,2254,1,176,648,133,520,434,79,695,75,547,12,483,7,438,66,224,592,523,1239,816,111,112,151,169,291,76,1,421,491,147,1581,282,151,94,310,57,60,517,440,1246,1146,1068,108,32,5,465,664,44,9,111,2,90,604,269,34,51,3,108,364,56,18,736,100,39,3,51,34,469,237,132,159,102,127,9,58,3,3,762,51,442,410,3,111,302,5896646,3028,5997438,2799874,4,1572,549,333,444,1,2,80,1,900,583,9,304,1,8,1,2,2132,1,1,1,1,1,414,1,748,141,59,726,3,7,563,1,3560,1,115,27,2796317,17949963\\',authuser:0,kscs:\\'c9c918f0_oaxwXfzEONTW5OUP4rO-0As\\',kGL:\\'BR\\',kBL:\\'nfid\\'};google.sn=\\'webhp\\';google.kHL=\\'pt-BR\\';google.jsfs=\\'Ffpdje\\';})();(function(){google.lc=[];google.li=0;google.getEI=function(a){for(var b;a&&(!a.getAttribute||!(b=a.getAttribute(\"eid\")));)a=a.parentNode;return b||google.kEI};google.getLEI=function(a){for(var b=null;a&&(!a.getAttribute||!(b=a.getAttribute(\"leid\")));)a=a.parentNode;return b};google.https=function(){return\"https:\"==window.location.protocol};google.ml=function(){return null};google.time=function(){return(new Date).getTime()};google.log=function(a,b,e,c,g){if(a=google.logUrl(a,b,e,c,g)){b=new Image;var d=google.lc,f=google.li;d[f]=b;b.onerror=b.onload=b.onabort=function(){delete d[f]};google.vel&&google.vel.lu&&google.vel.lu(a);b.src=a;google.li=f+1}};google.logUrl=function(a,b,e,c,g){var d=\"\",f=google.ls||\"\";e||-1!=b.search(\"&ei=\")||(d=\"&ei=\"+google.getEI(c),-1==b.search(\"&lei=\")&&(c=google.getLEI(c))&&(d+=\"&lei=\"+c));c=\"\";!e&&google.cshid&&-1==b.search(\"&cshid=\")&&\"slh\"!=a&&(c=\"&cshid=\"+google.cshid);a=e||\"/\"+(g||\"gen_204\")+\"?atyp=i&ct=\"+a+\"&cad=\"+b+d+f+\"&zx=\"+google.time()+c;/^http:/i.test(a)&&google.https()&&(google.ml(Error(\"a\"),!1,{src:a,glmm:1}),a=\"\");return a};}).call(this);(function(){google.y={};google.x=function(a,b){if(a)var c=a.id;else{do c=Math.random();while(google.y[c])}google.y[c]=[a,b];return!1};google.lm=[];google.plm=function(a){google.lm.push.apply(google.lm,a)};google.lq=[];google.load=function(a,b,c){google.lq.push([[a],b,c])};google.loadAll=function(a,b){google.lq.push([a,b])};}).call(this);google.f={};var a=window.location,b=a.href.indexOf(\"#\");if(0<=b){var c=a.href.substring(b+1);/(^|&)q=/.test(c)&&-1==c.indexOf(\"#\")&&a.replace(\"/search?\"+c.replace(/(^|&)fp=[^&]*/g,\"\")+\"&cad=h\")};</script><style>#gbar,#guser{font-size:13px;padding-top:1px !important;}#gbar{height:22px}#guser{padding-bottom:7px !important;text-align:right}.gbh,.gbd{border-top:1px solid #c9d7f1;font-size:1px}.gbh{height:0;position:absolute;top:24px;width:100%}@media all{.gb1{height:22px;margin-right:.5em;vertical-align:top}#gbar{float:left}}a.gb1,a.gb4{text-decoration:underline !important}a.gb1,a.gb4{color:#00c !important}.gbi .gb4{color:#dd8e27 !important}.gbf .gb4{color:#900 !important}\\n</style><style>body,td,a,p,.h{font-family:arial,sans-serif}body{margin:0;overflow-y:scroll}#gog{padding:3px 8px 0}td{line-height:.8em}.gac_m td{line-height:17px}form{margin-bottom:20px}.h{color:#36c}.q{color:#00c}.ts td{padding:0}.ts{border-collapse:collapse}em{font-weight:bold;font-style:normal}.lst{height:25px;width:496px}.gsfi,.lst{font:18px arial,sans-serif}.gsfs{font:17px arial,sans-serif}.ds{display:inline-box;display:inline-block;margin:3px 0 4px;margin-left:4px}input{font-family:inherit}a.gb1,a.gb2,a.gb3,a.gb4{color:#11c !important}body{background:#fff;color:black}a{color:#11c;text-decoration:none}a:hover,a:active{text-decoration:underline}.fl a{color:#36c}a:visited{color:#551a8b}a.gb1,a.gb4{text-decoration:underline}a.gb3:hover{text-decoration:none}#ghead a.gb2:hover{color:#fff !important}.sblc{padding-top:5px}.sblc a{display:block;margin:2px 0;margin-left:13px;font-size:11px}.lsbb{background:#eee;border:solid 1px;border-color:#ccc #999 #999 #ccc;height:30px}.lsbb{display:block}.ftl,#fll a{display:inline-block;margin:0 12px}.lsb{background:url(/images/nav_logo229.png) 0 -261px repeat-x;border:none;color:#000;cursor:pointer;height:30px;margin:0;outline:0;font:15px arial,sans-serif;vertical-align:top}.lsb:active{background:#ccc}.lst:focus{outline:none}.tiah{width:458px}</style><script nonce=\"Kon9zy4xaGSln4CJKnwPKA==\">(function(){window.google.erd={sp:\\'hp\\',jsr:100,bv:129};var f=0,g,h=google.erd,k=h.jsr;google.ml=function(a,b,d,e){google.dl&&(google.dl(a,d),f++);if(google._epc(a,b,d,e))return null;a=google._gld(a,\"/gen_204?atyp=i\",d||{},!1);e||google.log(0,\"\",a);return a};google._epc=function(a,b,d,e){if(0>k){window.console&&console.error(a,d);if(-2==k)throw a;return!0}if(!a||!a.message||\"Error loading script\"==a.message||!(1>f||e))return!0;f++;b&&(g=a&&a.message);return!1};google._gld=function(a,b,d,e){var c=encodeURIComponent;b=b+\"&ei=\"+c(google.kEI);google.kEXPI&&(b+=\"&jexpid=\"+c(google.kEXPI));b+=\"&srcpg=\"+c(h.sp)+\"&jsr=\"+c(h.jsr)+\"&bver=\"+c(h.bv);for(var l in d)b+=\"&\",b+=c(l),b+=\"=\",b+=c(d[l]);b=b+\"&emsg=\"+c(a.name+\": \"+a.message);b=b+\"&jsst=\"+c(a.stack||\"N/A\");!e&&12288<=b.length&&(b=b.substr(0,12288));return b};window.onerror=function(a,b,d,e,c){g!==a&&google.ml(c instanceof Error?c:Error(a),!1);g=null;1>f||(window.onerror=null)};})();</script></head><body bgcolor=\"#fff\"><script nonce=\"Kon9zy4xaGSln4CJKnwPKA==\">(function(){var src=\\'/images/nav_logo229.png\\';var iesg=false;document.body.onload = function(){window.n && window.n();if (document.images){new Image().src=src;}\\nif (!iesg){document.f&&document.f.q.focus();document.gbqf&&document.gbqf.q.focus();}\\n}\\n})();</script><div id=\"mngb\"> <div id=gbar><nobr><b class=gb1>Pesquisa</b> <a class=gb1 href=\"https://www.google.com.br/imghp?hl=pt-BR&tab=wi\">Imagens</a> <a class=gb1 href=\"https://maps.google.com.br/maps?hl=pt-BR&tab=wl\">Maps</a> <a class=gb1 href=\"https://play.google.com/?hl=pt-BR&tab=w8\">Play</a> <a class=gb1 href=\"https://www.youtube.com/?gl=BR&tab=w1\">YouTube</a> <a class=gb1 href=\"https://news.google.com.br/nwshp?hl=pt-BR&tab=wn\">Not\\xedcias</a> <a class=gb1 href=\"https://mail.google.com/mail/?tab=wm\">Gmail</a> <a class=gb1 href=\"https://drive.google.com/?tab=wo\">Drive</a> <a class=gb1 style=\"text-decoration:none\" href=\"https://www.google.com.br/intl/pt-BR/about/products?tab=wh\"><u>Mais</u> &raquo;</a></nobr></div><div id=guser width=100%><nobr><span id=gbn class=gbi></span><span id=gbf class=gbf></span><span id=gbe></span><a href=\"http://www.google.com.br/history/optout?hl=pt-BR\" class=gb4>Hist\\xf3rico da Web</a> | <a  href=\"/preferences?hl=pt-BR\" class=gb4>Configura\\xe7\\xf5es</a> | <a target=_top id=gb_70 href=\"https://accounts.google.com/ServiceLogin?hl=pt-BR&passive=true&continue=https://www.google.com/\" class=gb4>Fazer login</a></nobr></div><div class=gbh style=left:0></div><div class=gbh style=right:0></div> </div><center><br clear=\"all\" id=\"lgpd\"><div id=\"lga\"><img alt=\"Google\" height=\"92\" src=\"/images/branding/googlelogo/1x/googlelogo_white_background_color_272x92dp.png\" style=\"padding:28px 0 14px\" width=\"272\" id=\"hplogo\"><br><br></div><form action=\"/search\" name=\"f\"><table cellpadding=\"0\" cellspacing=\"0\"><tr valign=\"top\"><td width=\"25%\">&nbsp;</td><td align=\"center\" nowrap=\"\"><input name=\"ie\" value=\"ISO-8859-1\" type=\"hidden\"><input value=\"pt-BR\" name=\"hl\" type=\"hidden\"><input name=\"source\" type=\"hidden\" value=\"hp\"><input name=\"biw\" type=\"hidden\"><input name=\"bih\" type=\"hidden\"><div class=\"ds\" style=\"height:32px;margin:4px 0\"><div style=\"position:relative;zoom:1\"><input style=\"color:#000;margin:0;padding:5px 8px 0 6px;vertical-align:top;padding-right:38px\" autocomplete=\"off\" class=\"lst tiah\" value=\"\" title=\"Pesquisa Google\" maxlength=\"2048\" name=\"q\" size=\"57\"><img src=\"/textinputassistant/tia.png\" style=\"position:absolute;cursor:pointer;right:5px;top:4px;z-index:300\" data-script-url=\"/textinputassistant/11/pt-BR_tia.js\" alt=\"\" height=\"23\" onclick=\"var s=document.createElement(\\'script\\');s.src=this.getAttribute(\\'data-script-url\\');(document.getElementById(\\'xjsc\\')||document.body).appendChild(s);\" width=\"27\"></div></div><br style=\"line-height:0\"><span class=\"ds\"><span class=\"lsbb\"><input class=\"lsb\" value=\"Pesquisa Google\" name=\"btnG\" type=\"submit\"></span></span><span class=\"ds\"><span class=\"lsbb\"><input class=\"lsb\" value=\"Estou com sorte\" name=\"btnI\" onclick=\"/*gws_metadata_pragma__js_inline_handler*/ if(this.form.q.value){ this.checked=1; if (this.form.iflsig)this.form.iflsig.disabled=false; } else top.location=\\'/doodles/\\'\" type=\"submit\"></span></span></td><td class=\"fl sblc\" align=\"left\" nowrap=\"\" width=\"25%\"><a href=\"/advanced_search?hl=pt-BR&amp;authuser=0\">Pesquisa avan\\xe7ada</a><a href=\"/language_tools?hl=pt-BR&amp;authuser=0\">Ferramentas de idioma</a></td></tr></table><input id=\"gbv\" name=\"gbv\" type=\"hidden\" value=\"1\"><script nonce=\"Kon9zy4xaGSln4CJKnwPKA==\">(function(){var a,b=\"1\";if(document&&document.getElementById)if(\"undefined\"!=typeof XMLHttpRequest)b=\"2\";else if(\"undefined\"!=typeof ActiveXObject){var c,d,e=[\"MSXML2.XMLHTTP.6.0\",\"MSXML2.XMLHTTP.3.0\",\"MSXML2.XMLHTTP\",\"Microsoft.XMLHTTP\"];for(c=0;d=e[c++];)try{new ActiveXObject(d),b=\"2\"}catch(h){}}a=b;if(\"2\"==a&&-1==location.search.indexOf(\"&gbv=2\")){var f=google.gbvu,g=document.getElementById(\"gbv\");g&&(g.value=a);f&&window.setTimeout(function(){location.href=f},0)};}).call(this);</script></form><div id=\"gac_scont\"></div><div style=\"font-size:83%;min-height:3.5em\"><br></div><span id=\"footer\"><div style=\"font-size:10pt\"><div style=\"margin:19px auto;text-align:center\" id=\"fll\"><a href=\"/intl/pt-BR/ads/\">Solu\\xe7\\xf5es de publicidade</a><a href=\"/services/\">Solu\\xe7\\xf5es empresariais</a><a href=\"/intl/pt-BR/about.html\">Sobre o Google</a><a href=\"https://www.google.com/setprefdomain?prefdom=BR&amp;prev=https://www.google.com.br/&amp;sig=K_ZUK-tX0x_s_nTVPngWq5oLbdi0E%3D\">Google.com.br</a></div></div><p style=\"color:#767676;font-size:8pt\">&copy; 2019 - <a href=\"/intl/pt-BR/policies/privacy/\">Privacidade</a> - <a href=\"/intl/pt-BR/policies/terms/\">Termos</a></p></span></center><script nonce=\"Kon9zy4xaGSln4CJKnwPKA==\">(function(){window.google.cdo={height:0,width:0};(function(){var a=window.innerWidth,b=window.innerHeight;if(!a||!b){var c=window.document,d=\"CSS1Compat\"==c.compatMode?c.documentElement:c.body;a=d.clientWidth;b=d.clientHeight}a&&b&&(a!=google.cdo.width||b!=google.cdo.height)&&google.log(\"\",\"\",\"/client_204?&atyp=i&biw=\"+a+\"&bih=\"+b+\"&ei=\"+google.kEI);}).call(this);})();(function(){var u=\\'/xjs/_/js/k\\\\x3dxjs.hp.en.JsVoCDMC1nE.O/m\\\\x3dsb_he,d/am\\\\x3dHhbUBA/d\\\\x3d1/rs\\\\x3dACT90oF1eVONzLKx30jGklsk1SnYE9EcsQ\\';setTimeout(function(){var a=document.createElement(\"script\");a.src=u;google.timers&&google.timers.load&&google.tick&&google.tick(\"load\",\"xjsls\");document.body.appendChild(a)},0);})();(function(){window.google.xjsu=\\'/xjs/_/js/k\\\\x3dxjs.hp.en.JsVoCDMC1nE.O/m\\\\x3dsb_he,d/am\\\\x3dHhbUBA/d\\\\x3d1/rs\\\\x3dACT90oF1eVONzLKx30jGklsk1SnYE9EcsQ\\';})();function _DumpException(e){throw e;}\\nfunction _F_installCss(c){}\\n(function(){google.spjs=false;google.snet=true;google.em=[];google.emw=false;})();google.sm=1;(function(){var pmc=\\'{\\\\x22JnTczA\\\\x22:{},\\\\x22Qnk92g\\\\x22:{},\\\\x22RWGcrA\\\\x22:{},\\\\x22U5B21g\\\\x22:{},\\\\x22YFCs/g\\\\x22:{},\\\\x22YQeDTA\\\\x22:{},\\\\x22ZI/YVQ\\\\x22:{},\\\\x22d\\\\x22:{},\\\\x22mVopag\\\\x22:{},\\\\x22sb_he\\\\x22:{\\\\x22agen\\\\x22:true,\\\\x22cgen\\\\x22:true,\\\\x22client\\\\x22:\\\\x22heirloom-hp\\\\x22,\\\\x22dh\\\\x22:true,\\\\x22dhqt\\\\x22:true,\\\\x22ds\\\\x22:\\\\x22\\\\x22,\\\\x22ffql\\\\x22:\\\\x22pt-BR\\\\x22,\\\\x22fl\\\\x22:true,\\\\x22host\\\\x22:\\\\x22google.com\\\\x22,\\\\x22isbh\\\\x22:28,\\\\x22jsonp\\\\x22:true,\\\\x22msgs\\\\x22:{\\\\x22cibl\\\\x22:\\\\x22Limpar pesquisa\\\\x22,\\\\x22dym\\\\x22:\\\\x22Voc\\xea quis dizer:\\\\x22,\\\\x22lcky\\\\x22:\\\\x22Estou com sorte\\\\x22,\\\\x22lml\\\\x22:\\\\x22Saiba mais\\\\x22,\\\\x22oskt\\\\x22:\\\\x22Ferramentas de inser\\xe7\\xe3o de texto\\\\x22,\\\\x22psrc\\\\x22:\\\\x22Esta pesquisa foi removida do seu\\\\\\\\u003Ca href\\\\x3d\\\\\\\\\\\\x22/history\\\\\\\\\\\\x22\\\\\\\\u003EHist\\xf3rico da web\\\\\\\\u003C/a\\\\\\\\u003E\\\\x22,\\\\x22psrl\\\\x22:\\\\x22Remover\\\\x22,\\\\x22sbit\\\\x22:\\\\x22Pesquisa por imagem\\\\x22,\\\\x22srch\\\\x22:\\\\x22Pesquisa Google\\\\x22},\\\\x22ovr\\\\x22:{},\\\\x22pq\\\\x22:\\\\x22\\\\x22,\\\\x22refpd\\\\x22:true,\\\\x22rfs\\\\x22:[],\\\\x22sbpl\\\\x22:24,\\\\x22sbpr\\\\x22:24,\\\\x22scd\\\\x22:10,\\\\x22sce\\\\x22:5,\\\\x22stok\\\\x22:\\\\x22HXrHzZ1RUHYALYZ8bm495DLm9L0\\\\x22,\\\\x22uhde\\\\x22:false}}\\';google.pmc=JSON.parse(pmc);})();</script>        </body></html>'\n"
     ]
    }
   ],
   "source": [
    "import requests\n",
    "\n",
    "# Vamos acessar um site\n",
    "resposta = requests.get(\"https://google.com\")\n",
    "\n",
    "# Status Code => Informa qual o tipo de resposta\n",
    "# 200 => Deu Certo\n",
    "# 404 => Not Found\n",
    "print(\"Status:\\n\",resposta.status_code)\n",
    "\n",
    "# Verificar o encoding\n",
    "print(\"\\nEncoding:\\n\",resposta.encoding)\n",
    "\n",
    "# Pegar os cabeçalhos (Headers)\n",
    "print(\"\\nCabeçalhos:\\n\",resposta.headers)\n",
    "\n",
    "# Pegar o conteúdo (Content)\n",
    "print(\"\\nConteúdo:\\n\",resposta.content)"
   ]
  }
 ],
 "metadata": {
  "kernelspec": {
   "display_name": "Python 3",
   "language": "python",
   "name": "python3"
  },
  "language_info": {
   "codemirror_mode": {
    "name": "ipython",
    "version": 3
   },
   "file_extension": ".py",
   "mimetype": "text/x-python",
   "name": "python",
   "nbconvert_exporter": "python",
   "pygments_lexer": "ipython3",
   "version": "3.7.3"
  }
 },
 "nbformat": 4,
 "nbformat_minor": 2
}
