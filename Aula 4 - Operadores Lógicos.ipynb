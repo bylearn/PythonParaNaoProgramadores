{
 "cells": [
  {
   "cell_type": "markdown",
   "metadata": {},
   "source": [
    "# Tipo Booleano de dado\n",
    "\"Na computação tudo é zero ou um\" - Qualquer um sobre computação  \n",
    "Tipo de dado mais simples é o tipo booleano => Tipo Lógico.  \n",
    "Booleano aceitam apenas dois valores (True/False) (1/0) (Sim/Não)\n",
    "Em Eletronica usamos Lâmpada => Acesa (Verdadeiro/1/Sim) Apagada (Falso/0/Não)"
   ]
  },
  {
   "cell_type": "code",
   "execution_count": 1,
   "metadata": {},
   "outputs": [
    {
     "name": "stdout",
     "output_type": "stream",
     "text": [
      "<class 'bool'>\n"
     ]
    }
   ],
   "source": [
    "boolean = True\n",
    "print(type(boolean))"
   ]
  },
  {
   "cell_type": "code",
   "execution_count": 2,
   "metadata": {},
   "outputs": [
    {
     "data": {
      "text/plain": [
       "True"
      ]
     },
     "execution_count": 2,
     "metadata": {},
     "output_type": "execute_result"
    }
   ],
   "source": [
    "boolean"
   ]
  },
  {
   "cell_type": "code",
   "execution_count": 3,
   "metadata": {},
   "outputs": [
    {
     "name": "stdout",
     "output_type": "stream",
     "text": [
      "<class 'bool'>\n"
     ]
    },
    {
     "data": {
      "text/plain": [
       "False"
      ]
     },
     "execution_count": 3,
     "metadata": {},
     "output_type": "execute_result"
    }
   ],
   "source": [
    "boolean = False\n",
    "print(type(boolean))\n",
    "boolean"
   ]
  },
  {
   "cell_type": "code",
   "execution_count": 5,
   "metadata": {},
   "outputs": [
    {
     "name": "stdout",
     "output_type": "stream",
     "text": [
      "<class 'int'>\n"
     ]
    }
   ],
   "source": [
    "booleano = True\n",
    "booleano = 0 # No Python booleanos são apenas True ou False\n",
    "print(type(booleano))"
   ]
  },
  {
   "cell_type": "code",
   "execution_count": 6,
   "metadata": {},
   "outputs": [
    {
     "data": {
      "text/plain": [
       "False"
      ]
     },
     "execution_count": 6,
     "metadata": {},
     "output_type": "execute_result"
    }
   ],
   "source": [
    "bool(0)"
   ]
  },
  {
   "cell_type": "code",
   "execution_count": 7,
   "metadata": {},
   "outputs": [
    {
     "data": {
      "text/plain": [
       "True"
      ]
     },
     "execution_count": 7,
     "metadata": {},
     "output_type": "execute_result"
    }
   ],
   "source": [
    "bool(1)"
   ]
  },
  {
   "cell_type": "code",
   "execution_count": 8,
   "metadata": {},
   "outputs": [],
   "source": [
    "# Se Verdadeiro Então:\n",
    "#    Execução 1\n",
    "# Se não:\n",
    "#    Execução 2"
   ]
  },
  {
   "cell_type": "code",
   "execution_count": 10,
   "metadata": {},
   "outputs": [],
   "source": [
    "# Se (português) => If (inglês)"
   ]
  },
  {
   "cell_type": "code",
   "execution_count": 11,
   "metadata": {},
   "outputs": [],
   "source": [
    "# Se não (português) => Else (inglês)"
   ]
  },
  {
   "cell_type": "markdown",
   "metadata": {},
   "source": [
    "# If e Else"
   ]
  },
  {
   "cell_type": "markdown",
   "metadata": {},
   "source": [
    "O IF ele é um estrutura de condição => Avalia se uma expressão ou condição é verdadeira.  \n",
    "Se for (verdadeira) ele executa aquela execução propria dele.  \n",
    "Caso não for, ele executa a execução do **else** (caso exista)."
   ]
  },
  {
   "cell_type": "code",
   "execution_count": 14,
   "metadata": {},
   "outputs": [
    {
     "name": "stdout",
     "output_type": "stream",
     "text": [
      "A lógica é verdadeira\n"
     ]
    }
   ],
   "source": [
    "logica = True\n",
    "\n",
    "if True: # Não estou trabalhando com a variável\n",
    "    print(\"A lógica é verdadeira\")"
   ]
  },
  {
   "cell_type": "code",
   "execution_count": 15,
   "metadata": {},
   "outputs": [
    {
     "name": "stdout",
     "output_type": "stream",
     "text": [
      "A lógica é verdadeira\n"
     ]
    }
   ],
   "source": [
    "logica = False\n",
    "\n",
    "# Sempre que tiver True executa\n",
    "if True: # Não estou trabalhando com a variável\n",
    "    print(\"A lógica é verdadeira\")"
   ]
  },
  {
   "cell_type": "code",
   "execution_count": 18,
   "metadata": {},
   "outputs": [],
   "source": [
    "logica = True\n",
    "\n",
    "# Sempre que tiver False não executa\n",
    "if False: # Não estou trabalhando com a variável\n",
    "    print(\"A lógica é verdadeira\")"
   ]
  },
  {
   "cell_type": "markdown",
   "metadata": {},
   "source": [
    "Devemos sempre colocar a condição do IF sendo a variável ou expressão que queremos garantir a veracidade"
   ]
  },
  {
   "cell_type": "code",
   "execution_count": 16,
   "metadata": {},
   "outputs": [],
   "source": [
    "logica = False\n",
    "\n",
    "if logica: # Agora estou trabalhando com a variável\n",
    "    print(\"A lógica é verdadeira\")"
   ]
  },
  {
   "cell_type": "code",
   "execution_count": 17,
   "metadata": {},
   "outputs": [
    {
     "name": "stdout",
     "output_type": "stream",
     "text": [
      "A lógica é verdadeira\n"
     ]
    }
   ],
   "source": [
    "logica = True\n",
    "\n",
    "if logica: # Agora estou trabalhando com a variável\n",
    "    print(\"A lógica é verdadeira\")"
   ]
  },
  {
   "cell_type": "markdown",
   "metadata": {},
   "source": [
    "**Agora com else**"
   ]
  },
  {
   "cell_type": "code",
   "execution_count": 19,
   "metadata": {},
   "outputs": [
    {
     "name": "stdout",
     "output_type": "stream",
     "text": [
      "A lógica é verdadeira\n"
     ]
    }
   ],
   "source": [
    "logica = True\n",
    "\n",
    "if logica:\n",
    "    print('A lógica é verdadeira')\n",
    "else:\n",
    "    print('A lógica não é verdadeira')"
   ]
  },
  {
   "cell_type": "code",
   "execution_count": 20,
   "metadata": {},
   "outputs": [
    {
     "name": "stdout",
     "output_type": "stream",
     "text": [
      "A lógica não é verdadeira\n"
     ]
    }
   ],
   "source": [
    "logica = False\n",
    "\n",
    "if logica:\n",
    "    print('A lógica é verdadeira')\n",
    "else:\n",
    "    print('A lógica não é verdadeira')"
   ]
  },
  {
   "cell_type": "markdown",
   "metadata": {},
   "source": [
    "**Cuidado: As execuções de If/Else devem estar dentro do seu escopo"
   ]
  },
  {
   "cell_type": "code",
   "execution_count": 22,
   "metadata": {},
   "outputs": [
    {
     "name": "stdout",
     "output_type": "stream",
     "text": [
      "A lógica é verdadeira\n",
      "A lógica não é verdadeira\n"
     ]
    }
   ],
   "source": [
    "logica = True\n",
    "\n",
    "if logica:\n",
    "    print('A lógica é verdadeira')\n",
    "\n",
    "print('A lógica não é verdadeira') # Não é mais do 'interesse' (controle) do if"
   ]
  },
  {
   "cell_type": "markdown",
   "metadata": {},
   "source": [
    "## If e Else para diferente de True/False (Booleanos)"
   ]
  },
  {
   "cell_type": "code",
   "execution_count": 28,
   "metadata": {},
   "outputs": [
    {
     "name": "stdout",
     "output_type": "stream",
     "text": [
      "Digite a sua primeira nota: 7\n",
      "Digite a sua segunda nota: 5\n",
      "Você passou de ano\n",
      "6.0\n"
     ]
    }
   ],
   "source": [
    "def main():\n",
    "    primeira_nota = int(input(\"Digite a sua primeira nota: \"))\n",
    "    segunda_nota = int(input(\"Digite a sua segunda nota: \"))\n",
    "    \n",
    "    # Sendo a media da escola 6\n",
    "    # Para passar de ano preciso ter uma nota maior ou igual a 6\n",
    "    \n",
    "    media = (primeira_nota + segunda_nota) / 2\n",
    "    \n",
    "    if media >= 6:\n",
    "        print(\"Você passou de ano\")\n",
    "    else:\n",
    "        print(\"Você não passou de ano\")\n",
    "    \n",
    "    print(media)\n",
    "    \n",
    "main()"
   ]
  },
  {
   "cell_type": "code",
   "execution_count": 29,
   "metadata": {},
   "outputs": [
    {
     "name": "stdout",
     "output_type": "stream",
     "text": [
      "Digite a sua primeira nota: 7\n",
      "Digite a sua segunda nota: 5\n",
      "Você passou de ano\n",
      "6.0\n"
     ]
    }
   ],
   "source": [
    "def main():\n",
    "    primeira_nota = int(input(\"Digite a sua primeira nota: \"))\n",
    "    segunda_nota = int(input(\"Digite a sua segunda nota: \"))\n",
    "    \n",
    "    # Sendo a media da escola 6\n",
    "    # Para passar de ano preciso ter uma nota maior ou igual a 6\n",
    "    \n",
    "    media = (primeira_nota + segunda_nota) / 2\n",
    "    \n",
    "    if media < 6:\n",
    "        print(\"Você repetiu de ano\")\n",
    "    else:\n",
    "        print(\"Você passou de ano\")\n",
    "    \n",
    "    print(media)\n",
    "    \n",
    "main()"
   ]
  },
  {
   "cell_type": "markdown",
   "metadata": {},
   "source": [
    "## Desafio 4.1 - Número mágico\n",
    "Um mágico pede para alguém da plateia pensar num número de um a cinco.  \n",
    "Você escolhe (define) o numero.  \n",
    "Você pedirá para o mágico escolher o número que você pensou (receber input).  \n",
    "\n",
    "Se o valor do mágico for menor que o seu número você irá dizer para o mágico aumentar o valor do chute.  \n",
    "Se o valor do mágico for maior que o seu número você irá dizer para o mágico diminuir o valor do chute.  \n",
    "Se o valor do mágico for igual ao seu número você irá dizer para o mágico que ele acertou.  "
   ]
  },
  {
   "cell_type": "code",
   "execution_count": 76,
   "metadata": {},
   "outputs": [
    {
     "name": "stdout",
     "output_type": "stream",
     "text": [
      "Valor escolhido pelo mágico3\n",
      "Você acertou\n"
     ]
    }
   ],
   "source": [
    "def main():\n",
    "    numero_escolhido = 3\n",
    "    numero_magico = int(input(\"Valor escolhido pelo mágico\"))\n",
    "    \n",
    "    if numero_magico > numero_escolhido:\n",
    "        print(\"Diminua o chute\")  \n",
    "    elif numero_magico < numero_escolhido:\n",
    "        print(\"Aumente o chute\")\n",
    "    else:\n",
    "        print(\"Você acertou\")\n",
    "\n",
    "main()"
   ]
  },
  {
   "cell_type": "markdown",
   "metadata": {},
   "source": [
    "# \"Checagens\" (Operadores lógicos)\n",
    "**>**: Maior que  \n",
    "**<**: Menor que  \n",
    "**>=**: Maior ou igual a  \n",
    "**<=**: Menor ou igual a  \n",
    "**==**: Comparação de igualdade (igual a)  \n",
    "**!=**: Diferende a"
   ]
  },
  {
   "cell_type": "code",
   "execution_count": 79,
   "metadata": {},
   "outputs": [
    {
     "name": "stdout",
     "output_type": "stream",
     "text": [
      "Os números são diferentes\n"
     ]
    }
   ],
   "source": [
    "def main():\n",
    "    numero1 = 2\n",
    "    numero2 = 3\n",
    "    \n",
    "    if numero1 != numero2:\n",
    "        print(\"Os números são diferentes\")\n",
    "    else:\n",
    "        print(\"Os números são iguais\")\n",
    "    \n",
    "main()"
   ]
  },
  {
   "cell_type": "markdown",
   "metadata": {},
   "source": [
    "Apenas **uma** execução pode ser feita por bloco de condição (apenas o primeiro IF verdadeiro)"
   ]
  },
  {
   "cell_type": "code",
   "execution_count": 85,
   "metadata": {},
   "outputs": [
    {
     "name": "stdout",
     "output_type": "stream",
     "text": [
      "Felipe\n"
     ]
    }
   ],
   "source": [
    "def main():\n",
    "    char = 'f'\n",
    "    char2 = 'b'\n",
    "    \n",
    "    # Início do Bloco\n",
    "    if char == 'f':\n",
    "        print(\"Felipe\")\n",
    "    elif char2 == 'b':\n",
    "        print(\"ByLearn\")\n",
    "    else:\n",
    "        print(\"Python\")\n",
    "    # Final do Bloco\n",
    "        \n",
    "main()"
   ]
  },
  {
   "cell_type": "markdown",
   "metadata": {},
   "source": [
    "**Podemos ter um if que precise que todas as condições sejam verdadeiras (mais de uma condição):**  \n",
    "Para isso nós usamos o **and** (e em inglês)    \n",
    "**Podemos ter um if que precise que apenas uma das condições seja verdadeira (mais de uma condição):**  \n",
    "Para isso nós usamos o **or** (ou em inglês)"
   ]
  },
  {
   "cell_type": "code",
   "execution_count": 98,
   "metadata": {},
   "outputs": [
    {
     "name": "stdout",
     "output_type": "stream",
     "text": [
      "Felipe & ByLearn\n"
     ]
    }
   ],
   "source": [
    "def main():\n",
    "    char1 = 'f'\n",
    "    char2 = 'b'\n",
    "    \n",
    "    \n",
    "    if (char1 == 'f') and (char2 == 'b'):\n",
    "        print(\"Felipe & ByLearn\")\n",
    "    elif char1 == 'f':\n",
    "        print(\"Felipe\")\n",
    "    elif char2 == 'b':\n",
    "        print(\"ByLearn\")\n",
    "    else:\n",
    "        print(\"Python\")\n",
    "\n",
    "main()"
   ]
  },
  {
   "cell_type": "code",
   "execution_count": 100,
   "metadata": {},
   "outputs": [
    {
     "name": "stdout",
     "output_type": "stream",
     "text": [
      "Você acertou em pelo menos um dos chutes\n"
     ]
    }
   ],
   "source": [
    "def main():\n",
    "    numero1 = 2\n",
    "    numero2 = 3\n",
    "    numero3 = 5\n",
    "    \n",
    "    numero_escolhido = 3\n",
    "    \n",
    "    if (numero1 == 3) or (numero2 == 3) or (numero5 == 3):\n",
    "        print(\"Você acertou em pelo menos um dos chutes\")\n",
    "    else:\n",
    "        print(\"Você errou todos os chutes\")\n",
    "    \n",
    "main()"
   ]
  },
  {
   "cell_type": "markdown",
   "metadata": {},
   "source": [
    "**Exemplo lógico**"
   ]
  },
  {
   "cell_type": "code",
   "execution_count": 107,
   "metadata": {},
   "outputs": [
    {
     "name": "stdout",
     "output_type": "stream",
     "text": [
      "Todas são verdadeiras\n"
     ]
    }
   ],
   "source": [
    "def main():\n",
    "    cond1 = True\n",
    "    cond2 = True\n",
    "    \n",
    "    if cond1 and cond2:\n",
    "        print(\"Todas são verdadeiras\")\n",
    "    elif cond1 or cond2:\n",
    "        print(\"Uma delas é verdadeira\")\n",
    "    else:\n",
    "        print(\"Ambas são falsas\")\n",
    "\n",
    "main()"
   ]
  },
  {
   "cell_type": "code",
   "execution_count": 106,
   "metadata": {},
   "outputs": [
    {
     "name": "stdout",
     "output_type": "stream",
     "text": [
      "Pelo menos uma delas é verdadeira\n"
     ]
    }
   ],
   "source": [
    "def main():\n",
    "    cond1 = True\n",
    "    cond2 = False\n",
    "    cond3 = True\n",
    "    \n",
    "    if cond1 and cond2 and cond3:\n",
    "        print(\"Todas são verdadeiras\")\n",
    "    elif cond1 or cond2 or cond3:\n",
    "        print(\"Pelo menos uma delas é verdadeira\")\n",
    "    else:\n",
    "        print(\"Ambas são falsas\")\n",
    "\n",
    "main()"
   ]
  },
  {
   "cell_type": "code",
   "execution_count": 108,
   "metadata": {},
   "outputs": [
    {
     "name": "stdout",
     "output_type": "stream",
     "text": [
      "A primeira é verdade. Já a segunda e terceira, apenas uma delas é verdadeira\n"
     ]
    }
   ],
   "source": [
    "def main():\n",
    "    cond_obrigatoria = True\n",
    "    cond_opcional1 = False\n",
    "    cond_opcional2 = True\n",
    "    \n",
    "    if cond_obrigatoria and cond_opcional1 and cond_opcional2:\n",
    "        print(\"Todas são verdadeiras\")\n",
    "    elif cond_obrigatoria and (cond_opcional1 or cond_opcional2):\n",
    "        print(\"A primeira é verdade. Já a segunda e terceira, apenas uma delas é verdadeira\")\n",
    "    elif cond_opcional1 and cond_opcional2:\n",
    "        print(\"A obrigatória é falsa, mas pelo menos uma das opcionais é verdadeira\")\n",
    "    else:\n",
    "        print(\"Ambas são falsas\")\n",
    "    \n",
    "main()"
   ]
  },
  {
   "cell_type": "code",
   "execution_count": null,
   "metadata": {},
   "outputs": [],
   "source": []
  }
 ],
 "metadata": {
  "kernelspec": {
   "display_name": "Python 3",
   "language": "python",
   "name": "python3"
  },
  "language_info": {
   "codemirror_mode": {
    "name": "ipython",
    "version": 3
   },
   "file_extension": ".py",
   "mimetype": "text/x-python",
   "name": "python",
   "nbconvert_exporter": "python",
   "pygments_lexer": "ipython3",
   "version": "3.7.3"
  }
 },
 "nbformat": 4,
 "nbformat_minor": 2
}
