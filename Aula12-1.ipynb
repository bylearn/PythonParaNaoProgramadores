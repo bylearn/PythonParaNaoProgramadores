{
 "cells": [
  {
   "cell_type": "markdown",
   "metadata": {},
   "source": [
    "# Pacotes Padrão\n",
    "\n",
    "Os módulos Python são uma das principais camadas de abstração disponíveis e provavelmente a mais natural. As camadas de abstração permitem separar o código em partes contendo dados e funcionalidades relacionados.\n",
    "\n",
    "Por exemplo, uma camada de um projeto pode manipular a interface com ações do usuário, enquanto outra manipulará a manipulação de dados de baixo nível. A maneira mais natural de separar essas duas camadas é reagrupar toda a funcionalidade de interface em um arquivo e todas as operações de baixo nível em outro arquivo. Nesse caso, o arquivo de interface precisa importar o arquivo de baixo nível. Isso é feito com as instruções **import** e **from ... import**.\n",
    "\n",
    "No python temos várias bibliotecas que vem com o core do python, algumas delas são:\n",
    "\n",
    "- math (Para operações matemáticas)\n",
    "- os (Para manipulação de arquivos e pastas)\n",
    "- json (Codificador e decodificador JSON)\n",
    "- time (Para manipulaçao e hora)\n",
    "- Entre outros... \n",
    "\n",
    "* Caso queira saber mais, por favor acesse o link: https://docs.python.org/3/library/\n",
    "\n",
    "Agora vamos para alguns exemplos práticos com essas bibliotecas que mencionei acima\n",
    "\n",
    "## MATH"
   ]
  },
  {
   "cell_type": "code",
   "execution_count": 17,
   "metadata": {},
   "outputs": [
    {
     "name": "stdout",
     "output_type": "stream",
     "text": [
      "Fatorial de um numero é: 120\n",
      "Raiz quadrada do numero é: 2.0\n",
      "Cosseno de um numero é: -0.4480736161291701\n",
      "3.141592653589793\n",
      "2.718281828459045\n"
     ]
    }
   ],
   "source": [
    "import math\n",
    "\n",
    "# Para retornar um fatorial de um numero\n",
    "num = math.factorial(5)\n",
    "print(\"Fatorial de um numero é: \"+ str(num))\n",
    "\n",
    "# retornar a raiz quadrada de um numero\n",
    "num = math.sqrt(4)\n",
    "print(\"Raiz quadrada do numero é: \"+ str(num))\n",
    "\n",
    "# Cosseno de um numero (em radianos)\n",
    "num = math.cos(90)\n",
    "print(\"Cosseno de um numero é: \"+ str(num))\n",
    "\n",
    "# E Tambem, o valor de algumas contantes\n",
    "print(math.pi)\n",
    "print(math.e)"
   ]
  },
  {
   "cell_type": "markdown",
   "metadata": {},
   "source": [
    "## OS"
   ]
  },
  {
   "cell_type": "code",
   "execution_count": 26,
   "metadata": {},
   "outputs": [
    {
     "name": "stdout",
     "output_type": "stream",
     "text": [
      "C:\\Users\\Guilherme Haynes\\Projetos\\PythonParaNaoProgramadores\n",
      "None\n",
      "Guilherme Haynes\n"
     ]
    },
    {
     "ename": "PermissionError",
     "evalue": "[WinError 5] Acesso negado: 'c:\\\\TESTE'",
     "output_type": "error",
     "traceback": [
      "\u001b[1;31m---------------------------------------------------------------------------\u001b[0m",
      "\u001b[1;31mPermissionError\u001b[0m                           Traceback (most recent call last)",
      "\u001b[1;32m<ipython-input-26-6ffe6c942fc2>\u001b[0m in \u001b[0;36m<module>\u001b[1;34m\u001b[0m\n\u001b[0;32m     14\u001b[0m \u001b[1;33m\u001b[0m\u001b[0m\n\u001b[0;32m     15\u001b[0m \u001b[1;31m# Remover pastas\u001b[0m\u001b[1;33m\u001b[0m\u001b[1;33m\u001b[0m\u001b[1;33m\u001b[0m\u001b[0m\n\u001b[1;32m---> 16\u001b[1;33m \u001b[0mos\u001b[0m\u001b[1;33m.\u001b[0m\u001b[0mremove\u001b[0m\u001b[1;33m(\u001b[0m\u001b[1;34m\"c:\\TESTE\"\u001b[0m\u001b[1;33m)\u001b[0m\u001b[1;33m\u001b[0m\u001b[1;33m\u001b[0m\u001b[0m\n\u001b[0m",
      "\u001b[1;31mPermissionError\u001b[0m: [WinError 5] Acesso negado: 'c:\\\\TESTE'"
     ]
    }
   ],
   "source": [
    "import os\n",
    "\n",
    "#Podemos pegar o caminho que estamos atualmente\n",
    "print(os.getcwd())\n",
    "\n",
    "# pegar variaveis de ambiente\n",
    "print(os.getenv(\"JAVA_HOME\"))\n",
    "\n",
    "# Pegar o nome de usuario logado na maquina\n",
    "print(os.getlogin())\n",
    "\n",
    "#Criar pastas\n",
    "os.mkdir(\"c:\\TESTE\")\n",
    "\n",
    "# Remover pastas\n",
    "os.remove(\"c:\\TESTE\")"
   ]
  },
  {
   "cell_type": "markdown",
   "metadata": {},
   "source": [
    "## JSON"
   ]
  },
  {
   "cell_type": "code",
   "execution_count": 29,
   "metadata": {},
   "outputs": [
    {
     "name": "stdout",
     "output_type": "stream",
     "text": [
      "[\"foo\", {\"bar\": [\"baz\", null, 1.0, 2]}]\n",
      "['foo', {'bar': ['baz', None, 1.0, 2]}]\n"
     ]
    }
   ],
   "source": [
    "import json\n",
    "\n",
    "#Pegar uma lista, dicionario ou tuplas e transformar em JSON\n",
    "jsn = json.dumps(['foo', {'bar': ('baz', None, 1.0, 2)}])\n",
    "print(jsn)\n",
    "\n",
    "#Podemos tambem fazer o contrario, pegar um json e transformar em um objeto python\n",
    "jsn = json.loads('[\"foo\", {\"bar\":[\"baz\", null, 1.0, 2]}]')\n",
    "print(jsn)"
   ]
  },
  {
   "cell_type": "markdown",
   "metadata": {},
   "source": [
    "## TIME"
   ]
  },
  {
   "cell_type": "code",
   "execution_count": 40,
   "metadata": {},
   "outputs": [
    {
     "name": "stdout",
     "output_type": "stream",
     "text": [
      "1567560901.5496147\n",
      "22:35:01\n",
      "1567560801.5496147\n",
      "100.0011465549469\n"
     ]
    }
   ],
   "source": [
    "import time\n",
    "\n",
    "#Posso pegar a hora atual, porem me retornando em segundos\n",
    "hora = time.time()\n",
    "print(hora)\n",
    "\n",
    "#Podemos colocar a hora no formato que precisarmos\n",
    "print(time.strftime(\"%H:%M:%S\"))\n",
    "\n",
    "#realizar subtração em horas\n",
    "hora = hora - 100\n",
    "print(hora)\n",
    "\n",
    "#Checar a diferença de horas\n",
    "agora = time.time()\n",
    "print(str(agora - hora))"
   ]
  },
  {
   "cell_type": "markdown",
   "metadata": {},
   "source": [
    "# Pacotes Externos\n",
    "\n",
    "É comum que no desenvolvimento de projetos Python, precisemos instalar diversas bibliotecas para diferentes necessidades, como a comunicação com algum banco de dados ou até a utilização de testes unitários. Porém, não é viável que a instalação dessas bibliotecas seja feita de forma manual, já que o processo de cada uma delas podem ser, no mínimo, complicadas.\n",
    "\n",
    "Para isso, o Python possui uma ferramenta para gerenciamento de pacotes chamado PIP e é ele que vamos aprender neste artigo.\n",
    "\n",
    "## O que é o PIP?\n",
    "\n",
    "O PIP é um gerenciador de pacotes para projetos Python. É com ele que instalamos, removemos e atualizamos pacotes em nossos projetos. É similar aos conhecidos npm e composer (php), por exemplo.\n",
    "\n",
    "O PIP possui uma [página](https://pypi.org/) onde nós conseguimos buscar os pacotes disponíveis para a utilização. Nela podemos pesquisar por um pacote específico ou até uma palavra chave:\n",
    "\n",
    "<img src=\"https://dkrn4sk0rn31v.cloudfront.net/2018/08/06104521/Screen-Shot-2018-08-06-at-10.43.36-1024x800.png\" />\n",
    "\n",
    "## Instalando o PIP\n",
    "\n",
    "Todo o processo de instalação do PIP pode ser visto na sua [página oficial](https://pip.pypa.io/en/stable/installing/) e consiste nos seguintes passos:\n",
    "\n",
    "1. Baixar o arquivo get-pip.py e salvar no diretório de sua preferência.\n",
    "2. Executar o arquivo get-pip.py utilizando o Python através do terminal ou cmd: python get-pip.py. Vale lembrar que em alguns casos, esse comando deve ser executado em modo administrador. Por isso, se você estiver utilizando o Windows, abra o prompt como modo de administração e se você estiver utilizando o Linux ou macOS, utilize o comando “sudo”.\n",
    "\n",
    "Uma outra observação é que o PIP já vem instalado quando estamos utilizando o PyCharm como IDE para nossos projetos Python. Sendo assim, caso você já tenha instalado essa ferramenta, este processo não será necessário.\n",
    "\n",
    "## Gerenciando pacotes\n",
    "\n",
    "Após instalar o PIP em nosso SO, podemos utilizá-lo para diferentes tarefas, como instalar, remover, listar e atualizar pacotes. Veremos agora como realizar cada uma dessas tarefas.\n",
    "\n",
    "Para a instalação de novos pacotes utilizando o PIP, temos o seguinte comando: pip install nome_do_pacote\n",
    "\n",
    "Este comando irá baixar o pacote desejado e instalar em nosso SO, como podemos ver na figura abaixo. O nome do pacote pode ser encontrado na página oficial do PIP\n",
    "\n",
    "<img src=\"https://dkrn4sk0rn31v.cloudfront.net/2018/08/06110742/Screen-Shot-2018-08-06-at-11.07.26-1024x452.png\" />\n",
    "\n",
    "Para a listagem dos pacotes instalado, utilizamos o comando ```pip freeze```:\n",
    "\n",
    "<img src=\"https://dkrn4sk0rn31v.cloudfront.net/2018/08/06110905/Screen-Shot-2018-08-06-at-11.08.49.png\" />\n",
    "\n",
    "## Instalando alguns pacotes\n",
    "\n",
    "Agora vamos instalar alguns pacotes para podermos brincar um pouco com esses pacotes externos.\n",
    "\n",
    "Vamos utilizar o ``` matplotlib, numpy e requests  ```\n",
    "\n",
    "bom para instalar eles, basta digitar no terminal\n",
    "\n",
    "```\n",
    "pip install matplotlib numpy requests\n",
    "```\n",
    "\n",
    "agora vamos brincar um pouco com eles:\n",
    "\n",
    "## MATPLOTLIB\n",
    "O Matplotlib é uma biblioteca de plotagem 2D do Python que produz números de qualidade de publicação em vários formatos de cópia impressa e ambientes interativos entre plataformas. O Matplotlib pode ser usado em scripts Python, nos shell Python e IPython, no notebook Jupyter, em servidores de aplicativos da web e em quatro kits de ferramentas da interface gráfica do usuário."
   ]
  },
  {
   "cell_type": "code",
   "execution_count": 5,
   "metadata": {},
   "outputs": [
    {
     "data": {
      "image/png": "[encoded data removed]",
      "text/plain": [
       "<Figure size 432x288 with 1 Axes>"
      ]
     },
     "metadata": {
      "needs_background": "light"
     },
     "output_type": "display_data"
    }
   ],
   "source": [
    "import matplotlib\n",
    "import matplotlib.pyplot as plt\n",
    "import numpy as np\n",
    "\n",
    "labels = ['G1', 'G2', 'G3', 'G4', 'G5']\n",
    "men_means = [20, 34, 30, 35, 27]\n",
    "women_means = [25, 32, 34, 20, 25]\n",
    "\n",
    "x = np.arange(len(labels))  # o titulo de descrições\n",
    "width = 0.35  # o tamanho das barras\n",
    "\n",
    "fig, ax = plt.subplots()\n",
    "rects1 = ax.bar(x - width/2, men_means, width, label='Homem')\n",
    "rects2 = ax.bar(x + width/2, women_means, width, label='Mulher')\n",
    "\n",
    "# Adicione um pouco de texto para etiquetas, título e etiquetas personalizadas do eixo x, etc.\n",
    "ax.set_ylabel('Pontos')\n",
    "ax.set_title('Pontos por grupo e genero')\n",
    "ax.set_xticks(x)\n",
    "ax.set_xticklabels(labels)\n",
    "ax.legend()\n",
    "\n",
    "\n",
    "def autolabel(rects):\n",
    "    \"\"\"Anexe um rótulo de texto acima de cada barra em *rects*, exibindo sua altura.\"\"\"\n",
    "    for rect in rects:\n",
    "        height = rect.get_height()\n",
    "        ax.annotate('{}'.format(height),\n",
    "                    xy=(rect.get_x() + rect.get_width() / 2, height),\n",
    "                    xytext=(0, 3),  # 3 points vertical offset\n",
    "                    textcoords=\"offset points\",\n",
    "                    ha='center', va='bottom')\n",
    "\n",
    "\n",
    "autolabel(rects1)\n",
    "autolabel(rects2)\n",
    "\n",
    "fig.tight_layout()\n",
    "\n",
    "plt.show()"
   ]
  },
  {
   "cell_type": "markdown",
   "metadata": {},
   "source": [
    "## Numpy\n",
    "\n",
    "O NumPy é o pacote fundamental para a computação científica com Python. Ele contém entre outras coisas:\n",
    "\n",
    "- um poderoso objeto de matriz N-dimensional\n",
    "- funções sofisticadas (transmissão)\n",
    "- ferramentas para integrar código C / C ++ e Fortran\n",
    "- recursos úteis de álgebra linear, transformação de Fourier e números aleatórios\n",
    "\n",
    "Além de seus óbvios usos científicos, o NumPy também pode ser usado como um eficiente recipiente multidimensional de dados genéricos. Tipos de dados arbitrários podem ser definidos. Isso permite que o NumPy se integre de maneira fácil e rápida a uma ampla variedade de bancos de dados."
   ]
  },
  {
   "cell_type": "code",
   "execution_count": 17,
   "metadata": {},
   "outputs": [
    {
     "name": "stdout",
     "output_type": "stream",
     "text": [
      "[[ 0  1  2  3  4]\n",
      " [ 5  6  7  8  9]\n",
      " [10 11 12 13 14]]\n",
      "(3, 5)\n",
      "2\n",
      "int32\n",
      "[[ 0  2  4  6  8]\n",
      " [10 12 14 16 18]\n",
      " [20 22 24 26 28]]\n",
      "[[0.  0.5 1.  1.5 2. ]\n",
      " [2.5 3.  3.5 4.  4.5]\n",
      " [5.  5.5 6.  6.5 7. ]]\n",
      "[[10 11 12 13 14]\n",
      " [15 16 17 18 19]\n",
      " [20 21 22 23 24]]\n",
      "[[-10  -9  -8  -7  -6]\n",
      " [ -5  -4  -3  -2  -1]\n",
      " [  0   1   2   3   4]]\n",
      "[[0. 0. 0. 0.]\n",
      " [0. 0. 0. 0.]\n",
      " [0. 0. 0. 0.]]\n",
      "[[1. 1. 1. 1.]\n",
      " [1. 1. 1. 1.]\n",
      " [1. 1. 1. 1.]]\n"
     ]
    }
   ],
   "source": [
    "import numpy as np\n",
    "\n",
    "# Primeiro ele vai criar um array de numeros enumerados de 0 até 15\n",
    "# depois vai dar um reshape nele de uma linha para 3 linhas e 5 colunas\n",
    "arr = np.arange(15).reshape(3, 5)\n",
    "print(arr)\n",
    "\n",
    "# Podemos ver o shape da matriz\n",
    "print(arr.shape)\n",
    "\n",
    "# Ver o numero de dimensões que essa matriz tem\n",
    "print(arr.ndim)\n",
    "\n",
    "# O tipo de dados que contem nessa matriz\n",
    "print(arr.dtype.name)\n",
    "\n",
    "#podemos aplicar operações matemáticas com os ndarrays\n",
    "print(arr * 2)\n",
    "print(arr / 2)\n",
    "print(arr + 10)\n",
    "print(arr - 10)\n",
    "\n",
    "# Criar arrays de 0 ou 1\n",
    "print(np.zeros( (3,4) ))\n",
    "print(np.ones( (3,4) ))\n"
   ]
  },
  {
   "cell_type": "markdown",
   "metadata": {},
   "source": [
    "## Requests\n",
    "\n",
    "Requests é uma biblioteca HTTP licensiada sob Apache2, escrita em Python, para seres humanos.\n",
    "\n",
    "O módulo urllib2, parte da biblioteca padrão do Python, oferece a maioria das funcionalidades do protocolo HTTP que você precisa, mas a API está completamente quebrada. Ela foi feita para uma época diferente — e uma web diferente. Ela demanda uma enorme quantidade de trabalho (inclusive para sobrescrever métodos) para realizar as tarefas mais simples."
   ]
  },
  {
   "cell_type": "code",
   "execution_count": 29,
   "metadata": {},
   "outputs": [
    {
     "name": "stdout",
     "output_type": "stream",
     "text": [
      "200\n",
      "ISO-8859-1\n",
      "{'Date': 'Wed, 04 Sep 2019 02:42:40 GMT', 'Expires': '-1', 'Cache-Control': 'private, max-age=0', 'Content-Type': 'text/html; charset=ISO-8859-1', 'P3P': 'CP=\"This is not a P3P policy! See g.co/p3phelp for more info.\"', 'Content-Encoding': 'gzip', 'Server': 'gws', 'X-XSS-Protection': '0', 'X-Frame-Options': 'SAMEORIGIN', 'Set-Cookie': '1P_JAR=2019-09-04-02; expires=Fri, 04-Oct-2019 02:42:40 GMT; path=/; domain=.google.com; SameSite=none, NID=188=OzsHP9IdRAkO7iKH26gySB2_t5UxXVdlEfUbdoqPQLN73RGSC_ulx4xH7KTretAyQUeQUMdlTz6afKnVGoeKbTwbW5dPhx9BgzUy4OWzeg1a5IT7SHyCiWuFxLem3cm-XfE2xEmsvXcIrdHwtwmCeORqFPieMStM1KvXJJ230rY; expires=Thu, 05-Mar-2020 02:42:40 GMT; path=/; domain=.google.com; HttpOnly', 'Alt-Svc': 'quic=\":443\"; ma=2592000; v=\"46,43,39\"', 'Transfer-Encoding': 'chunked'}\n",
      "b'<!doctype html><html itemscope=\"\" itemtype=\"http://schema.org/WebPage\" lang=\"pt-BR\"><head><meta content=\"text/html; charset=UTF-8\" http-equiv=\"Content-Type\"><meta content=\"/images/branding/googleg/1x/googleg_standard_color_128dp.png\" itemprop=\"image\"><title>Google</title><script nonce=\"YOgpvnEguyZW2MURVbNzbg==\">(function(){window.google={kEI:\\'oCRvXbatAv_R5OUP5PqnqAI\\',kEXPI:\\'0,1353747,2015,1640,782,1225,731,223,510,1065,3152,57,321,206,1017,54,1430,454,123,2,124,10,713,338,160,28,52,4,156,84,2329871,329521,1294,12383,4855,32692,15247,867,12163,5281,1954,9286,363,3320,5505,2436,5948,1119,2,205,373,728,2432,1361,283,4040,4968,773,2252,4742,3118,6196,669,1050,1808,1478,7,2,490,2043,8909,5297,897,1121,36,920,873,1214,1367,350,1,1260,2728,8,1828,827,315,91,2,631,3240,8066,2884,20,317,235,884,904,101,2024,1,368,2778,520,399,992,1285,8,85,24,3654,48,553,11,14,1279,390,1822,202,37,286,5,1023,222,7,83,758,323,193,513,961,48,158,662,2620,158,177,483,260,52,1137,2,1509,1160,1839,184,595,1702,361,1586,747,61,150,8,26,71,113,44,999,103,328,1284,16,84,336,81,507,1252,667,42,1597,607,101,340,10,23,1339,678,51,501,557,2446,648,133,521,252,181,79,1010,2,276,29,495,7,427,76,225,592,523,927,124,189,926,263,222,736,432,59,147,1769,96,132,111,426,336,622,1246,1146,1067,109,503,189,518,8,112,2,91,319,284,129,121,19,23,11,51,3,434,39,55,754,100,93,34,705,292,102,127,9,34,5,3,3,833,441,5897472,1874,8798466,4,1572,549,333,444,1,2,80,1,900,583,9,304,1,8,1,2,2132,1,1,1,1,1,414,1,748,141,59,726,3,7,563,1,3086,474,1,86,25,2,2,27\\',authuser:0,kscs:\\'c9c918f0_oCRvXbatAv_R5OUP5PqnqAI\\',kGL:\\'BR\\',kBL:\\'iphV\\'};google.sn=\\'webhp\\';google.kHL=\\'pt-BR\\';google.jsfs=\\'Ffpdje\\';})();(function(){google.lc=[];google.li=0;google.getEI=function(a){for(var b;a&&(!a.getAttribute||!(b=a.getAttribute(\"eid\")));)a=a.parentNode;return b||google.kEI};google.getLEI=function(a){for(var b=null;a&&(!a.getAttribute||!(b=a.getAttribute(\"leid\")));)a=a.parentNode;return b};google.https=function(){return\"https:\"==window.location.protocol};google.ml=function(){return null};google.time=function(){return(new Date).getTime()};google.log=function(a,b,e,c,g){if(a=google.logUrl(a,b,e,c,g)){b=new Image;var d=google.lc,f=google.li;d[f]=b;b.onerror=b.onload=b.onabort=function(){delete d[f]};google.vel&&google.vel.lu&&google.vel.lu(a);b.src=a;google.li=f+1}};google.logUrl=function(a,b,e,c,g){var d=\"\",f=google.ls||\"\";e||-1!=b.search(\"&ei=\")||(d=\"&ei=\"+google.getEI(c),-1==b.search(\"&lei=\")&&(c=google.getLEI(c))&&(d+=\"&lei=\"+c));c=\"\";!e&&google.cshid&&-1==b.search(\"&cshid=\")&&\"slh\"!=a&&(c=\"&cshid=\"+google.cshid);a=e||\"/\"+(g||\"gen_204\")+\"?atyp=i&ct=\"+a+\"&cad=\"+b+d+f+\"&zx=\"+google.time()+c;/^http:/i.test(a)&&google.https()&&(google.ml(Error(\"a\"),!1,{src:a,glmm:1}),a=\"\");return a};}).call(this);(function(){google.y={};google.x=function(a,b){if(a)var c=a.id;else{do c=Math.random();while(google.y[c])}google.y[c]=[a,b];return!1};google.lm=[];google.plm=function(a){google.lm.push.apply(google.lm,a)};google.lq=[];google.load=function(a,b,c){google.lq.push([[a],b,c])};google.loadAll=function(a,b){google.lq.push([a,b])};}).call(this);google.f={};var a=window.location,b=a.href.indexOf(\"#\");if(0<=b){var c=a.href.substring(b+1);/(^|&)q=/.test(c)&&-1==c.indexOf(\"#\")&&a.replace(\"/search?\"+c.replace(/(^|&)fp=[^&]*/g,\"\")+\"&cad=h\")};</script><style>#gbar,#guser{font-size:13px;padding-top:1px !important;}#gbar{height:22px}#guser{padding-bottom:7px !important;text-align:right}.gbh,.gbd{border-top:1px solid #c9d7f1;font-size:1px}.gbh{height:0;position:absolute;top:24px;width:100%}@media all{.gb1{height:22px;margin-right:.5em;vertical-align:top}#gbar{float:left}}a.gb1,a.gb4{text-decoration:underline !important}a.gb1,a.gb4{color:#00c !important}.gbi .gb4{color:#dd8e27 !important}.gbf .gb4{color:#900 !important}\\n</style><style>body,td,a,p,.h{font-family:arial,sans-serif}body{margin:0;overflow-y:scroll}#gog{padding:3px 8px 0}td{line-height:.8em}.gac_m td{line-height:17px}form{margin-bottom:20px}.h{color:#36c}.q{color:#00c}.ts td{padding:0}.ts{border-collapse:collapse}em{font-weight:bold;font-style:normal}.lst{height:25px;width:496px}.gsfi,.lst{font:18px arial,sans-serif}.gsfs{font:17px arial,sans-serif}.ds{display:inline-box;display:inline-block;margin:3px 0 4px;margin-left:4px}input{font-family:inherit}a.gb1,a.gb2,a.gb3,a.gb4{color:#11c !important}body{background:#fff;color:black}a{color:#11c;text-decoration:none}a:hover,a:active{text-decoration:underline}.fl a{color:#36c}a:visited{color:#551a8b}a.gb1,a.gb4{text-decoration:underline}a.gb3:hover{text-decoration:none}#ghead a.gb2:hover{color:#fff !important}.sblc{padding-top:5px}.sblc a{display:block;margin:2px 0;margin-left:13px;font-size:11px}.lsbb{background:#eee;border:solid 1px;border-color:#ccc #999 #999 #ccc;height:30px}.lsbb{display:block}.ftl,#fll a{display:inline-block;margin:0 12px}.lsb{background:url(/images/nav_logo229.png) 0 -261px repeat-x;border:none;color:#000;cursor:pointer;height:30px;margin:0;outline:0;font:15px arial,sans-serif;vertical-align:top}.lsb:active{background:#ccc}.lst:focus{outline:none}.tiah{width:458px}</style><script nonce=\"YOgpvnEguyZW2MURVbNzbg==\"></script></head><body bgcolor=\"#fff\"><script nonce=\"YOgpvnEguyZW2MURVbNzbg==\">(function(){var src=\\'/images/nav_logo229.png\\';var iesg=false;document.body.onload = function(){window.n && window.n();if (document.images){new Image().src=src;}\\nif (!iesg){document.f&&document.f.q.focus();document.gbqf&&document.gbqf.q.focus();}\\n}\\n})();</script><div id=\"mngb\"> <div id=gbar><nobr><b class=gb1>Pesquisa</b> <a class=gb1 href=\"https://www.google.com.br/imghp?hl=pt-BR&tab=wi\">Imagens</a> <a class=gb1 href=\"https://maps.google.com.br/maps?hl=pt-BR&tab=wl\">Maps</a> <a class=gb1 href=\"https://play.google.com/?hl=pt-BR&tab=w8\">Play</a> <a class=gb1 href=\"https://www.youtube.com/?gl=BR&tab=w1\">YouTube</a> <a class=gb1 href=\"https://news.google.com.br/nwshp?hl=pt-BR&tab=wn\">Not\\xedcias</a> <a class=gb1 href=\"https://mail.google.com/mail/?tab=wm\">Gmail</a> <a class=gb1 href=\"https://drive.google.com/?tab=wo\">Drive</a> <a class=gb1 style=\"text-decoration:none\" href=\"https://www.google.com.br/intl/pt-BR/about/products?tab=wh\"><u>Mais</u> &raquo;</a></nobr></div><div id=guser width=100%><nobr><span id=gbn class=gbi></span><span id=gbf class=gbf></span><span id=gbe></span><a href=\"http://www.google.com.br/history/optout?hl=pt-BR\" class=gb4>Hist\\xf3rico da Web</a> | <a  href=\"/preferences?hl=pt-BR\" class=gb4>Configura\\xe7\\xf5es</a> | <a target=_top id=gb_70 href=\"https://accounts.google.com/ServiceLogin?hl=pt-BR&passive=true&continue=https://www.google.com/\" class=gb4>Fazer login</a></nobr></div><div class=gbh style=left:0></div><div class=gbh style=right:0></div> </div><center><br clear=\"all\" id=\"lgpd\"><div id=\"lga\"><img alt=\"Google\" height=\"92\" src=\"/images/branding/googlelogo/1x/googlelogo_white_background_color_272x92dp.png\" style=\"padding:28px 0 14px\" width=\"272\" id=\"hplogo\"><br><br></div><form action=\"/search\" name=\"f\"><table cellpadding=\"0\" cellspacing=\"0\"><tr valign=\"top\"><td width=\"25%\">&nbsp;</td><td align=\"center\" nowrap=\"\"><input name=\"ie\" value=\"ISO-8859-1\" type=\"hidden\"><input value=\"pt-BR\" name=\"hl\" type=\"hidden\"><input name=\"source\" type=\"hidden\" value=\"hp\"><input name=\"biw\" type=\"hidden\"><input name=\"bih\" type=\"hidden\"><div class=\"ds\" style=\"height:32px;margin:4px 0\"><div style=\"position:relative;zoom:1\"><input style=\"color:#000;margin:0;padding:5px 8px 0 6px;vertical-align:top;padding-right:38px\" autocomplete=\"off\" class=\"lst tiah\" value=\"\" title=\"Pesquisa Google\" maxlength=\"2048\" name=\"q\" size=\"57\"><img src=\"/textinputassistant/tia.png\" style=\"position:absolute;cursor:pointer;right:5px;top:4px;z-index:300\" data-script-url=\"/textinputassistant/11/pt-BR_tia.js\" alt=\"\" height=\"23\" onclick=\"var s=document.createElement(\\'script\\');s.src=this.getAttribute(\\'data-script-url\\');(document.getElementById(\\'xjsc\\')||document.body).appendChild(s);\" width=\"27\"></div></div><br style=\"line-height:0\"><span class=\"ds\"><span class=\"lsbb\"><input class=\"lsb\" value=\"Pesquisa Google\" name=\"btnG\" type=\"submit\"></span></span><span class=\"ds\"><span class=\"lsbb\"><input class=\"lsb\" value=\"Estou com sorte\" name=\"btnI\" onclick=\"/*gws_metadata_pragma__js_inline_handler*/ if(this.form.q.value){ this.checked=1; if (this.form.iflsig)this.form.iflsig.disabled=false; } else top.location=\\'/doodles/\\'\" type=\"submit\"></span></span></td><td class=\"fl sblc\" align=\"left\" nowrap=\"\" width=\"25%\"><a href=\"/advanced_search?hl=pt-BR&amp;authuser=0\">Pesquisa avan\\xe7ada</a><a href=\"/language_tools?hl=pt-BR&amp;authuser=0\">Ferramentas de idioma</a></td></tr></table><input id=\"gbv\" name=\"gbv\" type=\"hidden\" value=\"1\"><script nonce=\"YOgpvnEguyZW2MURVbNzbg==\">(function(){var a,b=\"1\";if(document&&document.getElementById)if(\"undefined\"!=typeof XMLHttpRequest)b=\"2\";else if(\"undefined\"!=typeof ActiveXObject){var c,d,e=[\"MSXML2.XMLHTTP.6.0\",\"MSXML2.XMLHTTP.3.0\",\"MSXML2.XMLHTTP\",\"Microsoft.XMLHTTP\"];for(c=0;d=e[c++];)try{new ActiveXObject(d),b=\"2\"}catch(h){}}a=b;if(\"2\"==a&&-1==location.search.indexOf(\"&gbv=2\")){var f=google.gbvu,g=document.getElementById(\"gbv\");g&&(g.value=a);f&&window.setTimeout(function(){location.href=f},0)};}).call(this);</script></form><div id=\"gac_scont\"></div><div style=\"font-size:83%;min-height:3.5em\"><br></div><span id=\"footer\"><div style=\"font-size:10pt\"><div style=\"margin:19px auto;text-align:center\" id=\"fll\"><a href=\"/intl/pt-BR/ads/\">Solu\\xe7\\xf5es de publicidade</a><a href=\"/services/\">Solu\\xe7\\xf5es empresariais</a><a href=\"/intl/pt-BR/about.html\">Sobre o Google</a><a href=\"https://www.google.com/setprefdomain?prefdom=BR&amp;prev=https://www.google.com.br/&amp;sig=K_JbaIDatAvCos9IS8q96D8QyUCmI%3D\">Google.com.br</a></div></div><p style=\"color:#767676;font-size:8pt\">&copy; 2019 - <a href=\"/intl/pt-BR/policies/privacy/\">Privacidade</a> - <a href=\"/intl/pt-BR/policies/terms/\">Termos</a></p></span></center><script nonce=\"YOgpvnEguyZW2MURVbNzbg==\">(function(){window.google.cdo={height:0,width:0};(function(){var a=window.innerWidth,b=window.innerHeight;if(!a||!b){var c=window.document,d=\"CSS1Compat\"==c.compatMode?c.documentElement:c.body;a=d.clientWidth;b=d.clientHeight}a&&b&&(a!=google.cdo.width||b!=google.cdo.height)&&google.log(\"\",\"\",\"/client_204?&atyp=i&biw=\"+a+\"&bih=\"+b+\"&ei=\"+google.kEI);}).call(this);})();(function(){var u=\\'/xjs/_/js/k\\\\x3dxjs.hp.en.EFykrIkSMhU.O/m\\\\x3dsb_he,d/am\\\\x3dHhbUBA/d\\\\x3d1/rs\\\\x3dACT90oHe1-s7RkJzPDO2IRMaeC5ROgFmxQ\\';setTimeout(function(){var a=document.createElement(\"script\");a.src=u;google.timers&&google.timers.load&&google.tick&&google.tick(\"load\",\"xjsls\");document.body.appendChild(a)},0);})();(function(){window.google.xjsu=\\'/xjs/_/js/k\\\\x3dxjs.hp.en.EFykrIkSMhU.O/m\\\\x3dsb_he,d/am\\\\x3dHhbUBA/d\\\\x3d1/rs\\\\x3dACT90oHe1-s7RkJzPDO2IRMaeC5ROgFmxQ\\';})();function _DumpException(e){throw e;}\\nfunction _F_installCss(c){}\\n(function(){google.spjs=false;google.snet=true;google.em=[];google.emw=false;})();google.sm=1;(function(){var pmc=\\'{\\\\x22JnTczA\\\\x22:{},\\\\x22Qnk92g\\\\x22:{},\\\\x22RWGcrA\\\\x22:{},\\\\x22U5B21g\\\\x22:{},\\\\x22YFCs/g\\\\x22:{},\\\\x22YQeDTA\\\\x22:{},\\\\x22ZI/YVQ\\\\x22:{},\\\\x22d\\\\x22:{},\\\\x22mVopag\\\\x22:{},\\\\x22sb_he\\\\x22:{\\\\x22agen\\\\x22:true,\\\\x22cgen\\\\x22:true,\\\\x22client\\\\x22:\\\\x22heirloom-hp\\\\x22,\\\\x22dh\\\\x22:true,\\\\x22dhqt\\\\x22:true,\\\\x22ds\\\\x22:\\\\x22\\\\x22,\\\\x22ffql\\\\x22:\\\\x22pt-BR\\\\x22,\\\\x22fl\\\\x22:true,\\\\x22host\\\\x22:\\\\x22google.com\\\\x22,\\\\x22isbh\\\\x22:28,\\\\x22jsonp\\\\x22:true,\\\\x22msgs\\\\x22:{\\\\x22cibl\\\\x22:\\\\x22Limpar pesquisa\\\\x22,\\\\x22dym\\\\x22:\\\\x22Voc\\xea quis dizer:\\\\x22,\\\\x22lcky\\\\x22:\\\\x22Estou com sorte\\\\x22,\\\\x22lml\\\\x22:\\\\x22Saiba mais\\\\x22,\\\\x22oskt\\\\x22:\\\\x22Ferramentas de inser\\xe7\\xe3o de texto\\\\x22,\\\\x22psrc\\\\x22:\\\\x22Esta pesquisa foi removida do seu\\\\\\\\u003Ca href\\\\x3d\\\\\\\\\\\\x22/history\\\\\\\\\\\\x22\\\\\\\\u003EHist\\xf3rico da web\\\\\\\\u003C/a\\\\\\\\u003E\\\\x22,\\\\x22psrl\\\\x22:\\\\x22Remover\\\\x22,\\\\x22sbit\\\\x22:\\\\x22Pesquisa por imagem\\\\x22,\\\\x22srch\\\\x22:\\\\x22Pesquisa Google\\\\x22},\\\\x22ovr\\\\x22:{},\\\\x22pq\\\\x22:\\\\x22\\\\x22,\\\\x22refpd\\\\x22:true,\\\\x22rfs\\\\x22:[],\\\\x22sbpl\\\\x22:24,\\\\x22sbpr\\\\x22:24,\\\\x22scd\\\\x22:10,\\\\x22sce\\\\x22:5,\\\\x22stok\\\\x22:\\\\x22erhyL4zmLduwB5dx6xfGoR3qvaQ\\\\x22,\\\\x22uhde\\\\x22:false}}\\';google.pmc=JSON.parse(pmc);})();</script>        </body></html>'\n"
     ]
    }
   ],
   "source": [
    "import requests\n",
    "\n",
    "# Vamos acessar um site na web\n",
    "resp = requests.get(\"https://google.com\")\n",
    "\n",
    "# Vamos verificar o status code\n",
    "print(resp.status_code)\n",
    "\n",
    "# Verificando o encoding da página\n",
    "print(resp.encoding)\n",
    "\n",
    "# Ver os cabeçalhos da resposta\n",
    "print(resp.headers)\n",
    "\n",
    "#Olhando o HTML\n",
    "print(resp.content)"
   ]
  }
 ],
 "metadata": {
  "kernelspec": {
   "display_name": "Python 3",
   "language": "python",
   "name": "python3"
  },
  "language_info": {
   "codemirror_mode": {
    "name": "ipython",
    "version": 3
   },
   "file_extension": ".py",
   "mimetype": "text/x-python",
   "name": "python",
   "nbconvert_exporter": "python",
   "pygments_lexer": "ipython3",
   "version": "3.7.4"
  }
 },
 "nbformat": 4,
 "nbformat_minor": 2
}
