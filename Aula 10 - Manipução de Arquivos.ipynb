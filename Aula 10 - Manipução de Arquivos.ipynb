{
 "cells": [
  {
   "cell_type": "markdown",
   "metadata": {},
   "source": [
    "# Manipulação de arquivos"
   ]
  },
  {
   "cell_type": "markdown",
   "metadata": {},
   "source": [
    "## Caminhos de abertura\n",
    "- Caminhos Relativos => A partir da pasta atual\n",
    "    - Ex: arquivos//arquivo.txt\n",
    "- Arquivos na pasta atual => Apenas o nome do arquivo\n",
    "    - Ex: arquivo.txt\n",
    "- Caminho Total => Todo o caminho\n",
    "    - Ex: C://caminho//arquivo.txt"
   ]
  },
  {
   "cell_type": "markdown",
   "metadata": {},
   "source": [
    "## Permissões de abertura\n",
    " - 'r' = Read => Apenas escrita (Permissão padrão do Python)\n",
    " - 'a' = Append => Ler e Escrever sem deletar o conteúdo (adicionar conteúdo)\n",
    " - 'w' = Write => Escrever no arquivo a partir do zero (deleta o conteúdo)\n",
    " - 'w+' = Write+ => Escrever no arquivo a partir do zero (deletando o conteúdo) e criando caso ele não exista"
   ]
  },
  {
   "cell_type": "markdown",
   "metadata": {},
   "source": [
    "## Tipos de Leitura\n",
    "- 't' = Text => Arquivo de texto\n",
    "- 'b' = Binary => Arquivo binários (como imagens)"
   ]
  },
  {
   "cell_type": "code",
   "execution_count": 4,
   "metadata": {},
   "outputs": [
    {
     "name": "stdout",
     "output_type": "stream",
     "text": [
      "<_io.TextIOWrapper name='arquivos//arquivo.txt' mode='r' encoding='cp1252'>\n"
     ]
    }
   ],
   "source": [
    "f = open(\"arquivos//arquivo.txt\",\"r\") # Read => Apenas Escrita\n",
    "print(f)"
   ]
  },
  {
   "cell_type": "code",
   "execution_count": 5,
   "metadata": {},
   "outputs": [
    {
     "name": "stdout",
     "output_type": "stream",
     "text": [
      "<_io.TextIOWrapper name='arquivos//arquivo.txt' mode='a' encoding='cp1252'>\n"
     ]
    }
   ],
   "source": [
    "f = open(\"arquivos//arquivo.txt\",\"a\") # Append => Leio e quero adicionar textos\n",
    "print(f)"
   ]
  },
  {
   "cell_type": "code",
   "execution_count": 6,
   "metadata": {},
   "outputs": [
    {
     "name": "stdout",
     "output_type": "stream",
     "text": [
      "<_io.TextIOWrapper name='arquivos//arquivo.txt' mode='w' encoding='cp1252'>\n"
     ]
    }
   ],
   "source": [
    "f = open(\"arquivos//arquivo.txt\",\"w\") # Write => Escrita => Quero escrever nesse arquivo a partir do zero\n",
    "print(f)"
   ]
  },
  {
   "cell_type": "code",
   "execution_count": 8,
   "metadata": {},
   "outputs": [
    {
     "name": "stdout",
     "output_type": "stream",
     "text": [
      "<_io.TextIOWrapper name='arquivos//arquivo2.txt' mode='w+' encoding='cp1252'>\n"
     ]
    }
   ],
   "source": [
    "f = open(\"arquivos//arquivo2.txt\", \"w+\") # Arquivo inexistente\n",
    "print(f)"
   ]
  },
  {
   "cell_type": "code",
   "execution_count": 10,
   "metadata": {},
   "outputs": [
    {
     "ename": "FileNotFoundError",
     "evalue": "[Errno 2] No such file or directory: 'arquivos//arquivo3.txt'",
     "output_type": "error",
     "traceback": [
      "\u001b[1;31m---------------------------------------------------------------------------\u001b[0m",
      "\u001b[1;31mFileNotFoundError\u001b[0m                         Traceback (most recent call last)",
      "\u001b[1;32m<ipython-input-10-d010f47133c4>\u001b[0m in \u001b[0;36m<module>\u001b[1;34m\u001b[0m\n\u001b[1;32m----> 1\u001b[1;33m \u001b[0mf\u001b[0m \u001b[1;33m=\u001b[0m \u001b[0mopen\u001b[0m\u001b[1;33m(\u001b[0m\u001b[1;34m\"arquivos//arquivo3.txt\"\u001b[0m\u001b[1;33m,\u001b[0m \u001b[1;34m\"r\"\u001b[0m\u001b[1;33m)\u001b[0m \u001b[1;31m# Arquivo inexistente\u001b[0m\u001b[1;33m\u001b[0m\u001b[1;33m\u001b[0m\u001b[0m\n\u001b[0m\u001b[0;32m      2\u001b[0m \u001b[0mprint\u001b[0m\u001b[1;33m(\u001b[0m\u001b[0mf\u001b[0m\u001b[1;33m)\u001b[0m\u001b[1;33m\u001b[0m\u001b[1;33m\u001b[0m\u001b[0m\n",
      "\u001b[1;31mFileNotFoundError\u001b[0m: [Errno 2] No such file or directory: 'arquivos//arquivo3.txt'"
     ]
    }
   ],
   "source": [
    "f = open(\"arquivos//arquivo3.txt\", \"r\") # Arquivo inexistente\n",
    "print(f)"
   ]
  },
  {
   "cell_type": "code",
   "execution_count": 11,
   "metadata": {},
   "outputs": [
    {
     "name": "stdout",
     "output_type": "stream",
     "text": [
      "<_io.TextIOWrapper name='arquivos//arquivo.txt' mode='r' encoding='cp1252'>\n"
     ]
    }
   ],
   "source": [
    "f = open(\"arquivos//arquivo.txt\") # Read => Apenas Escrita\n",
    "print(f)"
   ]
  },
  {
   "cell_type": "code",
   "execution_count": 13,
   "metadata": {},
   "outputs": [
    {
     "name": "stdout",
     "output_type": "stream",
     "text": [
      "<_io.TextIOWrapper name='arquivos//arquivo.txt' mode='rt' encoding='cp1252'>\n"
     ]
    }
   ],
   "source": [
    "f = open(\"arquivos//arquivo.txt\", \"rt\") # T => Texto => TextIOWrapper\n",
    "print(f)"
   ]
  },
  {
   "cell_type": "code",
   "execution_count": 14,
   "metadata": {},
   "outputs": [
    {
     "name": "stdout",
     "output_type": "stream",
     "text": [
      "<_io.BufferedReader name='arquivos//arquivo.txt'>\n"
     ]
    }
   ],
   "source": [
    "f = open(\"arquivos//arquivo.txt\", \"rb\") # B => Binário => BufferedReader\n",
    "print(f)"
   ]
  },
  {
   "cell_type": "markdown",
   "metadata": {},
   "source": [
    "## Abertura e Fechamento de Arquivo\n",
    "Quando eu abro um arquivo eu estou dizendo que eu estou usando ele e ele deve permanecer existente até o final do uso.  \n",
    "Quando eu termino de usar eu preciso informar isso através da função **close()**."
   ]
  },
  {
   "cell_type": "code",
   "execution_count": 53,
   "metadata": {},
   "outputs": [],
   "source": [
    "f = open(\"arquivos//arquivo3.txt\") # Abrir o arquivo"
   ]
  },
  {
   "cell_type": "code",
   "execution_count": 54,
   "metadata": {},
   "outputs": [],
   "source": [
    "f.close() # Fechei o arquivo"
   ]
  },
  {
   "cell_type": "markdown",
   "metadata": {},
   "source": [
    "## Leitura do arquivo"
   ]
  },
  {
   "cell_type": "code",
   "execution_count": 15,
   "metadata": {},
   "outputs": [
    {
     "name": "stdout",
     "output_type": "stream",
     "text": [
      "<_io.TextIOWrapper name='arquivos//arquivo.txt' mode='r' encoding='cp1252'>\n"
     ]
    }
   ],
   "source": [
    "f = open(\"arquivos//arquivo.txt\") # Read => Apenas Escrita\n",
    "print(f)"
   ]
  },
  {
   "cell_type": "markdown",
   "metadata": {},
   "source": [
    "Para ler todo o arquivo em uma string só usamos o **read()**"
   ]
  },
  {
   "cell_type": "code",
   "execution_count": 16,
   "metadata": {},
   "outputs": [
    {
     "name": "stdout",
     "output_type": "stream",
     "text": [
      "primeira linha\n",
      "segunda linha\n",
      "terceira linha\n",
      "quarta linha\n",
      "quinta linha\n"
     ]
    }
   ],
   "source": [
    "print(f.read()) # Read => Lê todo o arquivo em uma string só"
   ]
  },
  {
   "cell_type": "markdown",
   "metadata": {},
   "source": [
    "Para ler apenas uma linha usamos o **readline()**"
   ]
  },
  {
   "cell_type": "code",
   "execution_count": 21,
   "metadata": {
    "scrolled": true
   },
   "outputs": [
    {
     "data": {
      "text/plain": [
       "'primeira linha\\n'"
      ]
     },
     "execution_count": 21,
     "metadata": {},
     "output_type": "execute_result"
    }
   ],
   "source": [
    "f = open(\"arquivos//arquivo.txt\")\n",
    "f.readline()"
   ]
  },
  {
   "cell_type": "markdown",
   "metadata": {},
   "source": [
    "A cada execução o Python lê a próxima linha, ou seja, 'ignora' a leitura das anteriores.  \n",
    "Em outras palavras ele 'segue a diante'"
   ]
  },
  {
   "cell_type": "code",
   "execution_count": 27,
   "metadata": {},
   "outputs": [
    {
     "data": {
      "text/plain": [
       "''"
      ]
     },
     "execution_count": 27,
     "metadata": {},
     "output_type": "execute_result"
    }
   ],
   "source": [
    "f.readline() "
   ]
  },
  {
   "cell_type": "markdown",
   "metadata": {},
   "source": [
    "Para ler todas as linhas uma por uma e retornar em uma lista usamos o **readlines()**"
   ]
  },
  {
   "cell_type": "code",
   "execution_count": 30,
   "metadata": {},
   "outputs": [
    {
     "name": "stdout",
     "output_type": "stream",
     "text": [
      "['primeira linha\\n', 'segunda linha\\n', 'terceira linha\\n', 'quarta linha\\n', 'quinta linha']\n"
     ]
    }
   ],
   "source": [
    "f = open(\"arquivos//arquivo.txt\")\n",
    "linhas = f.readlines()\n",
    "print(linhas)"
   ]
  },
  {
   "cell_type": "code",
   "execution_count": 31,
   "metadata": {},
   "outputs": [
    {
     "data": {
      "text/plain": [
       "'primeira linha\\n'"
      ]
     },
     "execution_count": 31,
     "metadata": {},
     "output_type": "execute_result"
    }
   ],
   "source": [
    "linhas[0]"
   ]
  },
  {
   "cell_type": "code",
   "execution_count": 33,
   "metadata": {},
   "outputs": [
    {
     "data": {
      "text/plain": [
       "list"
      ]
     },
     "execution_count": 33,
     "metadata": {},
     "output_type": "execute_result"
    }
   ],
   "source": [
    "type(linhas)"
   ]
  },
  {
   "cell_type": "code",
   "execution_count": 35,
   "metadata": {},
   "outputs": [
    {
     "data": {
      "text/plain": [
       "[]"
      ]
     },
     "execution_count": 35,
     "metadata": {},
     "output_type": "execute_result"
    }
   ],
   "source": [
    "linhas = f.readlines()\n",
    "linhas"
   ]
  },
  {
   "cell_type": "markdown",
   "metadata": {},
   "source": [
    "Repare que ao chamarmos pela segunda vez a função retornar uma lista vazia pois ela, na verdade, **retorna as linhas restantes.**  \n",
    "Como, ao abrir o arquivo, restavam todas as linhas então ela retornou todas as linhas.\n",
    "\n",
    "**Confundiu? Veja se este exemplo clareia as coisas.**"
   ]
  },
  {
   "cell_type": "code",
   "execution_count": 42,
   "metadata": {},
   "outputs": [],
   "source": [
    "f = open(\"arquivos//arquivo.txt\")\n",
    "primeira_linha = f.readline() # Leio o inicio do arquivo\n",
    "segunda_linha = f.readline() # Move o cabeçote de leitura para frente indo para o 'novo' (ainda não lido) => Lê 2ª linha\n",
    "proximas_linhas = f.readlines() # Lê as linhas restantes"
   ]
  },
  {
   "cell_type": "code",
   "execution_count": 44,
   "metadata": {},
   "outputs": [
    {
     "name": "stdout",
     "output_type": "stream",
     "text": [
      "Primeira Linha: primeira linha\n",
      "\n",
      "Segunda Linha: segunda linha\n",
      "\n",
      "Próximas Linhas: ['terceira linha\\n', 'quarta linha\\n', 'quinta linha']\n"
     ]
    }
   ],
   "source": [
    "print(\"Primeira Linha:\",primeira_linha)\n",
    "print(\"Segunda Linha:\",segunda_linha)\n",
    "print(\"Próximas Linhas:\",proximas_linhas)"
   ]
  },
  {
   "cell_type": "markdown",
   "metadata": {},
   "source": [
    "Para ler apenas **X** caracteres uso a função **Read()** passando a quantidade por parâmetro"
   ]
  },
  {
   "cell_type": "code",
   "execution_count": 48,
   "metadata": {},
   "outputs": [
    {
     "name": "stdout",
     "output_type": "stream",
     "text": [
      "primeira l\n"
     ]
    }
   ],
   "source": [
    "f = open(\"arquivos//arquivo.txt\")\n",
    "print(f.read(10)) # Passo por parâmetro a quantidade que quero ler"
   ]
  },
  {
   "cell_type": "markdown",
   "metadata": {},
   "source": [
    "Podemos percorrer linha por linha através de um **loop for**"
   ]
  },
  {
   "cell_type": "code",
   "execution_count": 55,
   "metadata": {},
   "outputs": [
    {
     "name": "stdout",
     "output_type": "stream",
     "text": [
      "primeira linha\n",
      "\n",
      "segunda linha\n",
      "\n",
      "terceira linha\n",
      "\n",
      "quarta linha\n",
      "\n",
      "quinta linha\n"
     ]
    }
   ],
   "source": [
    "f = open(\"arquivos//arquivo.txt\")\n",
    "for l in f:\n",
    "    print(l)"
   ]
  },
  {
   "cell_type": "markdown",
   "metadata": {},
   "source": [
    "## Escrevendo em arquivos\n",
    "Lembrete:\n",
    "- 'w' => Write => Escrever a partir do zero => Deleto tudo o que existe\n",
    "- 'a' => Append => Incremento o conteúdo => Adiciono ao que já existe"
   ]
  },
  {
   "cell_type": "code",
   "execution_count": 65,
   "metadata": {},
   "outputs": [],
   "source": [
    "f = open(\"arquivos//arquivo2.txt\", \"w\")\n",
    "f.write(\"Apaguei todo o conteúdo e escrevi este aqui :)\")\n",
    "f.close()"
   ]
  },
  {
   "cell_type": "code",
   "execution_count": 68,
   "metadata": {},
   "outputs": [
    {
     "name": "stdout",
     "output_type": "stream",
     "text": [
      "Apaguei todo o conteúdo e escrevi este aqui :)\n",
      "Estou adicionando também esse conteúdo :)\n"
     ]
    }
   ],
   "source": [
    "f = open(\"arquivos//arquivo2.txt\", \"r\")\n",
    "print(f.read())\n",
    "f.close()"
   ]
  },
  {
   "cell_type": "code",
   "execution_count": 67,
   "metadata": {},
   "outputs": [],
   "source": [
    "f = open(\"arquivos//arquivo2.txt\", \"a\")\n",
    "f.write(\"\\nEstou adicionando também esse conteúdo :)\")\n",
    "f.close()"
   ]
  },
  {
   "cell_type": "code",
   "execution_count": null,
   "metadata": {},
   "outputs": [],
   "source": []
  }
 ],
 "metadata": {
  "kernelspec": {
   "display_name": "Python 3",
   "language": "python",
   "name": "python3"
  },
  "language_info": {
   "codemirror_mode": {
    "name": "ipython",
    "version": 3
   },
   "file_extension": ".py",
   "mimetype": "text/x-python",
   "name": "python",
   "nbconvert_exporter": "python",
   "pygments_lexer": "ipython3",
   "version": "3.7.3"
  }
 },
 "nbformat": 4,
 "nbformat_minor": 2
}
