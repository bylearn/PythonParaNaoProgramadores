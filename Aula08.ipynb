{
 "cells": [
  {
   "cell_type": "markdown",
   "metadata": {},
   "source": [
    "## Orientação a objeto\n",
    "\n",
    "Um objeto em linguagem de programação abstrata representa a posição onde será armazenada. Os objetos em Python apresentam os seguintes atributos:\n",
    "\n",
    "* Tipo: O tipo de um objeto determina os valores que o objeto pode receber e as operações que podem ser executadas nesse objeto.\n",
    "\n",
    "* Valor: O valor de um objeto é o índice de memória ocupada por essa variável. Como os índices das posições da memória são interpretados, isto é determinado pelo tipo da variável.\n",
    "\n",
    "* Tempo de vida: A vida de um objeto é o intervalo de tempo de execução de um programa em Python, é durante este tempo que o objeto existe.\n",
    "\n",
    "Python define uma extensa hierarquia de tipos. Esta hierarquia inclui os tipos numéricos (tais como int, float e complex), seqüências (tais como a tupla e a lista), funções (tipo função), classes e métodos (tipos classobj e instancemethod), e as instâncias da classe (tipo instance). \n",
    "\n",
    "## Classes\n",
    "\n",
    "Uma classe define uma estrutura de dados que contenha instância de atributos, instância de métodos e classes aninhadas. Em Python a classe de um objeto e o tipo de um objeto são sinônimos. Cada objeto do Python tem uma classe (tipo) que é derivada diretamente ou indiretamente da classe interna do objeto do Python. A classe (tipo) de um objeto determina o que é e como pode ser manipulado. Uma classe encapsula dados, operações e semântica.\n",
    "\n",
    "A classe é o que faz com que Python seja uma linguagem de programação orientada a objetos. Classe é definida como um agrupamento de valores sua gama de operações. As classes facilitam a modularidade e abstração de complexidade. O usuário de uma classe manipula objetos instanciados dessa classe somente com os métodos fornecidos por essa classe.\n",
    "\n",
    "Frequentemente classes diferentes possuem características comuns. As classes diferentes podem compartilhar valores comuns e podem executar as mesmas operações. Em Python tais relacionamentos são expressados usando derivação e herança. \n",
    "\n",
    "### Instâncias, Instância de Atributos e Métodos\n",
    "\n",
    "Objetos são instanciados pelas classes. Cada instância (objeto) em uma programa Python tem seu próprio namespace.\n",
    "\n",
    "Um classe criada é chamada de classe objeto (tipo classobj). Os nomes no namespace da classe objeto são chamados de atributos da classe. Funções definidas dentro de uma classe são chamadas de métodos.\n",
    "\n",
    "Quando um objeto é criado, o namespace herda todos os nomes do namespace da classe onde o objeto está. O nome em um namespace de instância é chamado de atributo de instância.\n",
    "\n",
    "Um método é uma função criada na definição de uma classe. O primeiro argumento do método é sempre referenciado no início do processo. Por convenção, o primeiro argumento do método tem sempre o nome self. Portanto, os atributos de self são atributos de instância da classe. "
   ]
  },
  {
   "cell_type": "code",
   "execution_count": 2,
   "metadata": {},
   "outputs": [],
   "source": [
    "class Carro(object):\n",
    "    pass\n",
    "\n",
    "fusca = Carro()"
   ]
  },
  {
   "cell_type": "markdown",
   "metadata": {},
   "source": [
    "### Instâncias Abertas\n",
    "\n",
    "    Instâncias podem receber atributos (propriedades) dinamicamente, por isso às vezes é útil criar classes vazias. (Luciano Ramalho)\n",
    "\n",
    "Em outras palavras, podemos definir as propriedades dinamicamente"
   ]
  },
  {
   "cell_type": "code",
   "execution_count": 3,
   "metadata": {},
   "outputs": [
    {
     "name": "stdout",
     "output_type": "stream",
     "text": [
      "novo\n"
     ]
    }
   ],
   "source": [
    "fusca = Carro()\n",
    "fusca.estado = \"novo\"\n",
    "print(fusca.estado) # novo"
   ]
  },
  {
   "cell_type": "markdown",
   "metadata": {},
   "source": [
    "### Atributos da classe\n",
    "\n",
    "Podemos definir a propriedade (o atributo) na classe."
   ]
  },
  {
   "cell_type": "code",
   "execution_count": null,
   "metadata": {},
   "outputs": [],
   "source": [
    "class Carro(object):\n",
    "    estado = \"novo\"\n",
    "print(Carro.estado) # 'novo'"
   ]
  },
  {
   "cell_type": "markdown",
   "metadata": {},
   "source": [
    "Note bem o código acima, reparou que não precisamos instanciar a classe ? Simplesmente acessamos o atributo (que; é da classe) diretamente Carro.estado.\n",
    "\n",
    "Por outro lado, repare que a propriedade também se encontra disponível nas instâncias."
   ]
  },
  {
   "cell_type": "code",
   "execution_count": null,
   "metadata": {},
   "outputs": [],
   "source": [
    "c = Carro()\n",
    "print(c.estado) # novo"
   ]
  },
  {
   "cell_type": "markdown",
   "metadata": {},
   "source": [
    "Em Python precisamos atentar que \"as coisas\" ou são da classe ou são da instância.\n",
    "self explícito\n",
    "\n",
    "Esta é uma peculiaridade da linguagem.\n",
    "\n",
    "Fazemos referência a classe através da palavra self e todo método deve aceitar como (primeiro) parâmetro a palavra self que se refere ao próprio objeto."
   ]
  },
  {
   "cell_type": "code",
   "execution_count": null,
   "metadata": {},
   "outputs": [],
   "source": [
    "class Carro(object):\n",
    "    def dirigir(self):\n",
    "        self.estado = \"usado\"\n",
    "\n",
    "c = Carro()\n",
    "print(c.estado) # AttributeError: 'Carro' object has no attribute 'estado'\n",
    "c.dirigir()\n",
    "print(c.estado) # 'usado'"
   ]
  },
  {
   "cell_type": "markdown",
   "metadata": {},
   "source": [
    "Podemos alterar as propriedades através dos métodos."
   ]
  },
  {
   "cell_type": "code",
   "execution_count": 4,
   "metadata": {},
   "outputs": [
    {
     "name": "stdout",
     "output_type": "stream",
     "text": [
      "usado\n",
      "novo\n"
     ]
    }
   ],
   "source": [
    "class Carro(object):\n",
    "    estado = \"novo\"\n",
    "    def dirigir(self):\n",
    "        self.estado = \"usado\"\n",
    "\n",
    "#\n",
    "# 1 exemplo\n",
    "#\n",
    "porsche = Carro()\n",
    "porsche.dirigir()\n",
    "print(porsche.estado) # usado\n",
    "\n",
    "#\n",
    "# 2 exemplo\n",
    "#\n",
    "ferrari = Carro()\n",
    "print(ferrari.estado) # novo"
   ]
  },
  {
   "cell_type": "markdown",
   "metadata": {},
   "source": [
    "### Método construtor __init__\n",
    "\n",
    "Abaixo, criamos a classe Carro com um método construtor __init__. Neste exemplo, somos obrigados a instanciar a classe passando exatamente um parâmetro, nem mais nem menos."
   ]
  },
  {
   "cell_type": "code",
   "execution_count": null,
   "metadata": {},
   "outputs": [],
   "source": [
    "class Carro(object):\n",
    "    def __init__(self, estado):\n",
    "        self.estado = estado\n",
    "\n",
    "bmw = Carro('semi-novo')\n",
    "print(bmw.estado) # 'semi-novo'\n",
    "\n",
    "# Herança\n",
    "\n",
    "class Veiculo(object):\n",
    "    estado = \"novo\"\n",
    "\n",
    "class Carro(Veiculo):\n",
    "    pass\n",
    "\n",
    "bmw = Carro()\n",
    "print(bmw.estado) # 'novo'"
   ]
  }
 ],
 "metadata": {
  "kernelspec": {
   "display_name": "Python 3",
   "language": "python",
   "name": "python3"
  },
  "language_info": {
   "codemirror_mode": {
    "name": "ipython",
    "version": 3
   },
   "file_extension": ".py",
   "mimetype": "text/x-python",
   "name": "python",
   "nbconvert_exporter": "python",
   "pygments_lexer": "ipython3",
   "version": "3.7.4"
  }
 },
 "nbformat": 4,
 "nbformat_minor": 2
}
