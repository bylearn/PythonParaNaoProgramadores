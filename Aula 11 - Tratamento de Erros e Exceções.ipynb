{
 "cells": [
  {
   "cell_type": "markdown",
   "metadata": {},
   "source": [
    "# Tratamento de Erros e Exceções\n",
    "Segundo a documentação do Python há pelo menos dois tipos distintos de erros: erros de sintaxe e exceções.\n",
    "\n",
    "Os erros de sintaxe apontam para a linha de nosso script e, normalmente são fáceis de se corrigir, veja um exemplo abaixo. Neste erro eu esqueço de iniciar a string com o sinal de aspas \"."
   ]
  },
  {
   "cell_type": "code",
   "execution_count": 17,
   "metadata": {},
   "outputs": [
    {
     "ename": "SyntaxError",
     "evalue": "invalid syntax (<ipython-input-17-a611b03e9f14>, line 2)",
     "output_type": "error",
     "traceback": [
      "\u001b[1;36m  File \u001b[1;32m\"<ipython-input-17-a611b03e9f14>\"\u001b[1;36m, line \u001b[1;32m2\u001b[0m\n\u001b[1;33m    print(Esqueci o sinal de aspas\")\u001b[0m\n\u001b[1;37m                  ^\u001b[0m\n\u001b[1;31mSyntaxError\u001b[0m\u001b[1;31m:\u001b[0m invalid syntax\n"
     ]
    }
   ],
   "source": [
    "# Erro -> Ocasionado pelo programador -> Código não compila por erro nosso na hora de programar\n",
    "print(Esqueci o sinal de aspas\")"
   ]
  },
  {
   "cell_type": "markdown",
   "metadata": {},
   "source": [
    "Por outro lado, mesmo que seu código esteja sintaticamente correto, é possível ocorrer um erro em tempo de execução. Também denominadas simplesmente por exceções.\n",
    "\n",
    "O tratamento dessas exceções devem nos auxiliar a entender e depurar o código.\n",
    "\n",
    "Veja abaixo um exemplo de exceção não tratada."
   ]
  },
  {
   "cell_type": "code",
   "execution_count": 16,
   "metadata": {},
   "outputs": [
    {
     "ename": "ZeroDivisionError",
     "evalue": "division by zero",
     "output_type": "error",
     "traceback": [
      "\u001b[1;31m---------------------------------------------------------------------------\u001b[0m",
      "\u001b[1;31mZeroDivisionError\u001b[0m                         Traceback (most recent call last)",
      "\u001b[1;32m<ipython-input-16-e461342a3391>\u001b[0m in \u001b[0;36m<module>\u001b[1;34m\u001b[0m\n\u001b[0;32m      6\u001b[0m     \u001b[1;32mreturn\u001b[0m \u001b[0mnumero1\u001b[0m \u001b[1;33m/\u001b[0m \u001b[0mnumero2\u001b[0m\u001b[1;33m\u001b[0m\u001b[1;33m\u001b[0m\u001b[0m\n\u001b[0;32m      7\u001b[0m \u001b[1;33m\u001b[0m\u001b[0m\n\u001b[1;32m----> 8\u001b[1;33m \u001b[0mdivisao\u001b[0m\u001b[1;33m(\u001b[0m\u001b[1;33m)\u001b[0m\u001b[1;33m\u001b[0m\u001b[1;33m\u001b[0m\u001b[0m\n\u001b[0m",
      "\u001b[1;32m<ipython-input-16-e461342a3391>\u001b[0m in \u001b[0;36mdivisao\u001b[1;34m()\u001b[0m\n\u001b[0;32m      4\u001b[0m \u001b[1;33m\u001b[0m\u001b[0m\n\u001b[0;32m      5\u001b[0m \u001b[1;32mdef\u001b[0m \u001b[0mdivisao\u001b[0m\u001b[1;33m(\u001b[0m\u001b[1;33m)\u001b[0m\u001b[1;33m:\u001b[0m\u001b[1;33m\u001b[0m\u001b[1;33m\u001b[0m\u001b[0m\n\u001b[1;32m----> 6\u001b[1;33m     \u001b[1;32mreturn\u001b[0m \u001b[0mnumero1\u001b[0m \u001b[1;33m/\u001b[0m \u001b[0mnumero2\u001b[0m\u001b[1;33m\u001b[0m\u001b[1;33m\u001b[0m\u001b[0m\n\u001b[0m\u001b[0;32m      7\u001b[0m \u001b[1;33m\u001b[0m\u001b[0m\n\u001b[0;32m      8\u001b[0m \u001b[0mdivisao\u001b[0m\u001b[1;33m(\u001b[0m\u001b[1;33m)\u001b[0m\u001b[1;33m\u001b[0m\u001b[1;33m\u001b[0m\u001b[0m\n",
      "\u001b[1;31mZeroDivisionError\u001b[0m: division by zero"
     ]
    }
   ],
   "source": [
    "# Exceção -> \"Não dava\" para prever -> Foi algo acidental -> Foi algo intencional -> Sintaxe \"Correta\"\n",
    "numero1 = 1 # Input\n",
    "numero2 = 0 # Input\n",
    "\n",
    "def divisao():\n",
    "    return numero1 / numero2\n",
    "\n",
    "divisao()"
   ]
  },
  {
   "cell_type": "markdown",
   "metadata": {},
   "source": [
    "Para evitar exceções nós podemos realizar tratamentos prévios.  \n",
    "  \n",
    "Sendo assim, tentamos prever o erro e evitar que ele ocorra ou ao menos avisar ao usuário sobre o erro.  "
   ]
  },
  {
   "cell_type": "markdown",
   "metadata": {},
   "source": [
    "Para isso usaremos **try** e **except**, onde:  \n",
    "**try:** tentar executar uma ação  \n",
    "**except:** caso der erro, entra no except  "
   ]
  },
  {
   "cell_type": "code",
   "execution_count": 21,
   "metadata": {},
   "outputs": [
    {
     "name": "stdout",
     "output_type": "stream",
     "text": [
      "Por favor, não divida por zero!\n"
     ]
    }
   ],
   "source": [
    "try: # Tentar\n",
    "    print(1/0)\n",
    "except ZeroDivisionError: # Deu erro -> Deu ruim!\n",
    "    print(\"Por favor, não divida por zero!\")"
   ]
  },
  {
   "cell_type": "markdown",
   "metadata": {},
   "source": [
    "Para executar apenas se não der erro podemos colocar o bloco **else**.  \n",
    "**Else** só entrará caso não entrar no **except**."
   ]
  },
  {
   "cell_type": "code",
   "execution_count": 35,
   "metadata": {},
   "outputs": [
    {
     "name": "stdout",
     "output_type": "stream",
     "text": [
      "Número: \n",
      "Coloque apenas números inteiros\n"
     ]
    }
   ],
   "source": [
    "try:\n",
    "    n = int(input(\"Número: \")) # Tento isso\n",
    "except ValueError:\n",
    "    print(\"Coloque apenas números inteiros\") # Se der erro, eu mostro isso\n",
    "else:\n",
    "    print(n) # Por fim, se não der erro eu faço isso"
   ]
  },
  {
   "cell_type": "markdown",
   "metadata": {},
   "source": [
    "**Podemos tratar mais de uma exceção ao mesmo tempo**"
   ]
  },
  {
   "cell_type": "code",
   "execution_count": 41,
   "metadata": {},
   "outputs": [
    {
     "name": "stdout",
     "output_type": "stream",
     "text": [
      "Numero: 1\n",
      "Numero: a\n",
      "Insira apenas números inteiros\n"
     ]
    }
   ],
   "source": [
    "try:\n",
    "    n = int(input(\"Numero: \"))\n",
    "    m = int(input(\"Numero: \"))\n",
    "    x = n / m\n",
    "except ZeroDivisionError:\n",
    "    print(\"Não divida por zero\")\n",
    "except ValueError:\n",
    "    print(\"Insira apenas números inteiros\")"
   ]
  },
  {
   "cell_type": "code",
   "execution_count": 43,
   "metadata": {},
   "outputs": [
    {
     "name": "stdout",
     "output_type": "stream",
     "text": [
      "Numero: 1\n",
      "Numero: a\n",
      "Erro: Coloque números inteiros diferentes de zero!\n"
     ]
    }
   ],
   "source": [
    "try:\n",
    "    n = int(input(\"Numero: \"))\n",
    "    m = int(input(\"Numero: \"))\n",
    "    x = n / m\n",
    "except (ZeroDivisionError,ValueError):\n",
    "    print(\"Erro: Coloque números inteiros diferentes de zero!\")\n"
   ]
  },
  {
   "cell_type": "markdown",
   "metadata": {},
   "source": [
    "O **finally** sempre executa no final do tratamento, tenha ele entrado no except ou não"
   ]
  },
  {
   "cell_type": "code",
   "execution_count": 52,
   "metadata": {},
   "outputs": [
    {
     "name": "stdout",
     "output_type": "stream",
     "text": [
      "Numero: 1\n",
      "Numero: 1\n",
      "O valor de X é 1.0\n",
      "Eu não tive erro dividindo\n",
      "Finalmente eu terminei essa execução\n"
     ]
    }
   ],
   "source": [
    "try:\n",
    "    n = int(input(\"Numero: \"))\n",
    "    m = int(input(\"Numero: \"))\n",
    "    x = n / m\n",
    "except (ZeroDivisionError,ValueError):\n",
    "    print(\"Erro: Coloque números inteiros diferentes de zero!\")\n",
    "else:\n",
    "    print(\"O valor de X é\",x)\n",
    "    print(\"Eu não tive erro dividindo\")\n",
    "finally:\n",
    "    print(\"Finalmente eu terminei essa execução\")"
   ]
  },
  {
   "cell_type": "markdown",
   "metadata": {},
   "source": [
    "## Desafios do Try/Except\n",
    "### Desafio de arrumar a calculadora"
   ]
  },
  {
   "cell_type": "code",
   "execution_count": 57,
   "metadata": {},
   "outputs": [],
   "source": [
    "class Calculadora(object):\n",
    "    def soma(self,primeiro_valor,segundo_valor):\n",
    "        return primeiro_valor + segundo_valor;\n",
    "    \n",
    "    def subtracao(self,primeiro_valor,segundo_valor):\n",
    "        return primeiro_valor - segundo_valor\n",
    "    \n",
    "    def divisao(self,primeiro_valor,segundo_valor):\n",
    "        try:\n",
    "            return primeiro_valor / segundo_valor\n",
    "        except ZeroDivisionError:\n",
    "            print(\"Você não pode dividir por zero.\")\n",
    "    \n",
    "    def multiplicacao(self,primeiro_valor,segundo_valor):\n",
    "        return primeiro_valor * segundo_valor\n",
    "    "
   ]
  },
  {
   "cell_type": "code",
   "execution_count": 61,
   "metadata": {},
   "outputs": [
    {
     "data": {
      "text/plain": [
       "2.0"
      ]
     },
     "execution_count": 61,
     "metadata": {},
     "output_type": "execute_result"
    }
   ],
   "source": [
    "calc = Calculadora()\n",
    "calc.divisao(2,1)"
   ]
  },
  {
   "cell_type": "markdown",
   "metadata": {},
   "source": [
    "### Desafio de arrumar a classe Alunos"
   ]
  },
  {
   "cell_type": "code",
   "execution_count": 88,
   "metadata": {},
   "outputs": [],
   "source": [
    "class Aluno(object):\n",
    "    def __init__(self, nome):\n",
    "        self.nome = nome\n",
    "        \n",
    "    def inserir_notas(self,nota1,nota2):\n",
    "        try:\n",
    "            self.nota1 = float(nota1)\n",
    "            self.nota2 = float(nota2)\n",
    "        except ValueError:\n",
    "            print(\"As notas devem ser números reais\")\n",
    "        \n",
    "    def calcular_media(self):\n",
    "        try:\n",
    "            return (self.nota1 + self.nota2) / 2\n",
    "        except AttributeError:\n",
    "            print(\"Não é possível calcular a média até que tenha inserido todas as notas\")\n",
    "    \n",
    "    def mostrar_informacoes(self):\n",
    "        try:\n",
    "            if(self.calcular_media() >= 6):\n",
    "                print(f\"O aluno {self.nome} foi aprovado\")\n",
    "            else:\n",
    "                print(f\"O aluno {self.nome} não foi aprovado\")\n",
    "        except TypeError:\n",
    "            print(\"Não é possível mostrar informações até que tenha calculado a média\")"
   ]
  },
  {
   "cell_type": "code",
   "execution_count": 91,
   "metadata": {},
   "outputs": [
    {
     "name": "stdout",
     "output_type": "stream",
     "text": [
      "O aluno Felipe foi aprovado\n"
     ]
    }
   ],
   "source": [
    "felipe = Aluno('Felipe')\n",
    "felipe.inserir_notas(10,9.5)\n",
    "felipe.mostrar_informacoes()"
   ]
  },
  {
   "cell_type": "code",
   "execution_count": null,
   "metadata": {},
   "outputs": [],
   "source": []
  }
 ],
 "metadata": {
  "kernelspec": {
   "display_name": "Python 3",
   "language": "python",
   "name": "python3"
  },
  "language_info": {
   "codemirror_mode": {
    "name": "ipython",
    "version": 3
   },
   "file_extension": ".py",
   "mimetype": "text/x-python",
   "name": "python",
   "nbconvert_exporter": "python",
   "pygments_lexer": "ipython3",
   "version": "3.7.3"
  }
 },
 "nbformat": 4,
 "nbformat_minor": 2
}
