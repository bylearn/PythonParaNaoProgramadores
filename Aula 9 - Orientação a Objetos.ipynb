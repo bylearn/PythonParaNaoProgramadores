{
 "cells": [
  {
   "cell_type": "markdown",
   "metadata": {},
   "source": [
    "# Orientação a Objetos"
   ]
  },
  {
   "cell_type": "markdown",
   "metadata": {},
   "source": [
    "## Classes\n",
    "Uma classe define uma estrutura de dados que conheta instâncias de atributos, instâncias de métodos e classes aninhadas.  \n",
    "Classes são estruturas de dados que possuem Atributos e Métodos para virem a serem implementadas por futuros objetos.  \n",
    "Classes, então, são representações computacionais de algo que queremos introduzir no nosso código.  "
   ]
  },
  {
   "cell_type": "code",
   "execution_count": 1,
   "metadata": {},
   "outputs": [],
   "source": [
    "# Classes -> Representação\n",
    " # Atributos -> Variáveis\n",
    " # Métodos -> Funções"
   ]
  },
  {
   "cell_type": "code",
   "execution_count": 10,
   "metadata": {},
   "outputs": [],
   "source": [
    "# Classe Carro:\n",
    "    # Modelo\n",
    "    # Ano\n",
    "    # Estado\n",
    "    \n",
    "    # liga_desliga()\n",
    "    # acelerar()\n",
    "    # test_drive()\n",
    "    # comprar()\n",
    "  \n",
    "    \n",
    "# Modelo, Ano e Estado => São Atributos\n",
    "# Ligar e Desligar, Acelerar, Fazer Test Drive e Comprar => São Métodos"
   ]
  },
  {
   "cell_type": "markdown",
   "metadata": {},
   "source": [
    "## Objetos\n",
    "Um objeto em linguagem de programação representa a posição onde será armazenada uma instancia daquela classe.  \n",
    "Objetos são instâncias (versões/criações/representação) da classe (o que o objeto tenta representar). \n",
    "Todo objeto possui um tipo.  "
   ]
  },
  {
   "cell_type": "code",
   "execution_count": 13,
   "metadata": {},
   "outputs": [],
   "source": [
    "# carro_ferrari \n",
    "   # Modelo  -> Ferrari\n",
    "   # Ano     -> 2019\n",
    "   # Estado  -> Novo\n",
    "    \n",
    "   # liga_desliga() -> Método para ligar e desligar o carro\n",
    "   # acelerar() -> Método para acelerar\n",
    "   # test_drive() -> Método para testar o carro\n",
    "   # comprar() -> Método para comprar o carro\n",
    "    \n",
    "# carro_bmw\n",
    "   # Modelo -> BMW\n",
    "   # Ano    -> 2016\n",
    "   # Estado -> Semi-Novo\n",
    "    \n",
    "   # liga_desliga() -> Método para ligar e desligar o carro\n",
    "   # acelerar() -> Método para acelerar\n",
    "   # test_drive() -> Método para testar o carro\n",
    "   # comprar() -> Método para comprar o carro"
   ]
  },
  {
   "cell_type": "markdown",
   "metadata": {},
   "source": [
    "## Resumindo"
   ]
  },
  {
   "cell_type": "code",
   "execution_count": 17,
   "metadata": {},
   "outputs": [],
   "source": [
    "# Classe = Carro\n",
    "  # Atributos = Modelo , Ano e Estado\n",
    "  # Métodos = liga_desliga() , acelerar(), test_drive() e comprar()\n",
    "\n",
    "# Objeto = Instancias da Classe (representações/variaveis da classe) => Variável do tipo carro"
   ]
  },
  {
   "cell_type": "code",
   "execution_count": 18,
   "metadata": {},
   "outputs": [],
   "source": [
    "# Classes são representações computacionais de algo que queremos vir a utilizar no decorrer do nosso código. \n",
    "# Onde representamos os atributos e métodos de acordo com a nossa necessidade.\n",
    "\n",
    "# Já os objetos são as nossas variaveis desse tipo de classe."
   ]
  },
  {
   "cell_type": "markdown",
   "metadata": {},
   "source": [
    "## Exemplificando"
   ]
  },
  {
   "cell_type": "code",
   "execution_count": 21,
   "metadata": {},
   "outputs": [
    {
     "name": "stdout",
     "output_type": "stream",
     "text": [
      "O valor do estado do fusca é novo\n",
      "O valor do estado da ferrari é usado\n",
      "O tipo do fusca é <class '__main__.Carro'>\n",
      "O tipo da ferrari é <class '__main__.Carro'>\n",
      "O tipo do atributo 'estado' do fusca é <class 'str'>\n",
      "O tipo do atributo 'estado' da ferrari é <class 'str'>\n"
     ]
    }
   ],
   "source": [
    "class Carro(object):\n",
    "    estado = 'novo'\n",
    "    \n",
    "fusca = Carro() # Objeto\n",
    "fusca.estado = 'novo' # Atributo\n",
    "\n",
    "ferrari = Carro() # Objeto\n",
    "ferrari.estado = 'usado' # Atributo\n",
    "\n",
    "print('O valor do estado do fusca é',fusca.estado) # Valor do Atributo\n",
    "print('O valor do estado da ferrari é',ferrari.estado) # Valor do Atributo\n",
    "print('O tipo do fusca é',type(fusca)) # Tipo do Objeto\n",
    "print('O tipo da ferrari é',type(ferrari)) # Tipo do Objeto\n",
    "print('O tipo do atributo \\'estado\\' do fusca é',type(fusca.estado)) # Tipo do Atributo\n",
    "print('O tipo do atributo \\'estado\\' da ferrari é',type(ferrari.estado)) # Tipo do Atributo"
   ]
  },
  {
   "cell_type": "markdown",
   "metadata": {},
   "source": [
    "# Vamos deixar mais formal?\n",
    "## Orientação a objeto\n",
    "\n",
    "Um objeto em linguagem de programação abstrata representa a posição onde será armazenada uma instancia (versão) daquela classe (o que o objeto representa). Os objetos em Python apresentam os seguintes atributos:\n",
    "\n",
    "* Tipo: O tipo de um objeto determina os valores que o objeto pode receber e as operações que podem ser executadas nesse objeto.\n",
    "\n",
    "* Valor: O valor de um objeto é o índice de memória ocupada por essa variável. Como os índices das posições da memória são interpretados, isto é determinado pelo tipo da variável.\n",
    "\n",
    "* Tempo de vida: A vida de um objeto é o intervalo de tempo de execução de um programa em Python, é durante este tempo que o objeto existe.\n",
    "\n",
    "Python define uma extensa hierarquia de tipos. Esta hierarquia inclui os tipos numéricos (tais como int, float e complex), seqüências (tais como a tupla e a lista), funções (tipo função), classes e métodos (tipos classobj e instancemethod), e as instâncias da classe (tipo instance). \n",
    "\n",
    "## Classes\n",
    "\n",
    "Uma classe define uma estrutura de dados que contenha instância de atributos, instância de métodos e classes aninhadas. Em Python a classe de um objeto e o tipo de um objeto são sinônimos. Cada objeto do Python tem uma classe (tipo) que é derivada diretamente ou indiretamente da classe interna do objeto do Python. A classe (tipo) de um objeto determina o que é e como pode ser manipulado. Uma classe encapsula dados, operações e semântica.\n",
    "\n",
    "A classe é o que faz com que Python seja uma linguagem de programação orientada a objetos. Classe é definida como um agrupamento de valores sua gama de operações. As classes facilitam a modularidade e abstração de complexidade. O usuário de uma classe manipula objetos instanciados dessa classe somente com os métodos fornecidos por essa classe.\n",
    "\n",
    "Frequentemente classes diferentes possuem características comuns. As classes diferentes podem compartilhar valores comuns e podem executar as mesmas operações. Em Python tais relacionamentos são expressados usando derivação e herança. \n",
    "\n",
    "### Instâncias, Instância de Atributos e Métodos\n",
    "\n",
    "Objetos são instanciados pelas classes. Cada instância (objeto) em uma programa Python tem seu próprio namespace.\n",
    "\n",
    "Um classe criada é chamada de classe objeto (tipo classobj). Os nomes no namespace da classe objeto são chamados de atributos da classe. Funções definidas dentro de uma classe são chamadas de métodos.\n",
    "\n",
    "Quando um objeto é criado, o namespace herda todos os nomes do namespace da classe onde o objeto está. O nome em um namespace de instância é chamado de atributo de instância.\n",
    "\n",
    "Um método é uma função criada na definição de uma classe. O primeiro argumento do método é sempre referenciado no início do processo. Por convenção, o primeiro argumento do método tem sempre o nome self. Portanto, os atributos de self são atributos de instância da classe. "
   ]
  },
  {
   "cell_type": "markdown",
   "metadata": {},
   "source": [
    "# Pronto! Agora vamos voltar ao informal :)"
   ]
  },
  {
   "cell_type": "markdown",
   "metadata": {},
   "source": [
    "## Instâncias Abertas\n",
    "Nem sempre precisamos definir tudo direto na classe.  \n",
    "Uma classe pode ter suas propriedades definidas diretamente nos objetos.  \n",
    "Dessa forma, os atributos são inseridos dinamicamente nos objetos.  "
   ]
  },
  {
   "cell_type": "code",
   "execution_count": 23,
   "metadata": {},
   "outputs": [],
   "source": [
    "class Carro(object):\n",
    "    pass"
   ]
  },
  {
   "cell_type": "code",
   "execution_count": 24,
   "metadata": {},
   "outputs": [
    {
     "data": {
      "text/plain": [
       "__main__.Carro"
      ]
     },
     "execution_count": 24,
     "metadata": {},
     "output_type": "execute_result"
    }
   ],
   "source": [
    "carro = Carro()\n",
    "type(carro)"
   ]
  },
  {
   "cell_type": "code",
   "execution_count": 31,
   "metadata": {},
   "outputs": [
    {
     "name": "stdout",
     "output_type": "stream",
     "text": [
      "novo\n",
      "12\n"
     ]
    }
   ],
   "source": [
    "fusca = Carro()\n",
    "fusca.estado = 'novo' # Atributo da Instância\n",
    "fusca.multas = 12 # Atributo da Instância\n",
    "print(fusca.estado)\n",
    "print(fusca.multas)"
   ]
  },
  {
   "cell_type": "code",
   "execution_count": 30,
   "metadata": {},
   "outputs": [
    {
     "ename": "AttributeError",
     "evalue": "'Carro' object has no attribute 'estado'",
     "output_type": "error",
     "traceback": [
      "\u001b[1;31m---------------------------------------------------------------------------\u001b[0m",
      "\u001b[1;31mAttributeError\u001b[0m                            Traceback (most recent call last)",
      "\u001b[1;32m<ipython-input-30-174cd454ec46>\u001b[0m in \u001b[0;36m<module>\u001b[1;34m\u001b[0m\n\u001b[0;32m      1\u001b[0m \u001b[0mferrari\u001b[0m \u001b[1;33m=\u001b[0m \u001b[0mCarro\u001b[0m\u001b[1;33m(\u001b[0m\u001b[1;33m)\u001b[0m\u001b[1;33m\u001b[0m\u001b[1;33m\u001b[0m\u001b[0m\n\u001b[1;32m----> 2\u001b[1;33m \u001b[0mprint\u001b[0m\u001b[1;33m(\u001b[0m\u001b[0mferrari\u001b[0m\u001b[1;33m.\u001b[0m\u001b[0mestado\u001b[0m\u001b[1;33m)\u001b[0m \u001b[1;31m# Lembrete que o Carro não possui por padrão essa propriedade, então não podemos acessar a menos que criemos essa propriedade\u001b[0m\u001b[1;33m\u001b[0m\u001b[1;33m\u001b[0m\u001b[0m\n\u001b[0m",
      "\u001b[1;31mAttributeError\u001b[0m: 'Carro' object has no attribute 'estado'"
     ]
    }
   ],
   "source": [
    "ferrari = Carro()\n",
    "print(ferrari.estado) # Lembrete que o Carro não possui por padrão essa propriedade, \n",
    "                      #  então não podemos acessar a menos que criemos essa propriedade"
   ]
  },
  {
   "cell_type": "markdown",
   "metadata": {},
   "source": [
    "## Atributos de Classe\n",
    "É um atributo que fica diretamente na classe.  \n",
    "Sendo assim, todos os objetos dessa classe terão essa propriedade (atributo).  "
   ]
  },
  {
   "cell_type": "code",
   "execution_count": 34,
   "metadata": {},
   "outputs": [
    {
     "name": "stdout",
     "output_type": "stream",
     "text": [
      "novo\n"
     ]
    }
   ],
   "source": [
    "class Carro(object):\n",
    "    estado = 'novo'\n",
    "    \n",
    "print(Carro.estado) # Atributos de classe podem ser acessados diretamente com a classe (sem precisar de objetos)"
   ]
  },
  {
   "cell_type": "markdown",
   "metadata": {},
   "source": [
    "Note bem o código acima, reparou que não precisamos instanciar a classe ?  \n",
    "Simplesmente acessamos o atributo (que é da classe) diretamente Carro.estado.\n",
    "\n",
    "Por outro lado, repare que a propriedade também se encontra disponível nas instâncias."
   ]
  },
  {
   "cell_type": "code",
   "execution_count": 41,
   "metadata": {},
   "outputs": [
    {
     "name": "stdout",
     "output_type": "stream",
     "text": [
      "novo\n",
      "novo\n",
      "novo\n"
     ]
    }
   ],
   "source": [
    "fusca = Carro()\n",
    "bmw = Carro()\n",
    "ferrari = Carro()\n",
    "\n",
    "print(fusca.estado)\n",
    "print(bmw.estado)\n",
    "print(ferrari.estado)"
   ]
  },
  {
   "cell_type": "code",
   "execution_count": 42,
   "metadata": {},
   "outputs": [
    {
     "name": "stdout",
     "output_type": "stream",
     "text": [
      "usado\n",
      "semi-novo\n",
      "novo\n",
      "novo\n"
     ]
    }
   ],
   "source": [
    "fusca.estado = 'usado'\n",
    "bmw.estado = 'semi-novo'\n",
    "\n",
    "print(fusca.estado)\n",
    "print(bmw.estado)\n",
    "print(ferrari.estado)\n",
    "print(Carro.estado)"
   ]
  },
  {
   "cell_type": "markdown",
   "metadata": {},
   "source": [
    "Em Python precisamos atentar que \"as coisas\" ou são da classe ou são da instância."
   ]
  },
  {
   "cell_type": "markdown",
   "metadata": {},
   "source": [
    "## Self\n",
    "Para editarmos uma propriedade apenas do objeto que chama um método usamos a palavra reservada 'self'. \n",
    "\n",
    "Portanto todo método deve o parâmetro 'self' e esse ser o primeiro"
   ]
  },
  {
   "cell_type": "code",
   "execution_count": 45,
   "metadata": {},
   "outputs": [
    {
     "name": "stdout",
     "output_type": "stream",
     "text": [
      "usado\n",
      "novo\n"
     ]
    }
   ],
   "source": [
    "class Carro(object):\n",
    "    estado = 'novo'\n",
    "    \n",
    "    def dirigir(self):\n",
    "        self.estado = 'usado' # Modifica apenas no objeto que chamar o método\n",
    "\n",
    "# Exemplo 1\n",
    "bmw = Carro() # Criou com o estado novo\n",
    "bmw.dirigir() # Modifiquei o estado para usado\n",
    "print(bmw.estado) # Passa a ser usado\n",
    "\n",
    "# Exemplo\n",
    "ferrari = Carro() # Criou com o estado novo\n",
    "print(ferrari.estado) # Continua como novo"
   ]
  },
  {
   "cell_type": "markdown",
   "metadata": {},
   "source": [
    "**Caso não utilizarmos o self... Coisas diferentes do que esperamos podem acontecer**"
   ]
  },
  {
   "cell_type": "code",
   "execution_count": 46,
   "metadata": {},
   "outputs": [
    {
     "name": "stdout",
     "output_type": "stream",
     "text": [
      "novo\n",
      "novo\n"
     ]
    }
   ],
   "source": [
    "class Carro(object):\n",
    "    estado = 'novo'\n",
    "    \n",
    "    def dirigir(self):\n",
    "        estado = 'usado' # Modifica apenas no objeto que chamar o método\n",
    "\n",
    "# Exemplo 1\n",
    "bmw = Carro() # Criou com o estado novo\n",
    "bmw.dirigir() # Modifiquei o estado para usado\n",
    "print(bmw.estado) # Passa a ser usado\n",
    "\n",
    "# Exemplo\n",
    "ferrari = Carro() # Criou com o estado novo\n",
    "print(ferrari.estado) # Continua como novo"
   ]
  },
  {
   "cell_type": "code",
   "execution_count": 47,
   "metadata": {},
   "outputs": [
    {
     "name": "stdout",
     "output_type": "stream",
     "text": [
      "usado\n",
      "usado\n"
     ]
    }
   ],
   "source": [
    "class Carro(object):\n",
    "    estado = 'usado'\n",
    "    \n",
    "    def dirigir(self):\n",
    "        Carro.estado = 'usado' # Modifica apenas no objeto que chamar o método\n",
    "\n",
    "# Exemplo 1\n",
    "bmw = Carro() # Criou com o estado novo\n",
    "bmw.dirigir() # Modifiquei o estado para usado\n",
    "print(bmw.estado) # Passa a ser usado\n",
    "\n",
    "# Exemplo\n",
    "ferrari = Carro() # Criou com o estado novo\n",
    "print(ferrari.estado) # Continua como novo"
   ]
  },
  {
   "cell_type": "markdown",
   "metadata": {},
   "source": [
    "## Diferenciando atributos da classe com atribudos da instância"
   ]
  },
  {
   "cell_type": "code",
   "execution_count": 49,
   "metadata": {},
   "outputs": [
    {
     "name": "stdout",
     "output_type": "stream",
     "text": [
      "1: novo\n",
      "1: semi-novo\n",
      "2: novo\n",
      "Carro: novo\n",
      "Carro: quebrado\n",
      "1: semi-novo\n",
      "2: quebrado\n",
      "3: quebrado\n"
     ]
    }
   ],
   "source": [
    "class Carro(object):\n",
    "    estado = 'novo'\n",
    "    \n",
    "carro1 = Carro()\n",
    "print('1:',carro1.estado)\n",
    "carro1.estado = 'semi-novo' # Neste momento criamos um atributo de INSTÂNCIA\n",
    "\n",
    "carro2 = Carro()\n",
    "\n",
    "print('1:',carro1.estado)\n",
    "print('2:',carro2.estado)\n",
    "\n",
    "print('Carro:',Carro.estado)\n",
    "Carro.estado = 'quebrado'\n",
    "print('Carro:',Carro.estado)\n",
    "\n",
    "carro3 = Carro()\n",
    "\n",
    "print('1:',carro1.estado) # Carro 1 possui um atributo de INSTÂNCIA\n",
    "print('2:',carro2.estado) # Carro 2 possui um atributo de CLASSE\n",
    "print('3:',carro3.estado) # Carro 3 possui um atributo de CLASSE"
   ]
  },
  {
   "cell_type": "markdown",
   "metadata": {},
   "source": [
    "## Construtor de classe (__init__)\n",
    "O constutor de calsse no Python é chamado de __init__ e ele é usado para criar uma nova instância do objeto.  \n",
    "Caso usarmos algum parâmetro no construtor, torna-se obrigatório o envio desse parâmetro na hora da criação do objeto.  \n",
    "Com isso, podemos criar valores padrões para nossos objetos.  "
   ]
  },
  {
   "cell_type": "code",
   "execution_count": 65,
   "metadata": {},
   "outputs": [
    {
     "name": "stdout",
     "output_type": "stream",
     "text": [
      "A BMW tem o estado: semi-novo\n",
      "A Ferrari tem o estado: novo\n",
      "O Fusca tem o estado: usado\n"
     ]
    }
   ],
   "source": [
    "# Criar + Modifica  => Cada um já tem seu próprio estado inicial\n",
    "\n",
    "class Carro(object):\n",
    "    def __init__(self, parametro_estado): # Constutor\n",
    "        self.estado = parametro_estado\n",
    "        \n",
    "bmw = Carro('semi-novo')\n",
    "ferrari = Carro('novo')\n",
    "fusca = Carro('usado')\n",
    "\n",
    "print(\"A BMW tem o estado:\",bmw.estado)\n",
    "print(\"A Ferrari tem o estado:\",ferrari.estado)\n",
    "print(\"O Fusca tem o estado:\",fusca.estado)"
   ]
  },
  {
   "cell_type": "markdown",
   "metadata": {},
   "source": [
    "# Desafio 9.1 - Desafio do Carro Nomeado\n",
    "Criar uma classe Carro onde além de estado também tem um nome por padrão (Construtor).  \n",
    "Criar um método nessa classe Carro onde vai printar para gente o Nome e o Estado do carro."
   ]
  },
  {
   "cell_type": "code",
   "execution_count": 75,
   "metadata": {},
   "outputs": [],
   "source": [
    "# método Printar() => Chamar por um carro\n",
    "    # Retorna um print \"O carro {Nome} tem o estado {Estado}\"\n",
    "         # O carro BMW tem o estado Semi-Novo\n",
    "class Carro(object):\n",
    "    def __init__(self, estado, nome): # Constutor\n",
    "        self.estado = estado \n",
    "        self.nome = nome\n",
    "    \n",
    "    def mostrar_informacoes(self):\n",
    "        print(f\"O carro {self.nome} tem o estado {self.estado}\")\n",
    "        \n",
    "bmw = Carro('semi-novo','BMW')\n",
    "ferrari = Carro(nome='Ferrari',estado='novo') # Parâmetro passado de forma nomeada\n",
    "fusca = Carro(estado='usado',nome='Fusca')"
   ]
  },
  {
   "cell_type": "code",
   "execution_count": 76,
   "metadata": {},
   "outputs": [
    {
     "name": "stdout",
     "output_type": "stream",
     "text": [
      "O carro BMW tem o estado semi-novo\n",
      "O carro Ferrari tem o estado novo\n",
      "O carro Fusca tem o estado usado\n"
     ]
    }
   ],
   "source": [
    "bmw.mostrar_informacoes()\n",
    "ferrari.mostrar_informacoes()\n",
    "fusca.mostrar_informacoes()"
   ]
  },
  {
   "cell_type": "markdown",
   "metadata": {},
   "source": [
    "## Desafio ByLearner ❤"
   ]
  },
  {
   "cell_type": "code",
   "execution_count": 149,
   "metadata": {},
   "outputs": [],
   "source": [
    "# Classe Carro:\n",
    "✔    # Modelo => Definidos pelo construtor (\"Quem define é a loja (classe)\") => Tem um valor inicial para cada um\n",
    "✔    # Ano => Definidos pelo construtor (\"Quem define é a loja (classe)\") => Tem um valor inicial para cada um\n",
    "✔    # Estado => Definidos pelo construtor (\"Quem define é a loja (classe)\") => Tem um valor inicial para cada um\n",
    "✔    # Comprado => Vai ser Falso para todos => Valor inicial Padrão => É uma variáel de classe (e não de instância)\n",
    "    \n",
    "✔    # liga_desliga() => Liga e Desliga o carro => Obrigatório antes de dirigir/fazer test drive\n",
    "✔    # acelerar() => Só pode acelerar depois de comprar o carro... Mas vai tentar mesmo assim\n",
    "✔    # test_drive() => Só pode fazer antes de comprar => Não posso acelerar\n",
    "✔    # comprar() => Só pode comprar uma vez\n",
    "✔    # dirigir() => Você pode somente depois de comprar o carro => Pode acelerar\n",
    "  \n",
    "    \n",
    "# Modelo, Ano e Estado => São Atributos de Instância (Construtor)\n",
    "# Comprado => Atributo da Classe (valor padrão inicial)\n",
    "# Ligar e Desligar, Acelerar, Fazer Test Drive, Comprar e Dirigir => São Métodos"
   ]
  },
  {
   "cell_type": "code",
   "execution_count": 152,
   "metadata": {},
   "outputs": [],
   "source": [
    "class Carro(object):\n",
    "    comprado = False\n",
    "    \n",
    "    def __init__(self,modelo,ano,estado):\n",
    "        self.modelo = modelo\n",
    "        self.ano = ano\n",
    "        self.estado = estado\n",
    "        \n",
    "    def comprar(self):\n",
    "        if(self.comprado):\n",
    "            print(\"Você já comprou, não pode comprar novamente!\")\n",
    "            return # Interrompe o ciclo / Para a execução ('estilo um break')\n",
    "        \n",
    "        self.comprado = True\n",
    "        print(\"Você comprou o carro\")\n",
    "        \n",
    "    def test_drive(self):\n",
    "        if(not self.comprado):\n",
    "            print(\"Você vai fazer o test drive\")\n",
    "            self.liga_desliga(True)\n",
    "            print(\"Você está fazendo o test drive\")\n",
    "            if(self.acelerar()):\n",
    "                print(\"Você está acelerando\")\n",
    "            else:\n",
    "                print(\"Você não pode acelerar\")\n",
    "            self.liga_desliga(False)\n",
    "            print(\"Você terminou de fazer o test drive\")\n",
    "        else:\n",
    "            print(\"Você não pode fazer o test drive pois comprou o carro, vá dirigir!\")\n",
    "        \n",
    "    def dirigir(self):\n",
    "        if(self.comprado):\n",
    "            print(\"Você vai dirigir\")\n",
    "            self.liga_desliga(True)\n",
    "            print(\"Você está dirigindo\")\n",
    "            if(self.acelerar()):\n",
    "                print(\"Você está acelerando\")\n",
    "            else:\n",
    "                print(\"Você não pode acelerar\")\n",
    "            self.liga_desliga(False)\n",
    "            print(\"Você terminou de dirigir\")\n",
    "        else:\n",
    "            print(\"Você só pode dirigir se comprar o carro!\")\n",
    "        \n",
    "    def acelerar(self):\n",
    "        return self.comprado\n",
    "    \n",
    "    def liga_desliga(self, status):\n",
    "        if status: # Booleano\n",
    "            print(\"Você ligou o carro\")\n",
    "        else:\n",
    "            print(\"Você desligou o carro\")"
   ]
  },
  {
   "cell_type": "code",
   "execution_count": 155,
   "metadata": {},
   "outputs": [],
   "source": [
    "ferrari = Carro('Ferrari','2019','Novo')\n",
    "bmw = Carro(ano='2017',estado='Semi-Novo',modelo='BMW')"
   ]
  },
  {
   "cell_type": "code",
   "execution_count": 165,
   "metadata": {
    "scrolled": true
   },
   "outputs": [
    {
     "name": "stdout",
     "output_type": "stream",
     "text": [
      "Você vai dirigir\n",
      "Você ligou o carro\n",
      "Você está dirigindo\n",
      "Você está acelerando\n",
      "Você desligou o carro\n",
      "Você terminou de dirigir\n"
     ]
    }
   ],
   "source": [
    "ferrari.dirigir()"
   ]
  },
  {
   "cell_type": "markdown",
   "metadata": {},
   "source": [
    "## Desafio 9.2 Calculadora\n",
    "Classe Calculadora que contém os seguintes métodos:  \n",
    "- somar\n",
    "- subtrair\n",
    "- multiplicar\n",
    "- dividir  \n",
    "\n",
    "PS: Esses métodos funcionam apenas com dois números  \n",
    "PS2: Todos os métodos retornam o valor   \n",
    "\n",
    "\n",
    "A classe também contém as propriedades (atributos):  \n",
    "- primeiro_valor\n",
    "- segundo_valor\n",
    "\n",
    "PS3: Os valores são passados em parâmetro  \n",
    "PS4: Os valores vão ser lidos do usuário (input)  "
   ]
  },
  {
   "cell_type": "code",
   "execution_count": 174,
   "metadata": {},
   "outputs": [],
   "source": [
    "class Calculadora(object):\n",
    "    def soma(self,primeiro_valor,segundo_valor):\n",
    "        return primeiro_valor + segundo_valor;\n",
    "    \n",
    "    def subtracao(self,primeiro_valor,segundo_valor):\n",
    "        return primeiro_valor - segundo_valor\n",
    "    \n",
    "    def divisao(self,primeiro_valor,segundo_valor):\n",
    "        return primeiro_valor / segundo_valor\n",
    "    \n",
    "    def multiplicacao(self,primeiro_valor,segundo_valor):\n",
    "        return primeiro_valor * segundo_valor\n",
    "    "
   ]
  },
  {
   "cell_type": "code",
   "execution_count": 175,
   "metadata": {},
   "outputs": [
    {
     "data": {
      "text/plain": [
       "8"
      ]
     },
     "execution_count": 175,
     "metadata": {},
     "output_type": "execute_result"
    }
   ],
   "source": [
    "calc = Calculadora()\n",
    "calc.multiplicacao(4,2)"
   ]
  },
  {
   "cell_type": "markdown",
   "metadata": {},
   "source": [
    "## Desafio 9.3 Media do Aluno\n",
    "Classe Aluno possui os atributos:  \n",
    "- Nome => string\n",
    "- Status => Aprovado ou Não Aprovado (booleano)\n",
    "- Nota1 => float\n",
    "- Nota2 => float\n",
    "- Media => float \n",
    "\n",
    "Classe também possui um método:  \n",
    "- Mostrar Informações (mostrar_informacoes) => Fala o nome do aluno e se ele foi aprovado ou não\n",
    "- Calcular Média (calcular_media) => Calcula e retorna a média do aluno\n",
    "- Inserir Nota (inserir_nota) => Adiciona valor nas notas do aluno (2 parâmetros de nota)\n",
    "\n",
    "Regras:  \n",
    "- Para passar ele precisa de 6\n",
    "- Nome será enviado no construtor\n",
    "- Nota1 e Nota2 será enviado por parâmetro => Inserir Nota"
   ]
  },
  {
   "cell_type": "code",
   "execution_count": 186,
   "metadata": {},
   "outputs": [],
   "source": [
    "class Aluno(object):\n",
    "    status = False\n",
    "    \n",
    "    def __init__(self, nome):\n",
    "        self.nome = nome\n",
    "        \n",
    "    def inserir_notas(self,nota1,nota2):\n",
    "        self.nota1 = nota1\n",
    "        self.nota2 = nota2\n",
    "        \n",
    "    def calcular_media(self):\n",
    "        return (self.nota1 + self.nota2) / 2\n",
    "    \n",
    "    def mostrar_informacoes(self):\n",
    "        status = (self.calcular_media() >= 6)\n",
    "        if(status):\n",
    "            print(f\"O aluno {self.nome} foi aprovado\")\n",
    "        else:\n",
    "            print(f\"O aluno {self.nome} não foi aprovado\")\n",
    "    "
   ]
  },
  {
   "cell_type": "code",
   "execution_count": 187,
   "metadata": {},
   "outputs": [],
   "source": [
    "felipe = Aluno('Felipe')"
   ]
  },
  {
   "cell_type": "code",
   "execution_count": 188,
   "metadata": {},
   "outputs": [],
   "source": [
    "felipe.inserir_notas(10,9)"
   ]
  },
  {
   "cell_type": "code",
   "execution_count": 189,
   "metadata": {},
   "outputs": [
    {
     "name": "stdout",
     "output_type": "stream",
     "text": [
      "O aluno Felipe foi aprovado\n"
     ]
    }
   ],
   "source": [
    "felipe.mostrar_informacoes()"
   ]
  },
  {
   "cell_type": "code",
   "execution_count": 190,
   "metadata": {},
   "outputs": [
    {
     "name": "stdout",
     "output_type": "stream",
     "text": [
      "O aluno Haynes não foi aprovado\n"
     ]
    }
   ],
   "source": [
    "haynes = Aluno('Haynes')\n",
    "haynes.inserir_notas(0,1)\n",
    "haynes.mostrar_informacoes()"
   ]
  },
  {
   "cell_type": "code",
   "execution_count": null,
   "metadata": {},
   "outputs": [],
   "source": []
  }
 ],
 "metadata": {
  "kernelspec": {
   "display_name": "Python 3",
   "language": "python",
   "name": "python3"
  },
  "language_info": {
   "codemirror_mode": {
    "name": "ipython",
    "version": 3
   },
   "file_extension": ".py",
   "mimetype": "text/x-python",
   "name": "python",
   "nbconvert_exporter": "python",
   "pygments_lexer": "ipython3",
   "version": "3.7.3"
  }
 },
 "nbformat": 4,
 "nbformat_minor": 2
}
