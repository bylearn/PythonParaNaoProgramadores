{
 "cells": [
  {
   "cell_type": "markdown",
   "metadata": {},
   "source": [
    "## Estruturas de laço (WHILE e FOR)\n",
    "\n",
    "Para percorrer sequências previamente conhecidas utilize o laço for.\n",
    "\n",
    "O que é mesmo uma sequência?\n",
    "\n",
    "Sequências são coleções ordenadas embutidas: strings, listas, tuplas e buffers."
   ]
  },
  {
   "cell_type": "code",
   "execution_count": 1,
   "metadata": {},
   "outputs": [
    {
     "name": "stdout",
     "output_type": "stream",
     "text": [
      "p\n",
      "y\n",
      "t\n",
      "h\n",
      "o\n",
      "n\n"
     ]
    }
   ],
   "source": [
    "lista = [\"p\", \"y\", \"t\", \"h\", \"o\", \"n\"]\n",
    "\n",
    "for item in lista:\n",
    "    print (item)"
   ]
  },
  {
   "cell_type": "code",
   "execution_count": 3,
   "metadata": {},
   "outputs": [
    {
     "name": "stdout",
     "output_type": "stream",
     "text": [
      "0 p\n",
      "1 y\n",
      "2 t\n",
      "3 h\n",
      "4 o\n",
      "5 n\n"
     ]
    }
   ],
   "source": [
    "#Se for necessário um índice numérico, utilize a função interna enumerate.\n",
    "\n",
    "for key, value in enumerate([\"p\", \"y\", \"t\", \"h\", \"o\", \"n\"]):\n",
    "    print (key, value)"
   ]
  },
  {
   "cell_type": "code",
   "execution_count": 4,
   "metadata": {},
   "outputs": [
    {
     "name": "stdout",
     "output_type": "stream",
     "text": [
      "0\n",
      "1\n",
      "2\n",
      "3\n",
      "4\n"
     ]
    }
   ],
   "source": [
    "# Podemos utilizar o laço for com outras funções como por exemplo o [range]()\n",
    "\n",
    "for i in range(5):\n",
    "    print(i)"
   ]
  },
  {
   "cell_type": "markdown",
   "metadata": {},
   "source": [
    "## while\n",
    "\n",
    "Um laço simples com while."
   ]
  },
  {
   "cell_type": "code",
   "execution_count": 5,
   "metadata": {},
   "outputs": [
    {
     "name": "stdout",
     "output_type": "stream",
     "text": [
      "0\n",
      "1\n",
      "2\n",
      "3\n",
      "4\n",
      "5\n"
     ]
    }
   ],
   "source": [
    "count = 0\n",
    "while count <= 5:\n",
    "    print(count)\n",
    "    count += 1"
   ]
  },
  {
   "cell_type": "code",
   "execution_count": 6,
   "metadata": {},
   "outputs": [
    {
     "name": "stdout",
     "output_type": "stream",
     "text": [
      "0\n",
      "1\n",
      "2\n",
      "3\n"
     ]
    }
   ],
   "source": [
    "# Exemplo com break.\n",
    "\n",
    "count = 0\n",
    "while count <= 5:\n",
    "    print(count)\n",
    "    count += 1\n",
    "    if count > 3: break"
   ]
  },
  {
   "cell_type": "markdown",
   "metadata": {},
   "source": [
    "## continue e break\n",
    "\n",
    "Para iniciar imediatamente a próxima volta do loop, use o comando continue.\n",
    "\n",
    "Para encerrar imediatamente o loop, use o comando break\n",
    "\n",
    "## for-else ? while-else ?\n",
    "\n",
    "Esquisito, rsss! Mas é isso mesmo.\n",
    "\n",
    "Em Python podemos colocar um else no laço de repetição e que será executado no final da iteração."
   ]
  },
  {
   "cell_type": "code",
   "execution_count": 7,
   "metadata": {},
   "outputs": [
    {
     "name": "stdout",
     "output_type": "stream",
     "text": [
      "0\n",
      "1\n",
      "2\n",
      "3\n",
      "4\n",
      "5\n",
      "após iteração\n",
      "0\n",
      "1\n",
      "2\n",
      "3\n",
      "4\n",
      "após iteração\n"
     ]
    }
   ],
   "source": [
    "#\n",
    "# while\n",
    "#\n",
    "count = 0\n",
    "while count <= 5:\n",
    "    print(count)\n",
    "    count += 1\n",
    "else:\n",
    "    print('após iteração')\n",
    "\n",
    "#\n",
    "# for\n",
    "#\n",
    "for i in range(5):\n",
    "    print(i)\n",
    "else:\n",
    "    print('após iteração')"
   ]
  },
  {
   "cell_type": "markdown",
   "metadata": {},
   "source": [
    "## Diferença entre For e While\n",
    "\n",
    "O laço **for** é geralmente usado quando você sabe o número de iterações de antemão. Por exemplo para percorrer um array de 10 elementos que você pode usar para loop e incrementar o contador 0-9 (ou 1 a 10).\n",
    "\n",
    "Por outro lado **while** é usado quando você tem uma idéia sobre a faixa de valores em que para fazer uma iteração, mas não sei o número exato de iterações que ocorrem."
   ]
  }
 ],
 "metadata": {
  "kernelspec": {
   "display_name": "Python 3",
   "language": "python",
   "name": "python3"
  },
  "language_info": {
   "codemirror_mode": {
    "name": "ipython",
    "version": 3
   },
   "file_extension": ".py",
   "mimetype": "text/x-python",
   "name": "python",
   "nbconvert_exporter": "python",
   "pygments_lexer": "ipython3",
   "version": "3.7.4"
  }
 },
 "nbformat": 4,
 "nbformat_minor": 2
}
