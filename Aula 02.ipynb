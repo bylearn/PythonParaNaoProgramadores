{
 "cells": [
  {
   "cell_type": "markdown",
   "metadata": {},
   "source": [
    "## Estrutura de um programa\n",
    "\n",
    "Utilizaremos a seguinte estrutura para um programa em Python."
   ]
  },
  {
   "cell_type": "code",
   "execution_count": null,
   "metadata": {},
   "outputs": [],
   "source": [
    "def main():\n",
    "    # comandos\n",
    "    pass\n",
    "\n",
    "\n",
    "#------\n",
    "# a linha a seguir inicia a execução do programa\n",
    "main()"
   ]
  },
  {
   "cell_type": "markdown",
   "metadata": {},
   "source": [
    "## Variáveis\n",
    "\n",
    "Uma variável é um nome que se refere a um valor. Um comando de atribuição cria uma nova variável e lhe dá um valor.\n",
    "Variáveis são usadas para guardarmos valores que serão usados mais tarde no programa.\n",
    "\n",
    "## Atribuição\n",
    "\n",
    "Um comando é uma unidade de código que o interpretador pode executar. Um comando de atribuição tem a seguinte forma:"
   ]
  },
  {
   "cell_type": "code",
   "execution_count": null,
   "metadata": {},
   "outputs": [],
   "source": [
    "variável = expressão"
   ]
  },
  {
   "cell_type": "markdown",
   "metadata": {},
   "source": [
    "Significado:\n",
    "\n",
    "- o valor da expressão é calculado;\n",
    "- a variável é criada;\n",
    "- a variável passa a fazer referência/guardar o valor\n",
    "\n",
    "**Exemplos**:"
   ]
  },
  {
   "cell_type": "code",
   "execution_count": null,
   "metadata": {},
   "outputs": [],
   "source": [
    "num  = 15\n",
    "soma = 0  # este é um comentário\n",
    "soma = soma + num\n",
    "a = 3\n",
    "b = 4"
   ]
  },
  {
   "cell_type": "markdown",
   "metadata": {},
   "source": [
    "Cada nome de variáveis é uma letra ou o símbolo '_' (underscore) seguida de letras, números e '_'. Atenção, maiúscula é diferente de minúscula. Assim maior e Maior são duas variáveis diferentes.\n",
    "\n",
    "### Exercício 2.1\n",
    "\n",
    "Dados dois inteiros a e b, calcular a sua soma.\n",
    "\n",
    "Tentativa 0: execute o programa abaixo e veja o que acontece."
   ]
  },
  {
   "cell_type": "code",
   "execution_count": null,
   "metadata": {},
   "outputs": [],
   "source": [
    "def main():\n",
    "    a = 3\n",
    "    b = 4\n",
    "    soma = a + b\n",
    "    print(\"A soma de a + b eh igual a soma\")\n",
    "\n",
    "main()"
   ]
  },
  {
   "cell_type": "markdown",
   "metadata": {},
   "source": [
    "Observe que tudo entre aspas (”) define um texto ou string. Mas queremos imprimir o valor das variáveis e não o nome delas.\n",
    "\n",
    "```print()```\n",
    "\n",
    "A função print() é utilizada para o programa exibir mensagens. Por exemplo:"
   ]
  },
  {
   "cell_type": "code",
   "execution_count": null,
   "metadata": {},
   "outputs": [],
   "source": [
    "print(\"Olá, mundo!\")\n",
    "print(\"A soma é\", soma)"
   ]
  },
  {
   "cell_type": "markdown",
   "metadata": {},
   "source": [
    "Escreve na tela do computador\n",
    "\n",
    "```Olá, mundo!\n",
    "A soma é XXXX```\n",
    "\n",
    "onde XXXX é o valor ao qual a variável soma se refere.\n",
    "\n",
    "Tentativa 1: execute o programa abaixo e veja o que acontece.\n",
    "\n",
    "Observe que o print() recebeu dois valores separados por vírgula:\n",
    "\n",
    "        um string (entre aspas) e\n",
    "        o nome de uma variável\n",
    "\n",
    "O string é impresso diretamente (pois esse é o seu valor) e, ao invés de imprimir o nome da variável soma, o print() exibe o valor ao qual a variável soma se refere, ou, dito mais simplesmente, o valor da variável soma.\n",
    "\n",
    "Mas e como imprimir os valores de a e b ao invés de seus nomes?\n",
    "\n",
    "Tentativa 2: execute o programa abaixo e veja o que acontece."
   ]
  },
  {
   "cell_type": "code",
   "execution_count": null,
   "metadata": {},
   "outputs": [],
   "source": [
    "def main():\n",
    "    a = 3\n",
    "    b = 4\n",
    "    soma = a + b\n",
    "    print(\"A soma de\", a, \"+\", b, \"eh igual a\", soma)\n",
    "\n",
    "main()"
   ]
  },
  {
   "cell_type": "markdown",
   "metadata": {},
   "source": [
    "Agora sim, a mensagem ficou bem mais clara. Mas como fazer com que os valores a serem somados sejam definidos por um usuário?\n",
    "\n",
    "Tentativa 3: execute o programa abaixo e veja o que acontece."
   ]
  },
  {
   "cell_type": "code",
   "execution_count": null,
   "metadata": {},
   "outputs": [],
   "source": [
    "def main():\n",
    "    a = input(\"Digite o primeiro numero: \")\n",
    "    b = input(\"Digite o segundo numero: \")\n",
    "    soma = a + b\n",
    "    print(\"A soma de\", a, \"+\", b, \"eh igual a\", soma)\n",
    "\n",
    "main()"
   ]
  },
  {
   "cell_type": "markdown",
   "metadata": {},
   "source": [
    "```input()```\n",
    "\n",
    "Um programa pode utilizar a função input() para receber os dados ou valores que um usuário fornece através do teclado. O formato típico de um comando leitura é"
   ]
  },
  {
   "cell_type": "code",
   "execution_count": null,
   "metadata": {},
   "outputs": [],
   "source": [
    "variável = input(\"Prompt\")"
   ]
  },
  {
   "cell_type": "markdown",
   "metadata": {},
   "source": [
    "O programa pára e espera pela digitação de algum texto seguido do ENTER. \"Prompt\" é opcional e pode indicar o que programa deseja. Por exemplo,"
   ]
  },
  {
   "cell_type": "code",
   "execution_count": null,
   "metadata": {},
   "outputs": [],
   "source": [
    "nome = input(\"Qual é o seu nome? \")\n",
    "print(nome, \", me fale sobre você.\")"
   ]
  },
  {
   "cell_type": "markdown",
   "metadata": {},
   "source": [
    "O valor que o usuário fornece e que será retornada pelo input() é sempre um string e não um número. Quando o operador + é realizado sobre strings, eles são concatenados (“grudados”) em vez de adicionados. Como veremos mais tarde, a operação de concatenar strings através do operador + é muito útil.\n",
    "\n",
    "No momento desejamos adicionar dois números inteiros. Precisamos, portanto, de um maneira para converter um string em um número inteiro, para que o Python obtenha a soma desses números. Para ler um valor e converté-lo para um número inteiro utilizamos a função de conversão int().\n",
    "\n",
    "### Strings\n",
    "Uma string é texto entre aspas (\") ou apóstrofo (')\n",
    "\n",
    "### Valores\n",
    "Programas manipulam valores. Valores podem ser de diferentes tipos ou classes. Até agora vimos que um valor pode ser um número inteiro (classe int) ou um texto (classe str). Por exemplo, \"Oi\" é um string (valor da classe str), 23 é um inteiro (valor da classe int), e \"23\" é um string (valor da classe str).\n",
    "\n",
    "```\n",
    ">>> type(\"Oi\")\n",
    "<class 'str'>\n",
    ">>> type(23)\n",
    "<class 'int'>\n",
    ">>> type(\"23\")\n",
    "<class 'str'>\n",
    "```\n",
    "\n",
    "Operacões sobre strings\n",
    "\n",
    "O operador + concatena dois strings.\n",
    "\n",
    "Tentativa 4: execute o programa abaixo e veja como ele se comporta."
   ]
  },
  {
   "cell_type": "code",
   "execution_count": null,
   "metadata": {},
   "outputs": [],
   "source": [
    "def main():\n",
    "    # a_str e b_str guardam strings\n",
    "    a_str = input(\"Digite o primeiro numero: \")\n",
    "    b_str = input(\"Digite o segundo numero: \")\n",
    "\n",
    "    # a_int e b_int guardam inteiros\n",
    "    a_int = int(a_str) # converte string/texto para inteiro\n",
    "    b_int = int(b_str) # converte string/texto para inteiro\n",
    "\n",
    "    # calcule a soma entre valores que são números inteiros\n",
    "    soma = a_int + b_int\n",
    "\n",
    "    # imprima a soma\n",
    "    print(\"A soma de\", a_int, \"+\", b_int, \"eh igual a\", soma)\n",
    "\n",
    "main()"
   ]
  },
  {
   "cell_type": "markdown",
   "metadata": {},
   "source": [
    "### int()\n",
    "\n",
    "A função int() converte um dado string para um número inteiro.\n",
    "\n",
    "```\n",
    ">>> a = int(\"123\")\n",
    ">>> type (a)\n",
    "<class 'int'>\n",
    ">>> print(\"valor inteiro =\", a)\n",
    "valor inteiro = 123\n",
    "```\n",
    "\n",
    "O string deve ser algo como \"123\" ou \"-5\", pois senão ocorrerá um erro.\n",
    "\n",
    "```\n",
    ">>> a = int(\"1.5\")\n",
    "Traceback (most recent call last):\n",
    "  File \"<stdin>\", line 1, in <module>\n",
    "ValueError: invalid literal for int() with base 10: '1.5'\n",
    ">>> a = int(\"a156\")\n",
    "Traceback (most recent call last):\n",
    "  File \"<stdin>\", line 1, in <module>\n",
    "ValueError: invalid literal for int() with base 10: 'a156'\n",
    "```\n",
    "\n",
    "Como não precisamos guardar as respostas na forma de texto, podemos simplificar o programa compondo as funções int() e input() da seguinte forma:\n",
    "\n",
    "Tentativa 5:"
   ]
  },
  {
   "cell_type": "code",
   "execution_count": null,
   "metadata": {},
   "outputs": [],
   "source": [
    "def main():\n",
    "    a = int(input(\"Digite o primeiro numero: \"))\n",
    "    b = int(input(\"Digite o segundo numero: \"))\n",
    "    soma = a + b\n",
    "    print(\"A soma de\", a, \"+\", b, \"eh igual a\", soma)\n",
    "\n",
    "main()"
   ]
  },
  {
   "cell_type": "code",
   "execution_count": null,
   "metadata": {},
   "outputs": [],
   "source": []
  },
  {
   "cell_type": "code",
   "execution_count": null,
   "metadata": {},
   "outputs": [],
   "source": []
  },
  {
   "cell_type": "code",
   "execution_count": null,
   "metadata": {},
   "outputs": [],
   "source": []
  },
  {
   "cell_type": "code",
   "execution_count": null,
   "metadata": {},
   "outputs": [],
   "source": []
  }
 ],
 "metadata": {
  "kernelspec": {
   "display_name": "Python 3",
   "language": "python",
   "name": "python3"
  },
  "language_info": {
   "codemirror_mode": {
    "name": "ipython",
    "version": 3
   },
   "file_extension": ".py",
   "mimetype": "text/x-python",
   "name": "python",
   "nbconvert_exporter": "python",
   "pygments_lexer": "ipython3",
   "version": "3.7.4"
  }
 },
 "nbformat": 4,
 "nbformat_minor": 2
}
